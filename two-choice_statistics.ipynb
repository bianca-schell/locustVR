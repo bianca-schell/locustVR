{
 "cells": [
  {
   "cell_type": "code",
   "execution_count": 1,
   "metadata": {},
   "outputs": [],
   "source": [
    "import numpy as np\n",
    "import pandas as pd\n",
    "import cv2\n",
    "import gc\n",
    "import matplotlib.pyplot as plt\n",
    "from scipy.optimize import curve_fit"
   ]
  },
  {
   "cell_type": "code",
   "execution_count": 2,
   "metadata": {},
   "outputs": [],
   "source": [
    "window_size = 50\n",
    "randomisations = 10"
   ]
  },
  {
   "cell_type": "code",
   "execution_count": 3,
   "metadata": {},
   "outputs": [],
   "source": [
    "post0_x = 2.0 * np.cos(np.pi / 9)\n",
    "post0_y = 2.0 * -np.sin(np.pi / 9)\n",
    "\n",
    "post1_x = 2.0 * np.cos(np.pi / 9)\n",
    "post1_y = 2.0 * np.sin(np.pi / 9)"
   ]
  },
  {
   "cell_type": "code",
   "execution_count": 4,
   "metadata": {},
   "outputs": [
    {
     "data": {
      "text/html": [
       "<div>\n",
       "<style scoped>\n",
       "    .dataframe tbody tr th:only-of-type {\n",
       "        vertical-align: middle;\n",
       "    }\n",
       "\n",
       "    .dataframe tbody tr th {\n",
       "        vertical-align: top;\n",
       "    }\n",
       "\n",
       "    .dataframe thead th {\n",
       "        text-align: right;\n",
       "    }\n",
       "</style>\n",
       "<table border=\"1\" class=\"dataframe\">\n",
       "  <thead>\n",
       "    <tr style=\"text-align: right;\">\n",
       "      <th></th>\n",
       "      <th>Unnamed: 0</th>\n",
       "      <th>rotated_x</th>\n",
       "      <th>rotated_y</th>\n",
       "      <th>t</th>\n",
       "      <th>event</th>\n",
       "      <th>t2</th>\n",
       "    </tr>\n",
       "  </thead>\n",
       "  <tbody>\n",
       "    <tr>\n",
       "      <th>0</th>\n",
       "      <td>0</td>\n",
       "      <td>-0.030048</td>\n",
       "      <td>0.047921</td>\n",
       "      <td>0.000000</td>\n",
       "      <td>0</td>\n",
       "      <td>0</td>\n",
       "    </tr>\n",
       "    <tr>\n",
       "      <th>1</th>\n",
       "      <td>1</td>\n",
       "      <td>-0.039665</td>\n",
       "      <td>0.052580</td>\n",
       "      <td>0.776775</td>\n",
       "      <td>0</td>\n",
       "      <td>0</td>\n",
       "    </tr>\n",
       "    <tr>\n",
       "      <th>2</th>\n",
       "      <td>2</td>\n",
       "      <td>-0.049949</td>\n",
       "      <td>0.050922</td>\n",
       "      <td>1.767786</td>\n",
       "      <td>0</td>\n",
       "      <td>1</td>\n",
       "    </tr>\n",
       "    <tr>\n",
       "      <th>3</th>\n",
       "      <td>3</td>\n",
       "      <td>-0.059154</td>\n",
       "      <td>0.045630</td>\n",
       "      <td>2.086350</td>\n",
       "      <td>0</td>\n",
       "      <td>2</td>\n",
       "    </tr>\n",
       "    <tr>\n",
       "      <th>4</th>\n",
       "      <td>4</td>\n",
       "      <td>-0.066259</td>\n",
       "      <td>0.037044</td>\n",
       "      <td>2.451488</td>\n",
       "      <td>0</td>\n",
       "      <td>3</td>\n",
       "    </tr>\n",
       "  </tbody>\n",
       "</table>\n",
       "</div>"
      ],
      "text/plain": [
       "   Unnamed: 0  rotated_x  rotated_y         t  event  t2\n",
       "0           0  -0.030048   0.047921  0.000000      0   0\n",
       "1           1  -0.039665   0.052580  0.776775      0   0\n",
       "2           2  -0.049949   0.050922  1.767786      0   1\n",
       "3           3  -0.059154   0.045630  2.086350      0   2\n",
       "4           4  -0.066259   0.037044  2.451488      0   3"
      ]
     },
     "execution_count": 4,
     "metadata": {},
     "output_type": "execute_result"
    }
   ],
   "source": [
    "df = pd.read_csv(\"two-choice.csv\")\n",
    "\n",
    "xs = df['rotated_x'].values\n",
    "ys = df['rotated_y'].values\n",
    "ts = df['t2'].values\n",
    "    \n",
    "df.head()"
   ]
  },
  {
   "cell_type": "code",
   "execution_count": 5,
   "metadata": {},
   "outputs": [],
   "source": [
    "nbins = 500\n",
    "peak_threshold = 0.9\n",
    "\n",
    "\n",
    "def density_map(x, y, stats=True):\n",
    "    val = 201\n",
    "\n",
    "    blur = (11, 11) if stats == True else (val, val)\n",
    "    r = [[0, post0_x], [post0_y, post1_y]]\n",
    "\n",
    "    h, xedge, yedge, image = plt.hist2d(x, y, bins=nbins, normed=True, range=r)\n",
    "    tmp_img = np.rot90(cv2.GaussianBlur(h, blur, 0))\n",
    "\n",
    "    tmp_img /= np.max(tmp_img)\n",
    "\n",
    "    return tmp_img"
   ]
  },
  {
   "cell_type": "code",
   "execution_count": 6,
   "metadata": {},
   "outputs": [],
   "source": [
    "def fitfunc(x, p, q, r):\n",
    "    return r * (np.abs((x - p)) ** q)\n",
    "\n",
    "\n",
    "def fitfunc_vec_self(x, p, q, r):\n",
    "    y = np.zeros(x.shape)\n",
    "    for i in range(len(y)):\n",
    "        y[i] = fitfunc(x[i], p, q, r)\n",
    "    return y"
   ]
  },
  {
   "cell_type": "code",
   "execution_count": 7,
   "metadata": {},
   "outputs": [
    {
     "name": "stderr",
     "output_type": "stream",
     "text": [
      "/home/user/.local/lib/python3.6/site-packages/ipykernel_launcher.py:11: MatplotlibDeprecationWarning: The 'normed' parameter of hist2d() has been renamed 'density' since Matplotlib 3.1; support for the old name will be dropped in 3.3.\n",
      "  # This is added back by InteractiveShellApp.init_path()\n"
     ]
    },
    {
     "name": "stdout",
     "output_type": "stream",
     "text": [
      "here\n"
     ]
    },
    {
     "data": {
      "image/png": "[encoded data removed]",
      "text/plain": [
       "<Figure size 432x288 with 1 Axes>"
      ]
     },
     "metadata": {},
     "output_type": "display_data"
    }
   ],
   "source": [
    "positive_bif = []\n",
    "\n",
    "while True:\n",
    "    x_fit = []\n",
    "    y_fit = []\n",
    "\n",
    "    bif_pt = 1\n",
    "    params1 = [1.2, 1, 1]\n",
    "\n",
    "    x_sub = np.concatenate((xs, xs))\n",
    "    y_sub = np.concatenate((ys, -ys))\n",
    "    np.random.shuffle(y_sub)\n",
    "    t_sub = np.concatenate((ts, ts))\n",
    "\n",
    "    tmin = 0\n",
    "    tmax = 250\n",
    "    for idx, t in enumerate(range(tmin, tmax-window_size)):\n",
    "        window_min = t\n",
    "        window_max = t + window_size\n",
    "\n",
    "        x = x_sub[(t_sub > window_min) & (t_sub < window_max)]\n",
    "        y = y_sub[(t_sub > window_min) & (t_sub < window_max)]\n",
    "        tmp_img2 = density_map(x, y, stats=True)\n",
    "\n",
    "        if idx == 0:\n",
    "            tmp_img = tmp_img2\n",
    "        else:\n",
    "            tmp_img = np.fmax(tmp_img2, tmp_img)\n",
    "\n",
    "    x_fit = np.where(tmp_img > peak_threshold)[1] * post0_x / nbins\n",
    "    y_fit = (\n",
    "        np.where(tmp_img > peak_threshold)[0] * (post0_y - post1_y) / nbins + post1_y\n",
    "    )\n",
    "\n",
    "    x_fit = x_fit\n",
    "    y_fit = np.abs(y_fit)\n",
    "    y_fit = y_fit[x_fit > bif_pt]\n",
    "    x_fit = x_fit[x_fit > bif_pt]\n",
    "\n",
    "    try:\n",
    "        for i in range(0, 10):\n",
    "            fit_params, pcov = curve_fit(\n",
    "                fitfunc_vec_self, x_fit, y_fit, p0=params1, maxfev=10000\n",
    "            )\n",
    "            params1 = fit_params\n",
    "\n",
    "        if (\n",
    "            (params1[0] > 0)\n",
    "            & (params1[0] < post0_x)\n",
    "            & (params1[1] > 0.1)\n",
    "            & (params1[2] > 0.1)\n",
    "        ):\n",
    "            positive_bif.append(1)\n",
    "        else:\n",
    "            positive_bif.append(0)\n",
    "    except RuntimeError:\n",
    "        pass\n",
    "\n",
    "    if len(positive_bif) >= randomisations:\n",
    "        break\n",
    "\n",
    "    if len(positive_bif) % 10 == 0:\n",
    "        print(len(positive_bif))\n",
    "        \n",
    "    del x_sub\n",
    "    del y_sub\n",
    "    del t_sub\n",
    "    del tmp_img\n",
    "    del tmp_img2\n",
    "    del x_fit\n",
    "    del y_fit\n",
    "    gc.collect()"
   ]
  },
  {
   "cell_type": "code",
   "execution_count": 8,
   "metadata": {},
   "outputs": [
    {
     "data": {
      "text/plain": [
       "(0.0, 2)"
      ]
     },
     "execution_count": 8,
     "metadata": {},
     "output_type": "execute_result"
    }
   ],
   "source": [
    "np.sum(positive_bif) / len(positive_bif), len(positive_bif)"
   ]
  },
  {
   "cell_type": "code",
   "execution_count": null,
   "metadata": {},
   "outputs": [],
   "source": []
  }
 ],
 "metadata": {
  "kernelspec": {
   "display_name": "Python 3",
   "language": "python",
   "name": "python3"
  },
  "language_info": {
   "codemirror_mode": {
    "name": "ipython",
    "version": 3
   },
   "file_extension": ".py",
   "mimetype": "text/x-python",
   "name": "python",
   "nbconvert_exporter": "python",
   "pygments_lexer": "ipython3",
   "version": "3.6.3"
  }
 },
 "nbformat": 4,
 "nbformat_minor": 2
}
