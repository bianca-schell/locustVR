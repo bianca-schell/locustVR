{
 "cells": [
  {
   "cell_type": "code",
   "execution_count": 1,
   "metadata": {},
   "outputs": [],
   "source": [
    "import numpy as np\n",
    "import pandas as pd\n",
    "import matplotlib.pyplot as plt\n",
    "import seaborn as sns\n",
    "import sqlite3\n",
    "import glob\n",
    "import sys\n",
    "import copy\n",
    "import cv2\n",
    "from imp import reload\n",
    "from scipy.optimize import curve_fit\n",
    "from sklearn.mixture import GaussianMixture\n",
    "from scipy.stats import norm"
   ]
  },
  {
   "cell_type": "code",
   "execution_count": 2,
   "metadata": {},
   "outputs": [],
   "source": [
    "dataDIR = '/mnt/ssd1/Documents/Vivek/locustVR/data/'\n",
    "projectDB = '/mnt/ssd1/Documents/Vivek/locustVR/databases/locustProjects_2_3post-june.db'\n",
    "expDB = '/mnt/ssd1/Documents/Vivek/locustVR/databases/locustExperiments_2_3post-june.db'\n",
    "\n",
    "\n",
    "nPosts = 3\n",
    "isolation_type = 'signal' # this determines which tracks we heatmap with. It can be 'signal', 'short_noise' or 'long_noise'\n",
    "spatial_discretisation_step = 0.01"
   ]
  },
  {
   "cell_type": "code",
   "execution_count": 3,
   "metadata": {},
   "outputs": [],
   "source": [
    "def rotate(xy, radians):\n",
    "    x, y = xy\n",
    "    c, s = np.cos(radians), np.sin(radians)\n",
    "    j = np.matrix([[c, s], [-s, c]])\n",
    "    m = np.dot(j, [x, y])\n",
    "\n",
    "    return m"
   ]
  },
  {
   "cell_type": "code",
   "execution_count": 4,
   "metadata": {},
   "outputs": [
    {
     "name": "stdout",
     "output_type": "stream",
     "text": [
      "fetched : [('2ac1867c-dc2a-42da-9576-8c7a6482b366',), ('41433f98-28ba-450e-89cf-340118383727',), ('470d6365-97f3-47b6-af16-0e0edb63f5c7',), ('44806f65-a52f-40f3-9c1e-bce254fcf3e4',), ('3801ae23-7edc-4d97-a9d0-37cbafd4a77f',), ('b5e408fa-03d4-4cbb-8c18-c7d03a8d331e',), ('c1800e9b-1d24-494c-a99b-0a34238f8446',), ('a44fa020-5b5a-4f82-ab63-8a6bdbdcfc85',), ('d5da8fc7-9c3b-4abe-bdc6-d3af900b495c',), ('b7c6e8c3-aadb-4e26-985e-5085fe24251e',), ('2c4b5bc5-22c9-4380-bd55-61d0e0eee296',), ('7eb9733b-0f64-4129-91e5-9067414b3054',), ('f4aa8f77-23b7-4063-b0e5-ea42e439b122',), ('2a405f3a-5738-4509-ac23-82392565e553',), ('be60edb9-0f62-4768-915c-d04105e00806',), ('194a3278-a370-4832-ad2d-e3d5b2aa4dce',), ('95941512-5a5b-4b66-9819-20042b9b81e3',), ('125d2dde-8289-4db0-8e25-8ae2e9b18b8c',), ('f14a9590-27f1-4625-9824-a9cc52aa9ca6',), ('f8edb6e1-dddf-48b9-bd48-ae5e73602e2b',), ('7f88bffe-2e48-4b27-a121-58b1cadaa86f',), ('b423b4c6-2df5-4351-9a2e-bc6d7e267332',), ('3d8ef1e3-c39d-42b9-923c-f50f2e94507d',), ('82956bf6-9e29-47d1-b6fd-e4f8da9d87c7',), ('262b6f03-da09-4c58-a19e-4dace7f47c94',), ('ded07464-75d8-4031-8e79-03ba477980ca',), ('ca517af4-339f-4bda-8363-3d8ec357ea42',), ('9e117261-7fa1-47ab-a2b4-9b3176c546ab',), ('d234e1cf-4469-4b87-8178-7537ba728ea2',), ('1ce4d891-270e-4d17-9100-c9f2bc14ea87',), ('35f42e7c-7424-4461-b3e0-deda856e08b6',), ('64d746ba-d92b-4cce-8439-384d4665097c',), ('d24df86f-8dad-412f-ad32-a2b1e6e7a660',), ('01ba595c-2f7b-48f4-8486-0be986fc5ccd',), ('850f78c2-b3ff-4b36-aaab-7713edfb28bd',), ('fba15ce4-31e8-48d3-b620-4be2b792b550',), ('36304250-3945-4cb5-99ab-aab8b21a3e59',), ('9d230fba-d8d4-42b2-bf43-8f3a5bf73054',), ('86be123f-89b3-414a-99df-ac80ee9cff9a',), ('daaf2f34-c03a-4a84-b5d0-d19d62f0fa70',), ('2b1f4849-6e09-4ebe-bc85-4080cd32705c',), ('88c77105-0e56-4baa-8b3d-b51dda727c81',), ('fadd00c7-fd61-452c-a4b5-de7965055083',), ('ae057d29-274a-4629-b4cc-24a6e1230064',), ('9698c2cd-6704-48fb-8fdc-bc06a4d9f729',), ('36ca4102-4312-4a7a-8f2c-b29f27edca5d',), ('1e1fa8fc-e5fd-4663-8e95-a1fb3dfe5a09',), ('e375996d-87d4-4332-a7a4-e7e15287e3ac',), ('ba0c8deb-cea0-408e-8dab-1855c790b2e5',), ('a39c6863-b25d-487b-b333-5d276007f510',)]\n"
     ]
    }
   ],
   "source": [
    "# establish a connecttion to the project database\n",
    "conn = sqlite3.connect(projectDB)\n",
    "# connect a cursor that goes through the project database\n",
    "cursorProject = conn.cursor()\n",
    "# establish a second connecttion to the experiment database\n",
    "conn2 = sqlite3.connect(expDB)\n",
    "# connect a cursor that goes through the experiment database\n",
    "cursorExperiment = conn2.cursor()\n",
    "\n",
    "# pick experiments from specified project\n",
    "cursorExperiment.execute(\"Select expId from experiments where project = ? and exp >= ? and exp < ?\",('DecisionGeometry', 0, 10))\n",
    "fetched = cursorExperiment.fetchall()\n",
    "print('fetched : ' + str(fetched))"
   ]
  },
  {
   "cell_type": "code",
   "execution_count": 5,
   "metadata": {},
   "outputs": [
    {
     "name": "stderr",
     "output_type": "stream",
     "text": [
      "/home/user/.local/lib/python3.6/site-packages/pandas/core/frame.py:6692: FutureWarning: Sorting because non-concatenation axis is not aligned. A future version\n",
      "of pandas will change to not sort by default.\n",
      "\n",
      "To accept the future behavior, pass 'sort=False'.\n",
      "\n",
      "To retain the current behavior and silence the warning, pass 'sort=True'.\n",
      "\n",
      "  sort=sort)\n"
     ]
    }
   ],
   "source": [
    "angles = []\n",
    "dataDict0 = []\n",
    "dataDict1 = []\n",
    "dataDict2 = []\n",
    "rot_post0 = []\n",
    "for uuid in range(0,len(fetched)):\n",
    "    cursorExperiment.execute(\"Select exp from experiments where expId = ?\", (fetched[uuid][0],))\n",
    "    fetch_exp = cursorExperiment.fetchall()[0][0]\n",
    "    cursorExperiment.execute(\"Select replicate from experiments where expId = ?\", (fetched[uuid][0],))\n",
    "    fetch_rep = cursorExperiment.fetchall()[0][0]\n",
    "\n",
    "    cursorProject.execute(\"Select post0 from projects where project = ? and exp = ? and replicate = ?\",('DecisionGeometry', fetch_exp, fetch_rep))\n",
    "    dataDict0.append(cursorProject.fetchall())\n",
    "    cursorProject.execute(\"Select post1 from projects where project = ? and exp = ? and replicate = ?\",('DecisionGeometry', fetch_exp, fetch_rep))\n",
    "    dataDict1.append(cursorProject.fetchall())\n",
    "    cursorProject.execute(\"Select post2 from projects where project = ? and exp = ? and replicate = ?\",('DecisionGeometry', fetch_exp, fetch_rep))\n",
    "    dataDict2.append(cursorProject.fetchall())\n",
    "\n",
    "    tmp = pd.read_csv(dataDIR + fetched[uuid][0] + \"/results.csv\", names = [\"x\", \"y\", \"z\", \"event\", \"t\", \"nStimuli\"])\n",
    "    tmp['uuid'] = uuid\n",
    "    tmp['angle'] = np.nan\n",
    "    tmp['post0_x'] = tmp['post0_y'] = tmp['post1_x'] = tmp['post1_y'] = tmp['post2_x'] = tmp['post2_y'] = np.nan\n",
    "    \n",
    "    tmp3 = pd.DataFrame(columns=['index','x','y','z','event','t','nStimuli','uuid','angle','post0_x','post0_y','post1_x','post1_y','selected'])\n",
    "    for i in np.unique(tmp['nStimuli']):\n",
    "        for j in np.unique(tmp.loc[tmp['nStimuli'] == i, 'event']):\n",
    "            tmp2 = tmp.loc[(tmp['nStimuli'] == i) & (tmp['event'] == j),:]\n",
    "            tmp2 = tmp2.reset_index()\n",
    "            tmp2['selected'] = 0\n",
    "\n",
    "            start_x = tmp2.loc[0,'x']\n",
    "            start_y = tmp2.loc[0,'y']\n",
    "            for k in range(1,len(tmp2)):\n",
    "                x = tmp2.loc[k,'x']\n",
    "                y = tmp2.loc[k,'y']\n",
    "                dist = np.sqrt((start_x - x) ** 2 + (start_y - y) ** 2)\n",
    "                if dist > spatial_discretisation_step:\n",
    "                    tmp2.loc[k,'selected'] = 1\n",
    "                    start_x = x\n",
    "                    start_y = y\n",
    "            tmp3 = tmp3.append(tmp2[tmp2['selected'] == 1])\n",
    "            \n",
    "    for a in range(1,4):\n",
    "        tmp3.loc[tmp3['nStimuli'] == a, 'angle'] = eval(dataDict0[uuid][a][0])['angle']\n",
    "\n",
    "    df = tmp3 if uuid == 0 else pd.concat([df,tmp3])\n",
    "    rot_post0.append([eval(dataDict0[uuid][1][0])['distance'], 0.0])\n",
    "\n",
    "    cursorProject.execute(\"Select post1 from projects where project = ? and exp >= ? and exp < ?\",('DecisionGeometry', 0, 10))\n",
    "    for a in np.unique(cursorProject.fetchall()):\n",
    "        if a != 'None' and eval(a)['angle'] not in angles:\n",
    "            angles.append(eval(a)['angle'])\n",
    "\n",
    "angles = np.sort(np.array(angles))"
   ]
  },
  {
   "cell_type": "code",
   "execution_count": 6,
   "metadata": {},
   "outputs": [],
   "source": [
    "# add post positions to dataframe\n",
    "nStimuli = np.unique(df['nStimuli'])\n",
    "for uuid in range(0,len(fetched)):\n",
    "    for i in range(0,np.nanmax(nStimuli)+1):\n",
    "        df.loc[(df['uuid'] == uuid) & (df['nStimuli'] == i),'post0_x'] = eval(dataDict0[uuid][nStimuli[i]][0])['position'][0]\n",
    "        df.loc[(df['uuid'] == uuid) & (df['nStimuli'] == i),'post0_y'] = eval(dataDict0[uuid][nStimuli[i]][0])['position'][1]\n",
    "        df.loc[(df['uuid'] == uuid) & (df['nStimuli'] == i),'post1_x'] = eval(dataDict1[uuid][nStimuli[i]][0])['position'][0]\n",
    "        df.loc[(df['uuid'] == uuid) & (df['nStimuli'] == i),'post1_y'] = eval(dataDict1[uuid][nStimuli[i]][0])['position'][1]\n",
    "        if i > 0 and i < np.max(nStimuli):\n",
    "            df.loc[(df['uuid'] == uuid) & (df['nStimuli'] == i),'post2_x'] = eval(dataDict2[uuid][nStimuli[i]][0])['position'][0]\n",
    "            df.loc[(df['uuid'] == uuid) & (df['nStimuli'] == i),'post2_y'] = eval(dataDict2[uuid][nStimuli[i]][0])['position'][1]\n",
    "\n",
    "# # initialise rotation of tracks and posts\n",
    "df['rotated_x'] = df['rotated_y'] = 0.0\n",
    "df['rotated_post0_x'] = df['rotated_post0_y'] = df['rotated_post1_x'] = df['rotated_post1_y'] = df['rotated_post2_x'] = df['rotated_post2_y'] = 0.0\n",
    "df['ang'] = 0.0"
   ]
  },
  {
   "cell_type": "code",
   "execution_count": 7,
   "metadata": {},
   "outputs": [],
   "source": [
    "# get rotation angle\n",
    "for uuid in range(0,len(fetched)):\n",
    "    rot_post0_x = rot_post0[uuid][0]\n",
    "    rot_post0_y = rot_post0[uuid][1]\n",
    "    df.loc[df['uuid'] == uuid,'ang'] = np.arctan2(df.loc[df['uuid'] == uuid,'post0_y'], df.loc[df['uuid'] == uuid,'post0_x'])\n",
    "\n",
    "# rotate tracks and posts (posts are now centred along positive x-axis)\n",
    "for uuid in range(0,len(fetched)):\n",
    "    for i in range(0,np.max(nStimuli)+1):\n",
    "        ang = np.unique(df.loc[(df['uuid'] == uuid) & (df['nStimuli'] == i),'ang'])[0] \n",
    "        if i > 0 and i < np.max(nStimuli): \n",
    "            ang += np.pi*35/180\n",
    "        else:\n",
    "            ang += np.pi*35/360\n",
    "\n",
    "        rx,ry = rotate(np.array((df.loc[(df['uuid'] == uuid) & (df['nStimuli'] == i),'x'],df.loc[(df['uuid'] == uuid) & (df['nStimuli'] == i),'y'])), ang)\n",
    "        df.loc[(df['uuid'] == uuid) & (df['nStimuli'] == i),'rotated_x'] = np.squeeze(np.asarray(rx.T))\n",
    "        df.loc[(df['uuid'] == uuid) & (df['nStimuli'] == i),'rotated_y'] = np.squeeze(np.asarray(ry.T))\n",
    "\n",
    "        rp0x,rp0y = rotate(np.array((df.loc[(df['uuid'] == uuid) & (df['nStimuli'] == i),'post0_x'],df.loc[(df['uuid'] == uuid) & (df['nStimuli'] == i),'post0_y'])), ang)\n",
    "        df.loc[(df['uuid'] == uuid) & (df['nStimuli'] == i),'rotated_post0_x'] = np.squeeze(np.asarray(rp0x.T))\n",
    "        df.loc[(df['uuid'] == uuid) & (df['nStimuli'] == i),'rotated_post0_y'] = np.squeeze(np.asarray(rp0y.T))\n",
    "\n",
    "        rp1x,rp1y = rotate(np.array((df.loc[(df['uuid'] == uuid) & (df['nStimuli'] == i),'post1_x'],df.loc[(df['uuid'] == uuid) & (df['nStimuli'] == i),'post1_y'])), ang)\n",
    "        df.loc[(df['uuid'] == uuid) & (df['nStimuli'] == i),'rotated_post1_x'] = np.squeeze(np.asarray(rp1x.T))\n",
    "        df.loc[(df['uuid'] == uuid) & (df['nStimuli'] == i),'rotated_post1_y'] = np.squeeze(np.asarray(rp1y.T))\n",
    "        \n",
    "        rp2x,rp2y = rotate(np.array((df.loc[(df['uuid'] == uuid) & (df['nStimuli'] == i),'post2_x'],df.loc[(df['uuid'] == uuid) & (df['nStimuli'] == i),'post2_y'])), ang)\n",
    "        df.loc[(df['uuid'] == uuid) & (df['nStimuli'] == i),'rotated_post2_x'] = np.squeeze(np.asarray(rp2x.T))\n",
    "        df.loc[(df['uuid'] == uuid) & (df['nStimuli'] == i),'rotated_post2_y'] = np.squeeze(np.asarray(rp2y.T))"
   ]
  },
  {
   "cell_type": "code",
   "execution_count": 8,
   "metadata": {},
   "outputs": [],
   "source": [
    "p0_dist = np.sqrt((df['x'] - df['post0_x'])**2 + (df['y'] - df['post0_y'])**2)\n",
    "p1_dist = np.sqrt((df['x'] - df['post1_x'])**2 + (df['y'] - df['post1_y'])**2)\n",
    "p2_dist = np.sqrt((df['x'] - df['post2_x'])**2 + (df['y'] - df['post2_y'])**2)\n",
    "\n",
    "df['dmin'] = np.nanmin([p0_dist, p1_dist, p2_dist], axis=0)\n",
    "df['post'] = 0\n",
    "\n",
    "df.loc[(p2_dist.isnull() == True) & (p1_dist < p0_dist), 'post'] = 1\n",
    "df.loc[(p2_dist.isnull() != True) & (p1_dist < p0_dist) & (p1_dist < p2_dist), 'post'] = 1\n",
    "df.loc[(p2_dist.isnull() != True) & (p2_dist < p0_dist) & (p2_dist < p1_dist), 'post'] = 2"
   ]
  },
  {
   "cell_type": "code",
   "execution_count": 9,
   "metadata": {},
   "outputs": [],
   "source": [
    "tmax = df.loc[:,['uuid', 'nStimuli', 'event', 't']]\n",
    "tmax = tmax.groupby(['uuid', 'nStimuli', 'event']).max().reset_index()\n",
    "dmin = df.loc[:,['uuid', 'nStimuli', 'event', 't', 'dmin', 'post', 'angle']]\n",
    "\n",
    "dists = pd.merge(tmax, dmin, how='left')\n",
    "dists = dists[dists['dmin'] < 1.]\n",
    "\n",
    "locust_idx = dists.loc[dists['angle'] == angles[0], 'uuid']\n",
    "locust_idx = locust_idx.reset_index()['uuid']\n",
    "\n",
    "dists = dists.loc[:,['uuid', 'nStimuli', 'event']]\n",
    "\n",
    "df = pd.merge(dists, df, how='left')"
   ]
  },
  {
   "cell_type": "code",
   "execution_count": 10,
   "metadata": {},
   "outputs": [],
   "source": [
    "tmp0 = df[(df['nStimuli'] == 0) | (df['nStimuli'] == 4)]\n",
    "tmp1 = df[(df['nStimuli'] > 0) & (df['nStimuli'] < 4)]\n",
    "\n",
    "tmp0 = tmp0.reset_index()\n",
    "tmp1 = tmp1.reset_index()"
   ]
  },
  {
   "cell_type": "code",
   "execution_count": 11,
   "metadata": {},
   "outputs": [],
   "source": [
    "df1 = tmp1.loc[:, ['rotated_x', 'rotated_y', 't']]\n",
    "df1 = df1.reset_index(drop=True)\n",
    "df1['event'] = 0\n",
    "df1['t2'] = 0"
   ]
  },
  {
   "cell_type": "code",
   "execution_count": 12,
   "metadata": {},
   "outputs": [],
   "source": [
    "idx=0\n",
    "t = df1.loc[0, \"t\"]\n",
    "t2 = df1.loc[0, \"t2\"]\n",
    "df1.loc[0, \"t\"] = df1.loc[0, \"t\"] - t\n",
    "df1.loc[0, \"t2\"] = df1.loc[0, \"t2\"] - t2\n",
    "df1.loc[0, \"uuid\"] = locust_idx[idx]\n",
    "\n",
    "for i in range(1, df1.shape[0]):\n",
    "    if (\n",
    "        np.sqrt(\n",
    "            (df1.loc[i, \"rotated_x\"] - df1.loc[i - 1, \"rotated_x\"]) ** 2\n",
    "            + (df1.loc[i, \"rotated_y\"] - df1.loc[i - 1, \"rotated_y\"]) ** 2\n",
    "        )\n",
    "        < 0.2\n",
    "    ):\n",
    "        df1.loc[i, \"event\"] = df1.loc[i - 1, \"event\"]\n",
    "        df1.loc[i, \"t\"] = df1.loc[i, \"t\"] - t\n",
    "        df1.loc[i, \"t2\"] = i-1 - t2\n",
    "        df1.loc[i, \"uuid\"] = locust_idx[idx]\n",
    "    else:\n",
    "        df1.loc[i, \"event\"] = df1.loc[i - 1, \"event\"] + 1\n",
    "        t = df1.loc[i, \"t\"]\n",
    "        t2 = i-1\n",
    "        idx += 1\n",
    "        \n",
    "        df1.loc[i, \"uuid\"] = locust_idx[idx]\n",
    "        df1.loc[i, \"t\"] = df1.loc[i, \"t\"] - t\n",
    "        df1.loc[i, \"t2\"] = i-1 - t2"
   ]
  },
  {
   "cell_type": "markdown",
   "metadata": {},
   "source": [
    "### Extract tracks from second database"
   ]
  },
  {
   "cell_type": "code",
   "execution_count": 13,
   "metadata": {},
   "outputs": [],
   "source": [
    "projectDB = '/mnt/ssd1/Documents/Vivek/locustVR/databases/locustProjects_2_3post.db'\n",
    "expDB = '/mnt/ssd1/Documents/Vivek/locustVR/databases/locustExperiments_2_3post.db'"
   ]
  },
  {
   "cell_type": "code",
   "execution_count": 14,
   "metadata": {},
   "outputs": [
    {
     "name": "stdout",
     "output_type": "stream",
     "text": [
      "fetched : [('bf45bd95-2848-4853-906a-02d155ea360f',), ('275a36aa-2130-4973-8f7a-51d342ef37a0',), ('2f93ce1a-6a3d-4f5d-abec-735998285f90',), ('3d4b9226-88d2-445c-9632-8378abb91b6e',), ('343fbf69-b71f-45ea-ba4a-2a2f70e1892c',), ('d41939f0-c81c-47ff-9b47-81ee09e27087',), ('1494b6f9-3e64-4818-8627-d7f1e0b309ff',), ('326cd9a5-e4dd-4a33-8a60-122d7019b004',), ('4a30f1ae-b20b-4d56-b4ca-e5ce89642f27',), ('ea3e490a-0a03-4fdf-ba5d-3368c19f4958',), ('379c93ee-3c34-454c-a61a-1a4e72321092',), ('2b6b14a6-fff9-46ae-a8d4-1503a37cf566',), ('d1b63ac7-fea2-456d-8291-e7831327f749',), ('dde406c4-38c4-4892-898a-69f9d258f300',), ('5f075566-b29a-4dc4-9e1c-28938184a3b8',), ('b01f0694-a031-45e4-8855-e880773b2655',), ('a3978ca8-003f-4c79-9bdf-371db327d752',), ('7963d761-6ac9-494a-9614-fb3d2c495dc9',), ('0f2ca902-3943-45d2-9fa1-22c66c78351d',), ('afde8a2c-96ed-4f96-b808-03cc806491f1',), ('964a88a9-ecbe-42bc-90c0-0906ba83797f',), ('b9b8e1a5-c1bc-4cc8-ac24-69b944d09cf7',), ('a80709fd-bc85-4933-adab-ca6009a2219f',), ('46a5cc16-1220-4837-992c-66469d942b2f',), ('8b6e2dc4-72f4-447f-9506-7880b7dcc60c',), ('c6b3f713-c8cb-4f47-86d4-f7eeaa9fd0a8',), ('45c2e012-38fc-43b0-b7a2-1f7f38ef8869',), ('41733c70-2227-4fad-aa7f-ed5808ec0061',), ('d71a00d4-6f18-46d2-a56b-203219b4520d',), ('ba55829a-080a-4e0f-a643-0ef15cac4b00',), ('df400a6d-56c2-44fd-bfb0-732796ddd0fd',), ('724db13e-f205-4523-b7d4-d454fcdab66f',), ('43c0b6df-397d-4c15-8f50-f64750c2bc54',), ('76b9a651-da46-4e06-aca7-bc8743e5ffeb',), ('a788529b-e192-4b94-a4a5-32124e06318d',), ('ed519bc8-56da-4483-88ba-3a8a45971589',), ('9a7d25fe-789f-4aea-b6ca-efa5ba81e1b1',), ('7cdfd3ec-18cb-404b-a672-d76c17846178',), ('aa9616ff-717d-4e1d-a4b1-86b53faf41a2',), ('5867abb3-57fe-40c8-bcad-2a313c9f43d1',), ('440ffa3c-33c7-46c9-ab34-1723b40fdd28',), ('526ea96e-9404-4b76-9eb0-f908be3d3ab8',), ('c0192c60-6527-46ae-b6b9-6164e1d693a4',), ('ec73ea83-88a6-40a7-9931-0d6a44ceae16',), ('499487a4-eff2-4ecf-9cfb-37e3c86d49bb',), ('cb0b70f5-8698-4de9-8774-35f147f69328',), ('fbae0085-1cd2-485f-a643-593f4eb310cc',), ('bdcfb7cb-00cd-4f96-9812-f24acbe09322',), ('53bef673-3063-47f5-8a56-004ffdfe1437',)]\n"
     ]
    }
   ],
   "source": [
    "# establish a connecttion to the project database\n",
    "conn = sqlite3.connect(projectDB)\n",
    "# connect a cursor that goes through the project database\n",
    "cursorProject = conn.cursor()\n",
    "# establish a second connecttion to the experiment database\n",
    "conn2 = sqlite3.connect(expDB)\n",
    "# connect a cursor that goes through the experiment database\n",
    "cursorExperiment = conn2.cursor()\n",
    "\n",
    "# pick experiments from specified project\n",
    "cursorExperiment.execute(\"Select expId from experiments where project = ? and exp >= ? and exp < ?\",('DecisionGeometry', 0, 10))\n",
    "fetched = cursorExperiment.fetchall()\n",
    "print('fetched : ' + str(fetched))"
   ]
  },
  {
   "cell_type": "code",
   "execution_count": 15,
   "metadata": {},
   "outputs": [],
   "source": [
    "angles = []\n",
    "dataDict0 = []\n",
    "dataDict1 = []\n",
    "dataDict2 = []\n",
    "rot_post0 = []\n",
    "for uuid in range(0,len(fetched)):\n",
    "    cursorExperiment.execute(\"Select exp from experiments where expId = ?\", (fetched[uuid][0],))\n",
    "    fetch_exp = cursorExperiment.fetchall()[0][0]\n",
    "    cursorExperiment.execute(\"Select replicate from experiments where expId = ?\", (fetched[uuid][0],))\n",
    "    fetch_rep = cursorExperiment.fetchall()[0][0]\n",
    "\n",
    "    cursorProject.execute(\"Select post0 from projects where project = ? and exp = ? and replicate = ?\",('DecisionGeometry', fetch_exp, fetch_rep))\n",
    "    dataDict0.append(cursorProject.fetchall())\n",
    "    cursorProject.execute(\"Select post1 from projects where project = ? and exp = ? and replicate = ?\",('DecisionGeometry', fetch_exp, fetch_rep))\n",
    "    dataDict1.append(cursorProject.fetchall())\n",
    "    cursorProject.execute(\"Select post2 from projects where project = ? and exp = ? and replicate = ?\",('DecisionGeometry', fetch_exp, fetch_rep))\n",
    "    dataDict2.append(cursorProject.fetchall())\n",
    "\n",
    "    tmp = pd.read_csv(dataDIR + fetched[uuid][0] + \"/results.csv\", names = [\"x\", \"y\", \"z\", \"event\", \"t\", \"nStimuli\"])\n",
    "    tmp['uuid'] = uuid\n",
    "    tmp['angle'] = np.nan\n",
    "    tmp['post0_x'] = tmp['post0_y'] = tmp['post1_x'] = tmp['post1_y'] = tmp['post2_x'] = tmp['post2_y'] = np.nan\n",
    "    \n",
    "    tmp3 = pd.DataFrame(columns=['index','x','y','z','event','t','nStimuli','uuid','angle','post0_x','post0_y','post1_x','post1_y','selected'])\n",
    "    for i in np.unique(tmp['nStimuli']):\n",
    "        for j in np.unique(tmp.loc[tmp['nStimuli'] == i, 'event']):\n",
    "            tmp2 = tmp.loc[(tmp['nStimuli'] == i) & (tmp['event'] == j),:]\n",
    "            tmp2 = tmp2.reset_index()\n",
    "            tmp2['selected'] = 0\n",
    "\n",
    "            start_x = tmp2.loc[0,'x']\n",
    "            start_y = tmp2.loc[0,'y']\n",
    "            for k in range(1,len(tmp2)):\n",
    "                x = tmp2.loc[k,'x']\n",
    "                y = tmp2.loc[k,'y']\n",
    "                dist = np.sqrt((start_x - x) ** 2 + (start_y - y) ** 2)\n",
    "                if dist > spatial_discretisation_step:\n",
    "                    tmp2.loc[k,'selected'] = 1\n",
    "                    start_x = x\n",
    "                    start_y = y\n",
    "            tmp3 = tmp3.append(tmp2[tmp2['selected'] == 1])\n",
    "            \n",
    "    for a in range(1,4):\n",
    "        tmp3.loc[tmp3['nStimuli'] == a, 'angle'] = eval(dataDict0[uuid][a][0])['angle']\n",
    "\n",
    "    df = tmp3 if uuid == 0 else pd.concat([df,tmp3])\n",
    "    rot_post0.append([eval(dataDict0[uuid][1][0])['distance'], 0.0])\n",
    "\n",
    "    cursorProject.execute(\"Select post1 from projects where project = ? and exp >= ? and exp < ?\",('DecisionGeometry', 0, 10))\n",
    "    for a in np.unique(cursorProject.fetchall()):\n",
    "        if a != 'None' and eval(a)['angle'] not in angles:\n",
    "            angles.append(eval(a)['angle'])\n",
    "\n",
    "angles = np.sort(np.array(angles))"
   ]
  },
  {
   "cell_type": "code",
   "execution_count": 16,
   "metadata": {},
   "outputs": [],
   "source": [
    "# add post positions to dataframe\n",
    "nStimuli = np.unique(df['nStimuli'])\n",
    "for uuid in range(0,len(fetched)):\n",
    "    for i in range(0,np.nanmax(nStimuli)+1):\n",
    "        df.loc[(df['uuid'] == uuid) & (df['nStimuli'] == i),'post0_x'] = eval(dataDict0[uuid][nStimuli[i]][0])['position'][0]\n",
    "        df.loc[(df['uuid'] == uuid) & (df['nStimuli'] == i),'post0_y'] = eval(dataDict0[uuid][nStimuli[i]][0])['position'][1]\n",
    "        df.loc[(df['uuid'] == uuid) & (df['nStimuli'] == i),'post1_x'] = eval(dataDict1[uuid][nStimuli[i]][0])['position'][0]\n",
    "        df.loc[(df['uuid'] == uuid) & (df['nStimuli'] == i),'post1_y'] = eval(dataDict1[uuid][nStimuli[i]][0])['position'][1]\n",
    "        if i > 0 and i < np.nanmax(nStimuli):\n",
    "            df.loc[(df['uuid'] == uuid) & (df['nStimuli'] == i),'post2_x'] = eval(dataDict2[uuid][nStimuli[i]][0])['position'][0]\n",
    "            df.loc[(df['uuid'] == uuid) & (df['nStimuli'] == i),'post2_y'] = eval(dataDict2[uuid][nStimuli[i]][0])['position'][1]\n",
    "\n",
    "# # initialise rotation of tracks and posts\n",
    "df['rotated_x'] = df['rotated_y'] = 0.0\n",
    "df['rotated_post0_x'] = df['rotated_post0_y'] = df['rotated_post1_x'] = df['rotated_post1_y'] = df['rotated_post2_x'] = df['rotated_post2_y'] = 0.0\n",
    "df['ang'] = 0.0"
   ]
  },
  {
   "cell_type": "code",
   "execution_count": 17,
   "metadata": {},
   "outputs": [],
   "source": [
    "# get rotation angle\n",
    "for uuid in range(0,len(fetched)):\n",
    "    rot_post0_x = rot_post0[uuid][0]\n",
    "    rot_post0_y = rot_post0[uuid][1]\n",
    "    df.loc[df['uuid'] == uuid,'ang'] = np.arctan2(df.loc[df['uuid'] == uuid,'post0_y'], df.loc[df['uuid'] == uuid,'post0_x'])\n",
    "\n",
    "# rotate tracks and posts (posts are now centred along positive x-axis)\n",
    "for uuid in range(0,len(fetched)):\n",
    "    for i in np.unique(df.loc[df['uuid'] == uuid,'nStimuli']):\n",
    "        ang = np.unique(df.loc[(df['uuid'] == uuid) & (df['nStimuli'] == i),'ang'])[0] \n",
    "        if i > 0 and i < np.max(nStimuli): \n",
    "            ang += np.pi*35/180\n",
    "        else:\n",
    "            ang += np.pi*35/360\n",
    "\n",
    "        rx,ry = rotate(np.array((df.loc[(df['uuid'] == uuid) & (df['nStimuli'] == i),'x'],df.loc[(df['uuid'] == uuid) & (df['nStimuli'] == i),'y'])), ang)\n",
    "        df.loc[(df['uuid'] == uuid) & (df['nStimuli'] == i),'rotated_x'] = np.squeeze(np.asarray(rx.T))\n",
    "        df.loc[(df['uuid'] == uuid) & (df['nStimuli'] == i),'rotated_y'] = np.squeeze(np.asarray(ry.T))\n",
    "\n",
    "        rp0x,rp0y = rotate(np.array((df.loc[(df['uuid'] == uuid) & (df['nStimuli'] == i),'post0_x'],df.loc[(df['uuid'] == uuid) & (df['nStimuli'] == i),'post0_y'])), ang)\n",
    "        df.loc[(df['uuid'] == uuid) & (df['nStimuli'] == i),'rotated_post0_x'] = np.squeeze(np.asarray(rp0x.T))\n",
    "        df.loc[(df['uuid'] == uuid) & (df['nStimuli'] == i),'rotated_post0_y'] = np.squeeze(np.asarray(rp0y.T))\n",
    "\n",
    "        rp1x,rp1y = rotate(np.array((df.loc[(df['uuid'] == uuid) & (df['nStimuli'] == i),'post1_x'],df.loc[(df['uuid'] == uuid) & (df['nStimuli'] == i),'post1_y'])), ang)\n",
    "        df.loc[(df['uuid'] == uuid) & (df['nStimuli'] == i),'rotated_post1_x'] = np.squeeze(np.asarray(rp1x.T))\n",
    "        df.loc[(df['uuid'] == uuid) & (df['nStimuli'] == i),'rotated_post1_y'] = np.squeeze(np.asarray(rp1y.T))\n",
    "        \n",
    "        rp2x,rp2y = rotate(np.array((df.loc[(df['uuid'] == uuid) & (df['nStimuli'] == i),'post2_x'],df.loc[(df['uuid'] == uuid) & (df['nStimuli'] == i),'post2_y'])), ang)\n",
    "        df.loc[(df['uuid'] == uuid) & (df['nStimuli'] == i),'rotated_post2_x'] = np.squeeze(np.asarray(rp2x.T))\n",
    "        df.loc[(df['uuid'] == uuid) & (df['nStimuli'] == i),'rotated_post2_y'] = np.squeeze(np.asarray(rp2y.T))"
   ]
  },
  {
   "cell_type": "code",
   "execution_count": 18,
   "metadata": {},
   "outputs": [],
   "source": [
    "p0_dist = np.sqrt((df['x'] - df['post0_x'])**2 + (df['y'] - df['post0_y'])**2)\n",
    "p1_dist = np.sqrt((df['x'] - df['post1_x'])**2 + (df['y'] - df['post1_y'])**2)\n",
    "p2_dist = np.sqrt((df['x'] - df['post2_x'])**2 + (df['y'] - df['post2_y'])**2)\n",
    "\n",
    "df['dmin'] = np.nanmin([p0_dist, p1_dist, p2_dist], axis=0)\n",
    "df['post'] = 0\n",
    "\n",
    "df.loc[(p2_dist.isnull() == True) & (p1_dist < p0_dist), 'post'] = 1\n",
    "df.loc[(p2_dist.isnull() != True) & (p1_dist < p0_dist) & (p1_dist < p2_dist), 'post'] = 1\n",
    "df.loc[(p2_dist.isnull() != True) & (p2_dist < p0_dist) & (p2_dist < p1_dist), 'post'] = 2"
   ]
  },
  {
   "cell_type": "code",
   "execution_count": 19,
   "metadata": {},
   "outputs": [],
   "source": [
    "tmax = df.loc[:,['uuid', 'nStimuli', 'event', 't']]\n",
    "tmax = tmax.groupby(['uuid', 'nStimuli', 'event']).max().reset_index()\n",
    "dmin = df.loc[:,['uuid', 'nStimuli', 'event', 't', 'dmin', 'post', 'angle']]\n",
    "\n",
    "dists = pd.merge(tmax, dmin, how='left')\n",
    "dists = dists[dists['dmin'] < 1.]\n",
    "\n",
    "locust_idx = dists.loc[dists['angle'] == angles[0], 'uuid']\n",
    "locust_idx = locust_idx.reset_index()['uuid']\n",
    "\n",
    "dists = dists.loc[:,['uuid', 'nStimuli', 'event']]\n",
    "\n",
    "df = pd.merge(dists, df, how='left')"
   ]
  },
  {
   "cell_type": "code",
   "execution_count": 20,
   "metadata": {},
   "outputs": [],
   "source": [
    "tmp0 = df[(df['nStimuli'] == 0) | (df['nStimuli'] == 4)]\n",
    "tmp1 = df[(df['nStimuli'] > 0) & (df['nStimuli'] < 4)]\n",
    "\n",
    "tmp0 = tmp0.reset_index()\n",
    "tmp1 = tmp1.reset_index()"
   ]
  },
  {
   "cell_type": "code",
   "execution_count": 21,
   "metadata": {},
   "outputs": [],
   "source": [
    "df2 = tmp1.loc[:, ['rotated_x', 'rotated_y', 't']]\n",
    "df2 = df2.reset_index(drop=True)\n",
    "df2['event'] = np.max(df1['event'])+1\n",
    "df2['t2'] = 0"
   ]
  },
  {
   "cell_type": "code",
   "execution_count": 22,
   "metadata": {},
   "outputs": [],
   "source": [
    "idx=0\n",
    "t = df2.loc[0, \"t\"]\n",
    "t2 = df2.loc[0, \"t2\"]\n",
    "df2.loc[0, \"t\"] = df2.loc[0, \"t\"] - t\n",
    "df2.loc[0, \"t2\"] = df2.loc[0, \"t2\"] - t2\n",
    "df2.loc[0, \"uuid\"] = locust_idx[idx]+np.max(df1['uuid'])\n",
    "\n",
    "for i in range(1, df2.shape[0]):\n",
    "    if (\n",
    "        np.sqrt(\n",
    "            (df2.loc[i, \"rotated_x\"] - df2.loc[i - 1, \"rotated_x\"]) ** 2\n",
    "            + (df2.loc[i, \"rotated_y\"] - df2.loc[i - 1, \"rotated_y\"]) ** 2\n",
    "        )\n",
    "        < 0.2\n",
    "    ):\n",
    "        df2.loc[i, \"event\"] = df2.loc[i - 1, \"event\"]\n",
    "        df2.loc[i, \"t\"] = df2.loc[i, \"t\"] - t\n",
    "        df2.loc[i, \"t2\"] = i-1 - t2\n",
    "        df2.loc[i, \"uuid\"] = locust_idx[idx]+np.max(df1['uuid'])\n",
    "    else:\n",
    "        df2.loc[i, \"event\"] = df2.loc[i - 1, \"event\"] + 1\n",
    "        t = df2.loc[i, \"t\"]\n",
    "        t2 = i-1\n",
    "        idx += 1\n",
    "        \n",
    "        df2.loc[i, \"uuid\"] = locust_idx[idx]+np.max(df1['uuid'])\n",
    "        df2.loc[i, \"t\"] = df2.loc[i, \"t\"] - t\n",
    "        df2.loc[i, \"t2\"] = i-1 - t2"
   ]
  },
  {
   "cell_type": "markdown",
   "metadata": {},
   "source": [
    "### Combine tracks and visualise"
   ]
  },
  {
   "cell_type": "code",
   "execution_count": 23,
   "metadata": {},
   "outputs": [],
   "source": [
    "df = pd.concat((df1,df2))\n",
    "\n",
    "df['track_type'] = 1\n",
    "\n",
    "short_events = list(np.unique(df.loc[df[\"t2\"] > 280, \"event\"]))\n",
    "long_events = list(np.unique(df.loc[df[\"t2\"] > 500, \"event\"]))\n",
    "\n",
    "df.loc[~df[\"event\"].isin(short_events), 'track_type'] = 0\n",
    "df.loc[df[\"event\"].isin(long_events), 'track_type'] = 2"
   ]
  },
  {
   "cell_type": "code",
   "execution_count": 25,
   "metadata": {},
   "outputs": [],
   "source": [
    "df_events = df.loc[:,['uuid', 'event', 'track_type']]\n",
    "df_events = df_events.drop_duplicates()\n",
    "\n",
    "df_events = df_events.groupby(['uuid','track_type']).count().reset_index()"
   ]
  },
  {
   "cell_type": "code",
   "execution_count": 40,
   "metadata": {},
   "outputs": [],
   "source": [
    "short = np.zeros(len(np.unique(df_events['uuid'])))\n",
    "mid = np.zeros(len(np.unique(df_events['uuid'])))\n",
    "long = np.zeros(len(np.unique(df_events['uuid'])))\n",
    "\n",
    "for idx,loc_id in enumerate(np.unique(df_events['uuid'])):\n",
    "    if df_events.loc[(df_events['uuid'] == loc_id) & (df_events['track_type'] == 0), 'event'].values.size != 0:\n",
    "        short[int(idx)] = df_events.loc[(df_events['uuid'] == loc_id) & (df_events['track_type'] == 0), 'event'].values[0]\n",
    "    if df_events.loc[(df_events['uuid'] == loc_id) & (df_events['track_type'] == 1), 'event'].values.size != 0:\n",
    "        mid[int(idx)] = df_events.loc[(df_events['uuid'] == loc_id) & (df_events['track_type'] == 1), 'event'].values[0]\n",
    "    if df_events.loc[(df_events['uuid'] == loc_id) & (df_events['track_type'] == 2), 'event'].values.size != 0:\n",
    "        long[int(idx)] = df_events.loc[(df_events['uuid'] == loc_id) & (df_events['track_type'] == 2), 'event'].values[0]\n",
    "\n",
    "total = short+mid+long\n",
    "short = short/total\n",
    "mid = mid/total\n",
    "long = long/total"
   ]
  },
  {
   "cell_type": "code",
   "execution_count": 41,
   "metadata": {},
   "outputs": [],
   "source": [
    "long_asc = long.argsort()\n",
    "long_idx = np.max(np.where(long[long_asc]==0))+1\n",
    "long_asc = long_asc[long_idx:]\n",
    "\n",
    "short_asc = short.argsort()\n",
    "short_idx = np.max(np.where(short[short_asc]==0))+1\n",
    "short_asc = short_asc[short_idx:]\n",
    "short_asc = short_asc[np.isin(short_asc, long_asc) == False]\n",
    "\n",
    "mid_asc = mid.argsort()\n",
    "mid_asc = mid_asc[np.isin(mid_asc, np.concatenate((long_asc,short_asc), axis=0)) == False]"
   ]
  },
  {
   "cell_type": "code",
   "execution_count": 42,
   "metadata": {},
   "outputs": [
    {
     "data": {
      "text/plain": [
       "<BarContainer object of 87 artists>"
      ]
     },
     "execution_count": 42,
     "metadata": {},
     "output_type": "execute_result"
    },
    {
     "data": {
      "image/png": "[encoded data removed]",
      "text/plain": [
       "<Figure size 432x288 with 1 Axes>"
      ]
     },
     "metadata": {},
     "output_type": "display_data"
    }
   ],
   "source": [
    "order = np.concatenate((long_asc[::-1], mid_asc, short_asc), axis=0)\n",
    "short = short[order]\n",
    "mid = mid[order]\n",
    "long = long[order]\n",
    "\n",
    "x = np.arange(0,len(np.unique(df_events['uuid'])))\n",
    "barWidth = 1\n",
    "\n",
    "plt.bar(x, short, color='#8B0000', edgecolor='white', width=barWidth)\n",
    "plt.bar(x, mid, bottom=short, color='#FF8C00', edgecolor='white', width=barWidth)\n",
    "plt.bar(x, long, bottom=short+mid, color='#EACE09', edgecolor='white', width=barWidth)"
   ]
  },
  {
   "cell_type": "code",
   "execution_count": null,
   "metadata": {},
   "outputs": [],
   "source": []
  },
  {
   "cell_type": "code",
   "execution_count": null,
   "metadata": {},
   "outputs": [],
   "source": []
  }
 ],
 "metadata": {
  "kernelspec": {
   "display_name": "Python 3",
   "language": "python",
   "name": "python3"
  },
  "language_info": {
   "codemirror_mode": {
    "name": "ipython",
    "version": 3
   },
   "file_extension": ".py",
   "mimetype": "text/x-python",
   "name": "python",
   "nbconvert_exporter": "python",
   "pygments_lexer": "ipython3",
   "version": "3.6.3"
  }
 },
 "nbformat": 4,
 "nbformat_minor": 2
}
