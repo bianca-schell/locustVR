{
 "cells": [
  {
   "cell_type": "code",
   "execution_count": 1,
   "metadata": {},
   "outputs": [],
   "source": [
    "import numpy as np\n",
    "import pandas as pd\n",
    "import matplotlib.pyplot as plt\n",
    "import seaborn as sns\n",
    "import sqlite3\n",
    "import glob\n",
    "import sys\n",
    "import copy\n",
    "import cv2\n",
    "from imp import reload\n",
    "from scipy.optimize import curve_fit\n",
    "from sklearn.mixture import GaussianMixture\n",
    "from scipy.stats import norm"
   ]
  },
  {
   "cell_type": "code",
   "execution_count": 2,
   "metadata": {},
   "outputs": [],
   "source": [
    "dataDIR = '/mnt/ssd1/Documents/Vivek/locustVR/databases/data_collection/'\n",
    "projectDB = '/mnt/ssd1/Documents/Vivek/locustVR/databases/locustProjects_20_01_07.db'\n",
    "expDB = '/mnt/ssd1/Documents/Vivek/locustVR/databases/locustExperiments_20_01_07.db'\n",
    "\n",
    "\n",
    "nPosts = 2\n",
    "window_size = 50\n",
    "isolation_type = 'signal' # this determines which tracks we heatmap with. It can be 'signal', 'short_noise' or 'long_noise'\n",
    "spatial_discretisation_step = 0.01"
   ]
  },
  {
   "cell_type": "code",
   "execution_count": 3,
   "metadata": {},
   "outputs": [],
   "source": [
    "def rotate(xy, radians):\n",
    "    x, y = xy\n",
    "    c, s = np.cos(radians), np.sin(radians)\n",
    "    j = np.matrix([[c, s], [-s, c]])\n",
    "    m = np.dot(j, [x, y])\n",
    "\n",
    "    return m"
   ]
  },
  {
   "cell_type": "code",
   "execution_count": 4,
   "metadata": {},
   "outputs": [
    {
     "name": "stdout",
     "output_type": "stream",
     "text": [
      "fetched : [('c0127c9b-3ff9-4c49-8db4-6900ff4c2b2a',), ('54a35a9f-9eb0-4404-bc9d-8ed7b71192c5',), ('7ac51c48-5f5a-4ac3-9930-56772578c1ee',), ('3a1d5deb-e8f7-48a4-aabb-25456f941c43',), ('752b3218-e802-47e8-bbc6-1049f15e6f85',), ('13e69b2f-9760-4625-a309-511af2c5afb2',), ('2a7c4e5b-deb9-4c55-b0f7-2547034b8b4d',), ('da620536-7437-4bf6-a7de-ba36f19b4177',), ('acb6ec35-e1e0-450a-98ca-581b0f21723e',), ('1730f55c-ba6b-467b-96a8-f23c387f2905',), ('a57b486a-c26a-4016-9722-56846965487e',), ('ded361ec-3214-458a-858f-1be11809fd14',), ('8f13a403-e1bd-4adf-9a4a-ef18b2e4915e',), ('8e0cb790-55be-46b5-be17-f92c2208f12d',), ('5cb7d44f-5166-46ce-b317-f4bd8d3267c5',), ('9e41ebbd-fadd-4ea5-8457-77c541faa137',), ('e62178c9-e0f0-4970-82b6-e26225576f3b',), ('19c69caf-3dc5-4cf4-950c-95acad45ecd9',), ('a678f783-103d-4485-a995-78d7f6b9824e',), ('43f0818a-bae1-44ca-bef9-8823bb8c8ab9',), ('5e103a3b-105b-4820-92e1-b2c2cf2c11ee',), ('2292bbb7-d520-4715-a948-dbd7422e6660',), ('125adcc5-4f9b-47ba-9849-53aa901c5442',), ('bb55e2f3-585f-4f80-8150-a719ef75deec',), ('e0812ca8-c9a4-4ce7-8a33-a9560cf538f7',), ('b06e1942-5c28-4b3e-bb96-11bb36047f69',), ('7dfa5ca0-9425-4f3f-8e09-061b01eb9435',), ('b727a0ae-037b-4c99-b60a-fbf1befd5c54',), ('4c6c1b17-5a12-43f9-8c26-739869756083',)]\n"
     ]
    }
   ],
   "source": [
    "# establish a connecttion to the project database\n",
    "conn = sqlite3.connect(projectDB)\n",
    "# connect a cursor that goes through the project database\n",
    "cursorProject = conn.cursor()\n",
    "# establish a second connecttion to the experiment database\n",
    "conn2 = sqlite3.connect(expDB)\n",
    "# connect a cursor that goes through the experiment database\n",
    "cursorExperiment = conn2.cursor()\n",
    "\n",
    "# pick experiments from specified project\n",
    "cursorExperiment.execute(\"Select expId from experiments where project = ? and exp >= ? and exp < ?\",('DecisionGeometry', (nPosts-2)*10, (nPosts-1)*10))\n",
    "fetched = cursorExperiment.fetchall()\n",
    "print('fetched : ' + str(fetched))"
   ]
  },
  {
   "cell_type": "code",
   "execution_count": 5,
   "metadata": {},
   "outputs": [],
   "source": [
    "angles = []\n",
    "dataDict0 = []\n",
    "dataDict1 = []\n",
    "rot_post0 = []\n",
    "for uuid in range(0,len(fetched)):\n",
    "    cursorExperiment.execute(\"Select exp from experiments where expId = ?\", (fetched[uuid][0],))\n",
    "    fetch_exp = cursorExperiment.fetchall()[0][0]\n",
    "    cursorExperiment.execute(\"Select replicate from experiments where expId = ?\", (fetched[uuid][0],))\n",
    "    fetch_rep = cursorExperiment.fetchall()[0][0]\n",
    "\n",
    "    cursorProject.execute(\"Select post0 from projects where project = ? and exp = ? and replicate = ?\",('DecisionGeometry', fetch_exp, fetch_rep))\n",
    "    dataDict0.append(cursorProject.fetchall())\n",
    "    cursorProject.execute(\"Select post1 from projects where project = ? and exp = ? and replicate = ?\",('DecisionGeometry', fetch_exp, fetch_rep))\n",
    "    dataDict1.append(cursorProject.fetchall())\n",
    "\n",
    "    tmp = pd.read_csv(dataDIR + fetched[uuid][0] + \"/results.csv\", names = [\"x\", \"y\", \"z\", \"event\", \"t\", \"nStimuli\"])\n",
    "    tmp['uuid'] = uuid\n",
    "    tmp['angle'] = np.nan\n",
    "    tmp['post0_x'] = tmp['post0_y'] = tmp['post1_x'] = tmp['post1_y'] = np.nan\n",
    "    tmp['nStimuli'] = np.uint8(tmp['nStimuli'])\n",
    "    \n",
    "    tmp3 = pd.DataFrame(columns=['index','x','y','z','event','t','nStimuli','uuid','angle','post0_x','post0_y','post1_x','post1_y','selected'])\n",
    "    for i in np.unique(tmp['nStimuli']):\n",
    "        for j in np.unique(tmp.loc[tmp['nStimuli'] == i, 'event']):\n",
    "            tmp2 = tmp.loc[(tmp['nStimuli'] == i) & (tmp['event'] == j),:]\n",
    "            tmp2 = tmp2.reset_index()\n",
    "            tmp2['selected'] = 0\n",
    "\n",
    "            start_x = tmp2.loc[0,'x']\n",
    "            start_y = tmp2.loc[0,'y']\n",
    "            for k in range(1,len(tmp2)):\n",
    "                x = tmp2.loc[k,'x']\n",
    "                y = tmp2.loc[k,'y']\n",
    "                dist = np.sqrt((start_x - x) ** 2 + (start_y - y) ** 2)\n",
    "                if dist > spatial_discretisation_step:\n",
    "                    tmp2.loc[k,'selected'] = 1\n",
    "                    start_x = x\n",
    "                    start_y = y\n",
    "            tmp3 = tmp3.append(tmp2[tmp2['selected'] == 1])\n",
    "    \n",
    "    for a in range(1,4):\n",
    "        tmp3.loc[tmp3['nStimuli'] == a, 'angle'] = eval(dataDict0[uuid][a][0])['angle']\n",
    "\n",
    "    df = tmp3 if uuid == 0 else pd.concat([df,tmp3])\n",
    "    rot_post0.append([eval(dataDict0[uuid][1][0])['distance'], 0.0])\n",
    "\n",
    "    cursorProject.execute(\"Select post1 from projects where project = ? and exp >= ? and exp < ?\",('DecisionGeometry', (nPosts-2)*10, (nPosts-1)*10))\n",
    "    for a in np.unique(cursorProject.fetchall()):\n",
    "        if a != 'None' and eval(a)['angle'] not in angles:\n",
    "            angles.append(eval(a)['angle'])\n",
    "\n",
    "angles = np.sort(np.array(angles))"
   ]
  },
  {
   "cell_type": "code",
   "execution_count": 6,
   "metadata": {},
   "outputs": [],
   "source": [
    "# add post positions to dataframe\n",
    "nStimuli = np.unique(df['nStimuli'])\n",
    "for uuid in range(0,len(fetched)):\n",
    "    for i in range(0,np.nanmax(nStimuli)+1):\n",
    "        df.loc[(df['uuid'] == uuid) & (df['nStimuli'] == i),'post0_x'] = eval(dataDict0[uuid][nStimuli[i]][0])['position'][0]\n",
    "        df.loc[(df['uuid'] == uuid) & (df['nStimuli'] == i),'post0_y'] = eval(dataDict0[uuid][nStimuli[i]][0])['position'][1]\n",
    "        if i > 0 and i < np.max(nStimuli):\n",
    "            df.loc[(df['uuid'] == uuid) & (df['nStimuli'] == i),'post1_x'] = eval(dataDict1[uuid][nStimuli[i]][0])['position'][0]\n",
    "            df.loc[(df['uuid'] == uuid) & (df['nStimuli'] == i),'post1_y'] = eval(dataDict1[uuid][nStimuli[i]][0])['position'][1]\n",
    "            df.loc[(df['uuid'] == uuid) & (df['nStimuli'] == i),'angle'] = eval(dataDict1[uuid][nStimuli[i]][0])['angle']\n",
    "\n",
    "# initialise rotation of tracks and posts\n",
    "df['rotated_x'] = df['rotated_y'] = 0.0\n",
    "df['rotated_post0_x'] = df['rotated_post0_y'] = df['rotated_post1_x'] = df['rotated_post1_y'] = 0.0\n",
    "df['ang'] = 0.0"
   ]
  },
  {
   "cell_type": "code",
   "execution_count": 7,
   "metadata": {},
   "outputs": [],
   "source": [
    "# get rotation angle\n",
    "for uuid in range(0,len(fetched)):\n",
    "    rot_post0_x = rot_post0[uuid][0]\n",
    "    rot_post0_y = rot_post0[uuid][1]\n",
    "    df.loc[df['uuid'] == uuid,'ang'] = np.arctan2(df.loc[df['uuid'] == uuid,'post0_y'], df.loc[df['uuid'] == uuid,'post0_x'])\n",
    "\n",
    "# rotate tracks and posts (posts are now centred along positive x-axis)\n",
    "for uuid in range(0,len(fetched)):\n",
    "    if len(np.unique(df.loc[df['uuid'] == uuid,'nStimuli'])) != 0:\n",
    "        for i in np.unique(df.loc[df['uuid'] == uuid,'nStimuli']):\n",
    "            ang = np.unique(df.loc[(df['uuid'] == uuid) & (df['nStimuli'] == i),'ang'])[0] \n",
    "            if i > 0 and i < np.max(nStimuli): \n",
    "                ang += (nPosts-1)*eval(dataDict0[uuid][nStimuli[i]][0])['angle']/2\n",
    "\n",
    "            rx,ry = rotate(np.array((df.loc[(df['uuid'] == uuid) & (df['nStimuli'] == i),'x'],df.loc[(df['uuid'] == uuid) & (df['nStimuli'] == i),'y'])), ang)\n",
    "            df.loc[(df['uuid'] == uuid) & (df['nStimuli'] == i),'rotated_x'] = np.squeeze(np.asarray(rx.T))\n",
    "            df.loc[(df['uuid'] == uuid) & (df['nStimuli'] == i),'rotated_y'] = np.squeeze(np.asarray(ry.T))\n",
    "\n",
    "            rp0x,rp0y = rotate(np.array((df.loc[(df['uuid'] == uuid) & (df['nStimuli'] == i),'post0_x'],df.loc[(df['uuid'] == uuid) & (df['nStimuli'] == i),'post0_y'])), ang)\n",
    "            df.loc[(df['uuid'] == uuid) & (df['nStimuli'] == i),'rotated_post0_x'] = np.squeeze(np.asarray(rp0x.T))\n",
    "            df.loc[(df['uuid'] == uuid) & (df['nStimuli'] == i),'rotated_post0_y'] = np.squeeze(np.asarray(rp0y.T))\n",
    "\n",
    "            rp1x,rp1y = rotate(np.array((df.loc[(df['uuid'] == uuid) & (df['nStimuli'] == i),'post1_x'],df.loc[(df['uuid'] == uuid) & (df['nStimuli'] == i),'post1_y'])), ang)\n",
    "            df.loc[(df['uuid'] == uuid) & (df['nStimuli'] == i),'rotated_post1_x'] = np.squeeze(np.asarray(rp1x.T))\n",
    "            df.loc[(df['uuid'] == uuid) & (df['nStimuli'] == i),'rotated_post1_y'] = np.squeeze(np.asarray(rp1y.T))"
   ]
  },
  {
   "cell_type": "code",
   "execution_count": 8,
   "metadata": {},
   "outputs": [],
   "source": [
    "p0_dist = np.sqrt((df['x'] - df['post0_x'])**2 + (df['y'] - df['post0_y'])**2)\n",
    "p1_dist = np.sqrt((df['x'] - df['post1_x'])**2 + (df['y'] - df['post1_y'])**2)\n",
    "\n",
    "df['dmin'] = np.nanmin([p0_dist, p1_dist], axis=0)\n",
    "df['post'] = 0\n",
    "df.loc[p1_dist < p0_dist, 'post'] = 1"
   ]
  },
  {
   "cell_type": "code",
   "execution_count": 9,
   "metadata": {},
   "outputs": [],
   "source": [
    "tmax = df.loc[:,['uuid', 'nStimuli', 'event', 't']]\n",
    "tmax = tmax.groupby(['uuid', 'nStimuli', 'event']).max().reset_index()\n",
    "dmin = df.loc[:,['uuid', 'nStimuli', 'event', 't', 'dmin', 'post', 'angle']]\n",
    "\n",
    "dists = pd.merge(tmax, dmin, how='left')\n",
    "dists = dists[dists['dmin'] < 0.5]\n",
    "\n",
    "locust_idx = dists.loc[dists['angle'] == angles[1], 'uuid']\n",
    "locust_idx = locust_idx.reset_index()['uuid']\n",
    "\n",
    "dists = dists.loc[:,['uuid', 'nStimuli', 'event']]\n",
    "\n",
    "df = pd.merge(dists, df, how='left')"
   ]
  },
  {
   "cell_type": "code",
   "execution_count": 10,
   "metadata": {},
   "outputs": [],
   "source": [
    "tmp0 = df[df['nStimuli'] == 0]\n",
    "tmp1 = df[(df['nStimuli'] > 0) & (df['nStimuli'] < 4) & (df['angle'] == angles[0])]\n",
    "tmp2 = df[(df['nStimuli'] > 0) & (df['nStimuli'] < 4) & (df['angle'] == angles[1])]\n",
    "tmp3 = df[(df['nStimuli'] > 0) & (df['nStimuli'] < 4) & (df['angle'] == angles[2])]\n",
    "tmp4 = df[df['nStimuli'] == 4]"
   ]
  },
  {
   "cell_type": "code",
   "execution_count": 11,
   "metadata": {},
   "outputs": [],
   "source": [
    "df1 = tmp2.loc[:, ['rotated_x', 'rotated_y', 't']]\n",
    "df1 = df1.reset_index(drop=True)\n",
    "df1['event'] = 0\n",
    "df1['t2'] = 0"
   ]
  },
  {
   "cell_type": "code",
   "execution_count": 12,
   "metadata": {},
   "outputs": [],
   "source": [
    "idx=0\n",
    "t = df1.loc[0, \"t\"]\n",
    "t2 = df1.loc[0, \"t2\"]\n",
    "df1.loc[0, \"t\"] = df1.loc[0, \"t\"] - t\n",
    "df1.loc[0, \"t2\"] = df1.loc[0, \"t2\"] - t2\n",
    "df1.loc[0, \"uuid\"] = locust_idx[idx]\n",
    "\n",
    "for i in range(1, df1.shape[0]):\n",
    "    if (\n",
    "        np.sqrt(\n",
    "            (df1.loc[i, \"rotated_x\"] - df1.loc[i - 1, \"rotated_x\"]) ** 2\n",
    "            + (df1.loc[i, \"rotated_y\"] - df1.loc[i - 1, \"rotated_y\"]) ** 2\n",
    "        )\n",
    "        < 0.5\n",
    "    ):\n",
    "        df1.loc[i, \"event\"] = df1.loc[i - 1, \"event\"]\n",
    "        df1.loc[i, \"t\"] = df1.loc[i, \"t\"] - t\n",
    "        df1.loc[i, \"t2\"] = i-1 - t2\n",
    "        df1.loc[i, \"uuid\"] = locust_idx[idx]\n",
    "    else:\n",
    "        df1.loc[i, \"event\"] = df1.loc[i - 1, \"event\"] + 1\n",
    "        t = df1.loc[i, \"t\"]\n",
    "        t2 = i-1\n",
    "        idx += 1\n",
    "        \n",
    "        df1.loc[i, \"uuid\"] = locust_idx[idx]\n",
    "        df1.loc[i, \"t\"] = df1.loc[i, \"t\"] - t\n",
    "        df1.loc[i, \"t2\"] = i-1 - t2"
   ]
  },
  {
   "cell_type": "markdown",
   "metadata": {},
   "source": [
    "### Extract tracks from second database"
   ]
  },
  {
   "cell_type": "code",
   "execution_count": 13,
   "metadata": {},
   "outputs": [],
   "source": [
    "projectDB = '/mnt/ssd1/Documents/Vivek/locustVR/databases/locustProjects_19_11_28.db'\n",
    "expDB = '/mnt/ssd1/Documents/Vivek/locustVR/databases/locustExperiments_19_11_28_mod.db'"
   ]
  },
  {
   "cell_type": "code",
   "execution_count": 14,
   "metadata": {},
   "outputs": [
    {
     "name": "stdout",
     "output_type": "stream",
     "text": [
      "fetched : [('fea86966-c7a8-49f5-bf93-f8a38453e875',), ('32d1f550-279f-4c2a-8456-65483875ad86',), ('a6e70613-9c6b-4417-bc3a-ff0ce95a1ee5',), ('bb9e6a9d-67e1-40de-9f4c-464da0a824ba',), ('353adab2-d51f-4885-adba-508ba2cac467',), ('3a521430-7aa6-412b-8d00-62524874d36a',), ('e3f84ff4-d4b5-415b-9527-5ac834f7cba4',), ('cd75759c-29e2-4ea9-867e-898ee8a02978',), ('fc408072-8c38-4393-83a9-57eade5c057f',), ('b4b1da4d-0aea-4d0c-ba3e-1c113d464135',), ('cc8377c9-e811-40cc-bb67-565e78c0f8bf',), ('e3ce0a89-62ec-47fe-b850-d22b0d0d0527',), ('dd5aac5d-6706-4b09-b50f-bd3cf13cdc91',), ('2f236bc2-25bd-4988-bd6e-f607b9b84f16',), ('19ea8655-cde3-4348-8cb9-8bac6d52668c',), ('209364f5-752f-407b-93c9-b888cd72bed8',), ('d1435f65-5c11-42f9-83db-b222efb9cb46',), ('e60266be-c44d-41a6-a3de-17518bccb1cc',), ('943385e1-c9d0-4f05-bd41-d84bfc3e6760',), ('88f78724-8677-471b-9340-71829d40c2bb',), ('001d9058-7736-4d81-965f-a6daee530e55',), ('06afe132-3a9e-4208-8dcc-b97fb76b927d',), ('1eb32c86-8b1e-4786-a3b4-d87a1299ac21',), ('f5de1c9f-997f-4030-9f73-f5127abf6b6f',), ('2d05a269-0ac1-4cdc-8a61-72d17cb62f4f',), ('d433932f-4b02-4e82-8d6e-89d79d62d3c7',), ('f4b5587a-6247-4050-b54b-dd098a5e8e50',), ('67b40b07-5422-4456-b330-eed415d9d94e',), ('918fd508-a085-462b-8797-8052c4d35d84',)]\n"
     ]
    }
   ],
   "source": [
    "# establish a connecttion to the project database\n",
    "conn = sqlite3.connect(projectDB)\n",
    "# connect a cursor that goes through the project database\n",
    "cursorProject = conn.cursor()\n",
    "# establish a second connecttion to the experiment database\n",
    "conn2 = sqlite3.connect(expDB)\n",
    "# connect a cursor that goes through the experiment database\n",
    "cursorExperiment = conn2.cursor()\n",
    "\n",
    "# pick experiments from specified project\n",
    "cursorExperiment.execute(\"Select expId from experiments where project = ? and exp >= ? and exp < ?\",('DecisionGeometry', (nPosts-2)*10, (nPosts-1)*10))\n",
    "fetched = cursorExperiment.fetchall()\n",
    "print('fetched : ' + str(fetched))"
   ]
  },
  {
   "cell_type": "code",
   "execution_count": 15,
   "metadata": {},
   "outputs": [],
   "source": [
    "angles = []\n",
    "dataDict0 = []\n",
    "dataDict1 = []\n",
    "rot_post0 = []\n",
    "for uuid in range(0,len(fetched)):\n",
    "    cursorExperiment.execute(\"Select exp from experiments where expId = ?\", (fetched[uuid][0],))\n",
    "    fetch_exp = cursorExperiment.fetchall()[0][0]\n",
    "    cursorExperiment.execute(\"Select replicate from experiments where expId = ?\", (fetched[uuid][0],))\n",
    "    fetch_rep = cursorExperiment.fetchall()[0][0]\n",
    "\n",
    "    cursorProject.execute(\"Select post0 from projects where project = ? and exp = ? and replicate = ?\",('DecisionGeometry', fetch_exp, fetch_rep))\n",
    "    dataDict0.append(cursorProject.fetchall())\n",
    "    cursorProject.execute(\"Select post1 from projects where project = ? and exp = ? and replicate = ?\",('DecisionGeometry', fetch_exp, fetch_rep))\n",
    "    dataDict1.append(cursorProject.fetchall())\n",
    "\n",
    "    tmp = pd.read_csv(dataDIR + fetched[uuid][0] + \"/results.csv\", names = [\"x\", \"y\", \"z\", \"event\", \"t\", \"nStimuli\"])\n",
    "    tmp['uuid'] = uuid\n",
    "    tmp['angle'] = np.nan\n",
    "    tmp['post0_x'] = tmp['post0_y'] = tmp['post1_x'] = tmp['post1_y'] = np.nan\n",
    "    tmp['nStimuli'] = np.uint8(tmp['nStimuli'])\n",
    "    \n",
    "    tmp3 = pd.DataFrame(columns=['index','x','y','z','event','t','nStimuli','uuid','angle','post0_x','post0_y','post1_x','post1_y','selected'])\n",
    "    for i in np.unique(tmp['nStimuli']):\n",
    "        for j in np.unique(tmp.loc[tmp['nStimuli'] == i, 'event']):\n",
    "            tmp2 = tmp.loc[(tmp['nStimuli'] == i) & (tmp['event'] == j),:]\n",
    "            tmp2 = tmp2.reset_index()\n",
    "            tmp2['selected'] = 0\n",
    "\n",
    "            if tmp2.empty != True:\n",
    "                start_x = tmp2.loc[0,'x']\n",
    "                start_y = tmp2.loc[0,'y']\n",
    "                for k in range(1,len(tmp2)):\n",
    "                    x = tmp2.loc[k,'x']\n",
    "                    y = tmp2.loc[k,'y']\n",
    "                    dist = np.sqrt((start_x - x) ** 2 + (start_y - y) ** 2)\n",
    "                    if dist > spatial_discretisation_step:\n",
    "                        tmp2.loc[k,'selected'] = 1\n",
    "                        start_x = x\n",
    "                        start_y = y\n",
    "            tmp3 = tmp3.append(tmp2[tmp2['selected'] == 1])\n",
    "    \n",
    "    for a in range(1,4):\n",
    "        tmp3.loc[tmp3['nStimuli'] == a, 'angle'] = eval(dataDict0[uuid][a][0])['angle']\n",
    "\n",
    "    df = tmp3 if uuid == 0 else pd.concat([df,tmp3])\n",
    "    rot_post0.append([eval(dataDict0[uuid][1][0])['distance'], 0.0])\n",
    "\n",
    "    cursorProject.execute(\"Select post1 from projects where project = ? and exp >= ? and exp < ?\",('DecisionGeometry', (nPosts-2)*10, (nPosts-1)*10))\n",
    "    for a in np.unique(cursorProject.fetchall()):\n",
    "        if a != 'None' and eval(a)['angle'] not in angles:\n",
    "            angles.append(eval(a)['angle'])\n",
    "\n",
    "angles = np.sort(np.array(angles))"
   ]
  },
  {
   "cell_type": "code",
   "execution_count": 16,
   "metadata": {},
   "outputs": [],
   "source": [
    "# add post positions to dataframe\n",
    "nStimuli = np.unique(df['nStimuli'])\n",
    "for uuid in range(0,len(fetched)):\n",
    "    for i in range(0,np.nanmax(nStimuli)+1):\n",
    "        df.loc[(df['uuid'] == uuid) & (df['nStimuli'] == i),'post0_x'] = eval(dataDict0[uuid][nStimuli[i]][0])['position'][0]\n",
    "        df.loc[(df['uuid'] == uuid) & (df['nStimuli'] == i),'post0_y'] = eval(dataDict0[uuid][nStimuli[i]][0])['position'][1]\n",
    "        if i > 0 and i < np.max(nStimuli):\n",
    "            df.loc[(df['uuid'] == uuid) & (df['nStimuli'] == i),'post1_x'] = eval(dataDict1[uuid][nStimuli[i]][0])['position'][0]\n",
    "            df.loc[(df['uuid'] == uuid) & (df['nStimuli'] == i),'post1_y'] = eval(dataDict1[uuid][nStimuli[i]][0])['position'][1]\n",
    "            df.loc[(df['uuid'] == uuid) & (df['nStimuli'] == i),'angle'] = eval(dataDict1[uuid][nStimuli[i]][0])['angle']\n",
    "\n",
    "# initialise rotation of tracks and posts\n",
    "df['rotated_x'] = df['rotated_y'] = 0.0\n",
    "df['rotated_post0_x'] = df['rotated_post0_y'] = df['rotated_post1_x'] = df['rotated_post1_y'] = 0.0\n",
    "df['ang'] = 0.0"
   ]
  },
  {
   "cell_type": "code",
   "execution_count": 17,
   "metadata": {},
   "outputs": [],
   "source": [
    "# get rotation angle\n",
    "for uuid in range(0,len(fetched)):\n",
    "    rot_post0_x = rot_post0[uuid][0]\n",
    "    rot_post0_y = rot_post0[uuid][1]\n",
    "    df.loc[df['uuid'] == uuid,'ang'] = np.arctan2(df.loc[df['uuid'] == uuid,'post0_y'], df.loc[df['uuid'] == uuid,'post0_x'])\n",
    "\n",
    "# rotate tracks and posts (posts are now centred along positive x-axis)\n",
    "for uuid in range(0,len(fetched)):\n",
    "    if len(np.unique(df.loc[df['uuid'] == uuid,'nStimuli'])) != 0:\n",
    "        for i in np.unique(df.loc[df['uuid'] == uuid,'nStimuli']):\n",
    "            ang = np.unique(df.loc[(df['uuid'] == uuid) & (df['nStimuli'] == i),'ang'])[0] \n",
    "            if i > 0 and i < np.max(nStimuli): \n",
    "                ang += (nPosts-1)*eval(dataDict0[uuid][nStimuli[i]][0])['angle']/2\n",
    "\n",
    "            rx,ry = rotate(np.array((df.loc[(df['uuid'] == uuid) & (df['nStimuli'] == i),'x'],df.loc[(df['uuid'] == uuid) & (df['nStimuli'] == i),'y'])), ang)\n",
    "            df.loc[(df['uuid'] == uuid) & (df['nStimuli'] == i),'rotated_x'] = np.squeeze(np.asarray(rx.T))\n",
    "            df.loc[(df['uuid'] == uuid) & (df['nStimuli'] == i),'rotated_y'] = np.squeeze(np.asarray(ry.T))\n",
    "\n",
    "            rp0x,rp0y = rotate(np.array((df.loc[(df['uuid'] == uuid) & (df['nStimuli'] == i),'post0_x'],df.loc[(df['uuid'] == uuid) & (df['nStimuli'] == i),'post0_y'])), ang)\n",
    "            df.loc[(df['uuid'] == uuid) & (df['nStimuli'] == i),'rotated_post0_x'] = np.squeeze(np.asarray(rp0x.T))\n",
    "            df.loc[(df['uuid'] == uuid) & (df['nStimuli'] == i),'rotated_post0_y'] = np.squeeze(np.asarray(rp0y.T))\n",
    "\n",
    "            rp1x,rp1y = rotate(np.array((df.loc[(df['uuid'] == uuid) & (df['nStimuli'] == i),'post1_x'],df.loc[(df['uuid'] == uuid) & (df['nStimuli'] == i),'post1_y'])), ang)\n",
    "            df.loc[(df['uuid'] == uuid) & (df['nStimuli'] == i),'rotated_post1_x'] = np.squeeze(np.asarray(rp1x.T))\n",
    "            df.loc[(df['uuid'] == uuid) & (df['nStimuli'] == i),'rotated_post1_y'] = np.squeeze(np.asarray(rp1y.T))"
   ]
  },
  {
   "cell_type": "code",
   "execution_count": 18,
   "metadata": {},
   "outputs": [],
   "source": [
    "p0_dist = np.sqrt((df['x'] - df['post0_x'])**2 + (df['y'] - df['post0_y'])**2)\n",
    "p1_dist = np.sqrt((df['x'] - df['post1_x'])**2 + (df['y'] - df['post1_y'])**2)\n",
    "\n",
    "df['dmin'] = np.nanmin([p0_dist, p1_dist], axis=0)\n",
    "df['post'] = 0\n",
    "df.loc[p1_dist < p0_dist, 'post'] = 1"
   ]
  },
  {
   "cell_type": "code",
   "execution_count": 19,
   "metadata": {},
   "outputs": [],
   "source": [
    "tmax = df.loc[:,['uuid', 'nStimuli', 'event', 't']]\n",
    "tmax = tmax.groupby(['uuid', 'nStimuli', 'event']).max().reset_index()\n",
    "dmin = df.loc[:,['uuid', 'nStimuli', 'event', 't', 'dmin', 'post', 'angle']]\n",
    "\n",
    "dists = pd.merge(tmax, dmin, how='left')\n",
    "dists = dists[dists['dmin'] < 0.5]\n",
    "\n",
    "locust_idx = dists.loc[dists['angle'] == angles[1], 'uuid']\n",
    "locust_idx = locust_idx.reset_index()['uuid']\n",
    "\n",
    "dists = dists.loc[:,['uuid', 'nStimuli', 'event']]\n",
    "\n",
    "df = pd.merge(dists, df, how='left')"
   ]
  },
  {
   "cell_type": "code",
   "execution_count": 20,
   "metadata": {},
   "outputs": [],
   "source": [
    "tmp0 = df[df['nStimuli'] == 0]\n",
    "tmp1 = df[(df['nStimuli'] > 0) & (df['nStimuli'] < 4) & (df['angle'] == angles[0])]\n",
    "tmp2 = df[(df['nStimuli'] > 0) & (df['nStimuli'] < 4) & (df['angle'] == angles[1])]\n",
    "tmp3 = df[(df['nStimuli'] > 0) & (df['nStimuli'] < 4) & (df['angle'] == angles[2])]\n",
    "tmp4 = df[df['nStimuli'] == 4]"
   ]
  },
  {
   "cell_type": "code",
   "execution_count": 21,
   "metadata": {},
   "outputs": [],
   "source": [
    "df2 = tmp2.loc[:, ['rotated_x', 'rotated_y', 't']]\n",
    "df2 = df2.reset_index(drop=True)\n",
    "df2['event'] = 0\n",
    "df2['t2'] = 0"
   ]
  },
  {
   "cell_type": "code",
   "execution_count": 22,
   "metadata": {},
   "outputs": [],
   "source": [
    "idx=0\n",
    "t = df2.loc[0, \"t\"]\n",
    "t2 = df2.loc[0, \"t2\"]\n",
    "df2.loc[0, \"t\"] = df2.loc[0, \"t\"] - t\n",
    "df2.loc[0, \"t2\"] = df2.loc[0, \"t2\"] - t2\n",
    "df2.loc[0, \"uuid\"] = locust_idx[idx]+np.max(df1['uuid'])\n",
    "\n",
    "for i in range(1, df2.shape[0]):\n",
    "    if (\n",
    "        np.sqrt(\n",
    "            (df2.loc[i, \"rotated_x\"] - df2.loc[i - 1, \"rotated_x\"]) ** 2\n",
    "            + (df2.loc[i, \"rotated_y\"] - df2.loc[i - 1, \"rotated_y\"]) ** 2\n",
    "        )\n",
    "        < 0.5\n",
    "    ):\n",
    "        df2.loc[i, \"event\"] = df2.loc[i - 1, \"event\"]\n",
    "        df2.loc[i, \"t\"] = df2.loc[i, \"t\"] - t\n",
    "        df2.loc[i, \"t2\"] = i-1 - t2\n",
    "        df2.loc[i, \"uuid\"] = locust_idx[idx]+np.max(df1['uuid'])\n",
    "    else:\n",
    "        df2.loc[i, \"event\"] = df2.loc[i - 1, \"event\"] + 1\n",
    "        t = df2.loc[i, \"t\"]\n",
    "        t2 = i-1\n",
    "        idx += 1\n",
    "        \n",
    "        df2.loc[i, \"uuid\"] = locust_idx[idx]+np.max(df1['uuid'])\n",
    "        df2.loc[i, \"t\"] = df2.loc[i, \"t\"] - t\n",
    "        df2.loc[i, \"t2\"] = i-1 - t2"
   ]
  },
  {
   "cell_type": "markdown",
   "metadata": {},
   "source": [
    "### Combine tracks and visualise"
   ]
  },
  {
   "cell_type": "code",
   "execution_count": 23,
   "metadata": {},
   "outputs": [],
   "source": [
    "df = pd.concat((df1,df2))\n",
    "\n",
    "df['track_type'] = 1\n",
    "\n",
    "short_events = list(np.unique(df.loc[df[\"t2\"] > 170, \"event\"]))\n",
    "long_events = list(np.unique(df.loc[df[\"t2\"] > 300, \"event\"]))\n",
    "\n",
    "df.loc[~df[\"event\"].isin(short_events), 'track_type'] = 0\n",
    "df.loc[df[\"event\"].isin(long_events), 'track_type'] = 2"
   ]
  },
  {
   "cell_type": "code",
   "execution_count": 24,
   "metadata": {},
   "outputs": [],
   "source": [
    "tmax = df.loc[:, [\"t2\", \"event\"]]\n",
    "tmax = tmax.groupby([\"event\"]).max().reset_index()\n",
    "\n",
    "handedness = pd.merge(tmax, df, how=\"left\")"
   ]
  },
  {
   "cell_type": "code",
   "execution_count": 25,
   "metadata": {},
   "outputs": [],
   "source": [
    "post0_x = 2.0*np.cos(np.pi/8)\n",
    "post0_y = -2.0*np.sin(np.pi/8)\n",
    "\n",
    "post1_x = 2.0*np.cos(np.pi/8)\n",
    "post1_y = 2.0*np.sin(np.pi/8)"
   ]
  },
  {
   "cell_type": "code",
   "execution_count": 26,
   "metadata": {},
   "outputs": [],
   "source": [
    "p0_dist = np.sqrt((handedness[\"rotated_x\"] - post0_x) ** 2 + (handedness[\"rotated_y\"] - post0_y) ** 2)\n",
    "p1_dist = np.sqrt((handedness[\"rotated_x\"] - post1_x) ** 2 + (handedness[\"rotated_y\"] - post1_y) ** 2)\n",
    "\n",
    "handedness[\"post\"] = 0\n",
    "handedness.loc[p1_dist < p0_dist, \"post\"] = 1"
   ]
  },
  {
   "cell_type": "markdown",
   "metadata": {},
   "source": [
    "#### handedness plot"
   ]
  },
  {
   "cell_type": "code",
   "execution_count": 27,
   "metadata": {},
   "outputs": [],
   "source": [
    "handedness_events = handedness.loc[:,['uuid', 'event', 'post']]\n",
    "handedness_events = handedness_events.drop_duplicates()\n",
    "\n",
    "handedness_events = handedness_events.groupby(['uuid','post']).count().reset_index()"
   ]
  },
  {
   "cell_type": "code",
   "execution_count": 28,
   "metadata": {},
   "outputs": [],
   "source": [
    "left = np.zeros(len(np.unique(handedness_events['uuid'])))\n",
    "right = np.zeros(len(np.unique(handedness_events['uuid'])))\n",
    "\n",
    "for idx,loc_id in enumerate(np.unique(handedness_events['uuid'])):\n",
    "    if handedness_events.loc[(handedness_events['uuid'] == loc_id) & (handedness_events['post'] == 0), 'event'].values.size != 0:\n",
    "        left[int(idx)] = handedness_events.loc[(handedness_events['uuid'] == loc_id) & (handedness_events['post'] == 0), 'event'].values[0]\n",
    "    if handedness_events.loc[(handedness_events['uuid'] == loc_id) & (handedness_events['post'] == 1), 'event'].values.size != 0:\n",
    "        right[int(idx)] = handedness_events.loc[(handedness_events['uuid'] == loc_id) & (handedness_events['post'] == 1), 'event'].values[0]\n",
    "\n",
    "total = left+right\n",
    "left = left/total\n",
    "right = right/total"
   ]
  },
  {
   "cell_type": "code",
   "execution_count": 29,
   "metadata": {},
   "outputs": [
    {
     "data": {
      "image/png": "[encoded data removed]",
      "text/plain": [
       "<Figure size 432x144 with 1 Axes>"
      ]
     },
     "metadata": {},
     "output_type": "display_data"
    }
   ],
   "source": [
    "left_asc = left.argsort()\n",
    "left = left[left_asc[::-1]]\n",
    "right = right[left_asc[::-1]]\n",
    "\n",
    "x = np.arange(0,len(np.unique(handedness_events['uuid'])))\n",
    "barWidth = 1\n",
    "\n",
    "fig,ax = plt.subplots(1,1,figsize=(6,2))\n",
    "ax.bar(x, left, color='#df5e54', edgecolor='white', width=barWidth)\n",
    "ax.bar(x, right, bottom=left, color='#6ea2a7', edgecolor='white', width=barWidth)\n",
    "ax.set_xlim(-1,np.max(x)+1)\n",
    "ax.tick_params(axis='x', labelsize=14)\n",
    "ax.tick_params(axis='y', labelsize=14)\n",
    "\n",
    "fig.savefig(\"/mnt/ssd1/Documents/Vivek/locustVR/figures/2_post_handedness.pdf\", dpi=300, bbox_inches=\"tight\")"
   ]
  },
  {
   "cell_type": "markdown",
   "metadata": {},
   "source": [
    "#### directedness plot"
   ]
  },
  {
   "cell_type": "code",
   "execution_count": 30,
   "metadata": {},
   "outputs": [],
   "source": [
    "df_events = df.loc[:,['uuid', 'event', 'track_type']]\n",
    "df_events = df_events.drop_duplicates()\n",
    "\n",
    "df_events = df_events.groupby(['uuid','track_type']).count().reset_index()"
   ]
  },
  {
   "cell_type": "code",
   "execution_count": 31,
   "metadata": {},
   "outputs": [],
   "source": [
    "short = np.zeros(len(np.unique(df_events['uuid'])))\n",
    "mid = np.zeros(len(np.unique(df_events['uuid'])))\n",
    "long = np.zeros(len(np.unique(df_events['uuid'])))\n",
    "\n",
    "for idx,loc_id in enumerate(np.unique(df_events['uuid'])):\n",
    "    if df_events.loc[(df_events['uuid'] == loc_id) & (df_events['track_type'] == 0), 'event'].values.size != 0:\n",
    "        short[int(idx)] = df_events.loc[(df_events['uuid'] == loc_id) & (df_events['track_type'] == 0), 'event'].values[0]\n",
    "    if df_events.loc[(df_events['uuid'] == loc_id) & (df_events['track_type'] == 1), 'event'].values.size != 0:\n",
    "        mid[int(idx)] = df_events.loc[(df_events['uuid'] == loc_id) & (df_events['track_type'] == 1), 'event'].values[0]\n",
    "    if df_events.loc[(df_events['uuid'] == loc_id) & (df_events['track_type'] == 2), 'event'].values.size != 0:\n",
    "        long[int(idx)] = df_events.loc[(df_events['uuid'] == loc_id) & (df_events['track_type'] == 2), 'event'].values[0]\n",
    "\n",
    "total = short+mid+long\n",
    "short = short/total\n",
    "mid = mid/total\n",
    "long = long/total"
   ]
  },
  {
   "cell_type": "code",
   "execution_count": 32,
   "metadata": {},
   "outputs": [],
   "source": [
    "long_asc = long.argsort()\n",
    "long_idx = np.max(np.where(long[long_asc]==0))+1\n",
    "long_asc = long_asc[long_idx:]\n",
    "\n",
    "short_asc = short.argsort()\n",
    "short_idx = np.max(np.where(short[short_asc]==0))+1\n",
    "short_asc = short_asc[short_idx:]\n",
    "short_asc = short_asc[np.isin(short_asc, long_asc) == False]\n",
    "\n",
    "mid_asc = mid.argsort()\n",
    "mid_asc = mid_asc[np.isin(mid_asc, np.concatenate((long_asc,short_asc), axis=0)) == False]"
   ]
  },
  {
   "cell_type": "code",
   "execution_count": 33,
   "metadata": {},
   "outputs": [
    {
     "data": {
      "image/png": "[encoded data removed]",
      "text/plain": [
       "<Figure size 504x144 with 1 Axes>"
      ]
     },
     "metadata": {},
     "output_type": "display_data"
    }
   ],
   "source": [
    "order = np.concatenate((short_asc[::-1], mid_asc, long_asc), axis=0)\n",
    "short = short[order]\n",
    "mid = mid[order]\n",
    "long = long[order]\n",
    "\n",
    "x = np.arange(0,len(np.unique(df_events['uuid'])))\n",
    "barWidth = 1\n",
    "\n",
    "fig,ax = plt.subplots(1,1,figsize=(7,2))\n",
    "ax.bar(x, short, color='#6b7b8c', edgecolor='white', width=barWidth)\n",
    "ax.bar(x, mid, bottom=short, color='#f4af1b', edgecolor='white', width=barWidth)\n",
    "ax.bar(x, long, bottom=short+mid, color='#3b4d61', edgecolor='white', width=barWidth)\n",
    "ax.set_xlim(-1,np.max(x)+1)\n",
    "ax.tick_params(axis='x', labelsize=14)\n",
    "ax.tick_params(axis='y', labelsize=14)\n",
    "\n",
    "fig.savefig(\"/mnt/ssd1/Documents/Vivek/locustVR/figures/2_post_directedness.pdf\", dpi=300, bbox_inches=\"tight\")"
   ]
  },
  {
   "cell_type": "code",
   "execution_count": 34,
   "metadata": {},
   "outputs": [
    {
     "data": {
      "image/png": "[encoded data removed]",
      "text/plain": [
       "<Figure size 72x720 with 1 Axes>"
      ]
     },
     "metadata": {},
     "output_type": "display_data"
    }
   ],
   "source": [
    "fig,ax = plt.subplots(1,1,figsize=(1,10))\n",
    "ax.bar(0, len(short[short>0.5])/len(short), color='#6b7b8c')\n",
    "ax.bar(0, len(mid[mid>0.5])/len(mid), bottom=len(short[short>0.5])/len(short), color='#f4af1b')\n",
    "ax.bar(0, len(long[long>0.5])/len(long), bottom=len(short[short>0.5])/len(short)+(len(mid[mid>0.5])/len(mid)), color='#3b4d61')\n",
    "ax.bar(0, 1-len(short[short>0.5])/len(short)-len(mid[mid>0.5])/len(mid)-len(long[long>0.5])/len(long), bottom=len(short[short>0.5])/len(short)+(len(mid[mid>0.5])/len(mid)), color='#3b4d61')\n",
    "ax.set_xlim(0,0.2)\n",
    "ax.set_ylim(0,1)\n",
    "ax.set_xticks([])\n",
    "ax.set_yticks([])\n",
    "\n",
    "fig.savefig(\"/mnt/ssd1/Documents/Vivek/locustVR/figures/2_post_directedness_prop.pdf\",\n",
    "    dpi=300, bbox_inches=\"tight\")"
   ]
  },
  {
   "cell_type": "code",
   "execution_count": null,
   "metadata": {},
   "outputs": [],
   "source": []
  }
 ],
 "metadata": {
  "kernelspec": {
   "display_name": "Python 3",
   "language": "python",
   "name": "python3"
  },
  "language_info": {
   "codemirror_mode": {
    "name": "ipython",
    "version": 3
   },
   "file_extension": ".py",
   "mimetype": "text/x-python",
   "name": "python",
   "nbconvert_exporter": "python",
   "pygments_lexer": "ipython3",
   "version": "3.6.3"
  }
 },
 "nbformat": 4,
 "nbformat_minor": 2
}
