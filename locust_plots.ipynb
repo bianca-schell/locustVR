{
 "cells": [
  {
   "cell_type": "code",
   "execution_count": 1,
   "metadata": {},
   "outputs": [],
   "source": [
    "import numpy as np\n",
    "import pandas as pd\n",
    "import matplotlib.pyplot as plt\n",
    "import sqlite3\n",
    "import glob\n",
    "import sys\n",
    "import copy\n",
    "import cv2\n",
    "from imp import reload"
   ]
  },
  {
   "cell_type": "code",
   "execution_count": 2,
   "metadata": {},
   "outputs": [],
   "source": [
    "dataDIR = '/mnt/ssd1/Documents/Vivek/locustVR/databases/data_collection/'\n",
    "projectDB = '/mnt/ssd1/Documents/Vivek/locustVR/databases/locustProjects_20_01_07.db'\n",
    "expDB = '/mnt/ssd1/Documents/Vivek/locustVR/databases/locustExperiments_20_01_07.db'"
   ]
  },
  {
   "cell_type": "code",
   "execution_count": 3,
   "metadata": {},
   "outputs": [],
   "source": [
    "nPosts = 2"
   ]
  },
  {
   "cell_type": "code",
   "execution_count": 4,
   "metadata": {},
   "outputs": [],
   "source": [
    "def rotate(xy, radians):\n",
    "    x, y = xy\n",
    "    c, s = np.cos(radians), np.sin(radians)\n",
    "    j = np.matrix([[c, s], [-s, c]])\n",
    "    m = np.dot(j, [x, y])\n",
    "\n",
    "    return m"
   ]
  },
  {
   "cell_type": "code",
   "execution_count": 5,
   "metadata": {},
   "outputs": [
    {
     "name": "stdout",
     "output_type": "stream",
     "text": [
      "fetched : [('c0127c9b-3ff9-4c49-8db4-6900ff4c2b2a',), ('54a35a9f-9eb0-4404-bc9d-8ed7b71192c5',), ('7ac51c48-5f5a-4ac3-9930-56772578c1ee',), ('3a1d5deb-e8f7-48a4-aabb-25456f941c43',), ('752b3218-e802-47e8-bbc6-1049f15e6f85',), ('13e69b2f-9760-4625-a309-511af2c5afb2',), ('2a7c4e5b-deb9-4c55-b0f7-2547034b8b4d',), ('da620536-7437-4bf6-a7de-ba36f19b4177',), ('acb6ec35-e1e0-450a-98ca-581b0f21723e',), ('1730f55c-ba6b-467b-96a8-f23c387f2905',), ('a57b486a-c26a-4016-9722-56846965487e',), ('ded361ec-3214-458a-858f-1be11809fd14',), ('8f13a403-e1bd-4adf-9a4a-ef18b2e4915e',), ('8e0cb790-55be-46b5-be17-f92c2208f12d',), ('5cb7d44f-5166-46ce-b317-f4bd8d3267c5',), ('9e41ebbd-fadd-4ea5-8457-77c541faa137',), ('e62178c9-e0f0-4970-82b6-e26225576f3b',), ('19c69caf-3dc5-4cf4-950c-95acad45ecd9',), ('a678f783-103d-4485-a995-78d7f6b9824e',), ('43f0818a-bae1-44ca-bef9-8823bb8c8ab9',), ('5e103a3b-105b-4820-92e1-b2c2cf2c11ee',), ('2292bbb7-d520-4715-a948-dbd7422e6660',), ('125adcc5-4f9b-47ba-9849-53aa901c5442',), ('bb55e2f3-585f-4f80-8150-a719ef75deec',), ('e0812ca8-c9a4-4ce7-8a33-a9560cf538f7',), ('b06e1942-5c28-4b3e-bb96-11bb36047f69',), ('7dfa5ca0-9425-4f3f-8e09-061b01eb9435',), ('b727a0ae-037b-4c99-b60a-fbf1befd5c54',), ('4c6c1b17-5a12-43f9-8c26-739869756083',)]\n"
     ]
    }
   ],
   "source": [
    "# establish a connecttion to the project database\n",
    "conn = sqlite3.connect(projectDB)\n",
    "# connect a cursor that goes through the project database\n",
    "cursorProject = conn.cursor()\n",
    "# establish a second connecttion to the experiment database\n",
    "conn2 = sqlite3.connect(expDB)\n",
    "# connect a cursor that goes through the experiment database\n",
    "cursorExperiment = conn2.cursor()\n",
    "\n",
    "# pick experiments from specified project\n",
    "cursorExperiment.execute(\"Select expId from experiments where project = ? and exp >= ? and exp < ?\",('DecisionGeometry', (nPosts-2)*10, (nPosts-1)*10))\n",
    "fetched = cursorExperiment.fetchall()\n",
    "print('fetched : ' + str(fetched))"
   ]
  },
  {
   "cell_type": "code",
   "execution_count": 6,
   "metadata": {},
   "outputs": [],
   "source": [
    "angles = []\n",
    "dataDict0 = []\n",
    "dataDict1 = []\n",
    "rot_post0 = []\n",
    "for uuid in range(0,len(fetched)):\n",
    "    cursorExperiment.execute(\"Select exp from experiments where expId = ?\", (fetched[uuid][0],))\n",
    "    fetch_exp = cursorExperiment.fetchall()[0][0]\n",
    "    cursorExperiment.execute(\"Select replicate from experiments where expId = ?\", (fetched[uuid][0],))\n",
    "    fetch_rep = cursorExperiment.fetchall()[0][0]\n",
    "\n",
    "    cursorProject.execute(\"Select post0 from projects where project = ? and exp = ? and replicate = ?\",('DecisionGeometry', fetch_exp, fetch_rep))\n",
    "    dataDict0.append(cursorProject.fetchall())\n",
    "    cursorProject.execute(\"Select post1 from projects where project = ? and exp = ? and replicate = ?\",('DecisionGeometry', fetch_exp, fetch_rep))\n",
    "    dataDict1.append(cursorProject.fetchall())\n",
    "\n",
    "    tmp = pd.read_csv(dataDIR + fetched[uuid][0] + \"/results.csv\", names = [\"x\", \"y\", \"z\", \"event\", \"t\", \"nStimuli\"])\n",
    "    tmp['uuid'] = uuid\n",
    "    tmp['angle'] = np.nan\n",
    "    tmp['post0_x'] = tmp['post0_y'] = tmp['post1_x'] = tmp['post1_y'] = np.nan\n",
    "    \n",
    "    for a in range(1,4):\n",
    "        tmp.loc[tmp['nStimuli'] == a, 'angle'] = eval(dataDict0[uuid][a][0])['angle']\n",
    "\n",
    "    df = tmp if uuid == 0 else pd.concat([df,tmp])\n",
    "    rot_post0.append([eval(dataDict0[uuid][1][0])['distance'], 0.0])\n",
    "\n",
    "    cursorProject.execute(\"Select post1 from projects where project = ? and exp >= ? and exp < ?\",('DecisionGeometry', (nPosts-2)*10, (nPosts-1)*10))\n",
    "    for a in np.unique(cursorProject.fetchall()):\n",
    "        if a != 'None' and eval(a)['angle'] not in angles:\n",
    "            angles.append(eval(a)['angle'])\n",
    "\n",
    "angles = np.sort(np.array(angles))"
   ]
  },
  {
   "cell_type": "code",
   "execution_count": 7,
   "metadata": {},
   "outputs": [],
   "source": [
    "# add post positions to dataframe\n",
    "nStimuli = np.unique(df['nStimuli'])\n",
    "for uuid in range(0,len(fetched)):\n",
    "    for i in range(0,np.max(nStimuli)+1):\n",
    "        df.loc[(df['uuid'] == uuid) & (df['nStimuli'] == i),'post0_x'] = eval(dataDict0[uuid][nStimuli[i]][0])['position'][0]\n",
    "        df.loc[(df['uuid'] == uuid) & (df['nStimuli'] == i),'post0_y'] = eval(dataDict0[uuid][nStimuli[i]][0])['position'][1]\n",
    "        if i > 0 and i < np.max(nStimuli):\n",
    "            df.loc[(df['uuid'] == uuid) & (df['nStimuli'] == i),'post1_x'] = eval(dataDict1[uuid][nStimuli[i]][0])['position'][0]\n",
    "            df.loc[(df['uuid'] == uuid) & (df['nStimuli'] == i),'post1_y'] = eval(dataDict1[uuid][nStimuli[i]][0])['position'][1]\n",
    "\n",
    "# initialise rotation of tracks and posts\n",
    "df['rotated_x'] = df['rotated_y'] = 0.0\n",
    "df['rotated_post0_x'] = df['rotated_post0_y'] = df['rotated_post1_x'] = df['rotated_post1_y'] = 0.0\n",
    "df['ang'] = 0.0\n",
    "prerot_idx = 7+2*nPosts\n",
    "postrot_idx = 7+2*nPosts+2+2*nPosts"
   ]
  },
  {
   "cell_type": "code",
   "execution_count": null,
   "metadata": {},
   "outputs": [],
   "source": [
    "# get rotation angle\n",
    "for uuid in range(0,len(fetched)):\n",
    "    rot_post0_x = rot_post0[uuid][0]\n",
    "    rot_post0_y = rot_post0[uuid][1]\n",
    "    df.iloc[np.where(df['uuid'] == uuid)[0],postrot_idx+1] = np.arctan2(df.loc[df['uuid'] == uuid,'post0_y'], df.loc[df['uuid'] == uuid,'post0_x'])\n",
    "\n",
    "# rotate tracks and posts (posts are now centred along positive x-axis)\n",
    "for uuid in range(0,len(fetched)):\n",
    "    for i in range(0,np.max(nStimuli)+1):\n",
    "        ang = np.unique(df.loc[(df['uuid'] == uuid) & (df['nStimuli'] == i),'ang'])[0] \n",
    "        if i > 0 and i < np.max(nStimuli): \n",
    "            ang += (nPosts-1)*eval(dataDict0[uuid][nStimuli[i]][0])['angle']/2\n",
    "\n",
    "        rx,ry = rotate(np.array((df.loc[(df['uuid'] == uuid) & (df['nStimuli'] == i),'x'],df.loc[(df['uuid'] == uuid) & (df['nStimuli'] == i),'y'])), ang)\n",
    "        df.loc[(df['uuid'] == uuid) & (df['nStimuli'] == i),'rotated_x'] = np.squeeze(np.asarray(rx.T))\n",
    "        df.loc[(df['uuid'] == uuid) & (df['nStimuli'] == i),'rotated_y'] = np.squeeze(np.asarray(ry.T))\n",
    "\n",
    "        rp0x,rp0y = rotate(np.array((df.loc[(df['uuid'] == uuid) & (df['nStimuli'] == i),'post0_x'],df.loc[(df['uuid'] == uuid) & (df['nStimuli'] == i),'post0_y'])), ang)\n",
    "        df.loc[(df['uuid'] == uuid) & (df['nStimuli'] == i),'rotated_post0_x'] = np.squeeze(np.asarray(rp0x.T))\n",
    "        df.loc[(df['uuid'] == uuid) & (df['nStimuli'] == i),'rotated_post0_y'] = np.squeeze(np.asarray(rp0y.T))\n",
    "\n",
    "        rp1x,rp1y = rotate(np.array((df.loc[(df['uuid'] == uuid) & (df['nStimuli'] == i),'post1_x'],df.loc[(df['uuid'] == uuid) & (df['nStimuli'] == i),'post1_y'])), ang)\n",
    "        df.loc[(df['uuid'] == uuid) & (df['nStimuli'] == i),'rotated_post1_x'] = np.squeeze(np.asarray(rp1x.T))\n",
    "        df.loc[(df['uuid'] == uuid) & (df['nStimuli'] == i),'rotated_post1_y'] = np.squeeze(np.asarray(rp1y.T))"
   ]
  },
  {
   "cell_type": "code",
   "execution_count": null,
   "metadata": {},
   "outputs": [],
   "source": [
    "for i1, u in enumerate(np.unique(df['uuid'])):\n",
    "    tmp = df[df['uuid'] == u]\n",
    "    for i2, n in enumerate(np.unique(tmp['nStimuli'])):\n",
    "        tmp2 = tmp[tmp['nStimuli'] == n]\n",
    "        for i3, e in enumerate(np.unique(tmp2['event'])):\n",
    "            df.loc[(df['uuid'] == u) & (df['nStimuli'] == n) & (df['event'] == e), 'uuid'] = i1\n",
    "            df.loc[(df['uuid'] == u) & (df['nStimuli'] == n) & (df['event'] == e), 'nStimuli'] = i2\n",
    "            df.loc[(df['uuid'] == u) & (df['nStimuli'] == n) & (df['event'] == e), 'event'] = i3"
   ]
  },
  {
   "cell_type": "code",
   "execution_count": null,
   "metadata": {},
   "outputs": [],
   "source": [
    "tmp0 = df[df['nStimuli'] == 0]\n",
    "tmp1 = df[(df['nStimuli'] > 0) & (df['nStimuli'] < 4) & (df['angle'] == angles[0])]\n",
    "tmp2 = df[(df['nStimuli'] > 0) & (df['nStimuli'] < 4) & (df['angle'] == angles[1])]\n",
    "tmp3 = df[(df['nStimuli'] > 0) & (df['nStimuli'] < 4) & (df['angle'] == angles[2])]\n",
    "tmp4 = df[df['nStimuli'] == 4]"
   ]
  },
  {
   "cell_type": "code",
   "execution_count": null,
   "metadata": {
    "scrolled": false
   },
   "outputs": [],
   "source": [
    "fig, ax = plt.subplots(1, 5, figsize = (40,8))\n",
    "ax[0].scatter(tmp0['rotated_x'], tmp0['rotated_y'], c='black', s=1, alpha=0.01)\n",
    "ax[0].scatter(tmp0['rotated_post0_x'], tmp0['rotated_post0_y'], c='red')\n",
    "\n",
    "ax[1].scatter(tmp1['rotated_x'], tmp1['rotated_y'], c='black', s=1, alpha=0.01)\n",
    "ax[1].scatter(tmp1['rotated_post0_x'], tmp1['rotated_post0_y'], c='red')\n",
    "ax[1].scatter(tmp1['rotated_post1_x'], tmp1['rotated_post1_y'], c='red')\n",
    "\n",
    "ax[2].scatter(tmp2['rotated_x'], tmp2['rotated_y'], c='black', s=1, alpha=0.01)\n",
    "ax[2].scatter(tmp2['rotated_post0_x'], tmp2['rotated_post0_y'], c='red')\n",
    "ax[2].scatter(tmp2['rotated_post1_x'], tmp2['rotated_post1_y'], c='red') \n",
    "\n",
    "ax[3].scatter(tmp3['rotated_x'], tmp3['rotated_y'], c='black', s=1, alpha=0.01)\n",
    "ax[3].scatter(tmp3['rotated_post0_x'], tmp3['rotated_post0_y'], c='red')\n",
    "ax[3].scatter(tmp3['rotated_post1_x'], tmp3['rotated_post1_y'], c='red')\n",
    "ax[3].set_xlim(-2.2,2.2)\n",
    "ax[3].set_ylim(-2.2,2.2)\n",
    "\n",
    "ax[4].scatter(tmp4['rotated_x'], tmp4['rotated_y'], c='black', s=1, alpha=0.01)\n",
    "ax[4].scatter(tmp4['rotated_post0_x'], tmp4['rotated_post0_y'], c='red')"
   ]
  },
  {
   "cell_type": "code",
   "execution_count": 15,
   "metadata": {
    "scrolled": false
   },
   "outputs": [],
   "source": [
    "if nPosts == 2:\n",
    "    xs = all_experiments.get((0,1,)).metaFish['x'][:,0]\n",
    "    ys = all_experiments.get((0,1,)).metaFish['x'][:,1]\n",
    "\n",
    "    post0_x = np.unique(all_experiments.get((0,1,0,0,1)).var['x'][:,0])[0] \n",
    "    post0_y = np.unique(all_experiments.get((0,1,0,0,1)).var['x'][:,1])[0]\n",
    "\n",
    "    post1_x = np.unique(all_experiments.get((0,1,0,0,2)).var['x'][:,0])[0] \n",
    "    post1_y = np.unique(all_experiments.get((0,1,0,0,2)).var['x'][:,1])[0]\n",
    "\n",
    "else:\n",
    "    xs = all_experiments.get((0,2,)).metaFish['x'][:,0]\n",
    "    ys = all_experiments.get((0,2,)).metaFish['x'][:,1]\n",
    "    \n",
    "    post0_x = np.unique(all_experiments.get((0,2,0,0,1)).var['x'][:,0])[0] \n",
    "    post0_y = np.unique(all_experiments.get((0,2,0,0,1)).var['x'][:,1])[0]\n",
    "\n",
    "    post1_x = np.unique(all_experiments.get((0,2,0,0,2)).var['x'][:,0])[0] \n",
    "    post1_y = np.unique(all_experiments.get((0,2,0,0,2)).var['x'][:,1])[0]\n",
    "    \n",
    "    post2_x = np.unique(all_experiments.get((0,2,0,0,3)).var['x'][:,0])[0] \n",
    "    post2_y = np.unique(all_experiments.get((0,2,0,0,3)).var['x'][:,1])[0]\n",
    "    \n",
    "    xs = np.concatenate((xs,xs))\n",
    "    ys = np.concatenate((ys,-ys))"
   ]
  },
  {
   "cell_type": "code",
   "execution_count": 16,
   "metadata": {
    "scrolled": false
   },
   "outputs": [],
   "source": [
    "nbins = 500\n",
    "peak_threshold = 0.8\n",
    "\n",
    "\n",
    "def density_map(x, y, stats=True):\n",
    "    if nPosts == 2:\n",
    "        val = 201\n",
    "\n",
    "        blur = (11, 11) if stats == True else (val, val)\n",
    "        r = (\n",
    "            [[0, post0_x], [post0_y, post1_y]]\n",
    "        )\n",
    "    else:\n",
    "        val = 101\n",
    "\n",
    "        blur = (11, 11) if stats == True else (val, val)\n",
    "        r = [[0, post1_x], [post0_y, post2_y]]\n",
    "    h, xedge, yedge, image = plt.hist2d(x, y, bins=nbins, normed=True, range=r)\n",
    "\n",
    "    if nPosts == 2:\n",
    "        tmp_img = np.flipud(np.rot90(cv2.GaussianBlur(h, blur, 0)))\n",
    "    else:\n",
    "        tmp_img = np.flipud(np.rot90(cv2.GaussianBlur(h, blur, 0)))\n",
    "\n",
    "    for i in range(0, nbins):\n",
    "        max_val = np.max(tmp_img[:, i])\n",
    "        tmp_img[:, i] = tmp_img[:, i] / max_val\n",
    "\n",
    "    return tmp_img"
   ]
  },
  {
   "cell_type": "code",
   "execution_count": 17,
   "metadata": {
    "scrolled": false
   },
   "outputs": [
    {
     "name": "stderr",
     "output_type": "stream",
     "text": [
      "/home/user/.local/lib/python3.6/site-packages/ipykernel_launcher.py:18: MatplotlibDeprecationWarning: The 'normed' parameter of hist2d() has been renamed 'density' since Matplotlib 3.1; support for the old name will be dropped in 3.3.\n"
     ]
    },
    {
     "data": {
      "image/png": "[encoded data removed]",
      "text/plain": [
       "<Figure size 432x288 with 1 Axes>"
      ]
     },
     "metadata": {},
     "output_type": "display_data"
    }
   ],
   "source": [
    "img = density_map(xs, ys, stats=False)\n",
    "\n",
    "if nPosts == 2:\n",
    "    x_peaks = np.where(img > peak_threshold)[1] * post0_x / nbins\n",
    "    y_peaks = np.where(img > peak_threshold)[0] * (post0_y - post1_y) / nbins + post1_y\n",
    "else:\n",
    "    x_peaks = np.where(img > peak_threshold)[1] * post1_x / nbins\n",
    "    y_peaks = np.where(img > peak_threshold)[0] * (post0_y - post2_y) / nbins + post2_y"
   ]
  },
  {
   "cell_type": "code",
   "execution_count": 18,
   "metadata": {},
   "outputs": [
    {
     "data": {
      "image/png": "[encoded data removed]",
      "text/plain": [
       "<Figure size 432x288 with 1 Axes>"
      ]
     },
     "metadata": {},
     "output_type": "display_data"
    }
   ],
   "source": [
    "if nPosts == 2:\n",
    "    plt.imshow(img ** 2, extent=[0, post0_x, post0_y, post1_y])\n",
    "else:\n",
    "    plt.imshow(img ** 2, extent=[0, post1_x, post0_y, post2_y])"
   ]
  },
  {
   "cell_type": "code",
   "execution_count": 24,
   "metadata": {},
   "outputs": [],
   "source": [
    "tmax = df.loc[:,['uuid', 'nStimuli', 'event', 't']]\n",
    "tmax = tmax.groupby(['uuid', 'nStimuli', 'event']).max().reset_index()\n",
    "dmin = df.loc[:,['uuid', 'nStimuli', 'event', 't', 'dmin', 'post']]\n",
    "\n",
    "dists = pd.merge(tmax, dmin, how='left')"
   ]
  },
  {
   "cell_type": "code",
   "execution_count": 25,
   "metadata": {},
   "outputs": [],
   "source": [
    "d = dists[(dists['nStimuli'] > 0) & (dists['nStimuli'] < 4)]"
   ]
  },
  {
   "cell_type": "code",
   "execution_count": 27,
   "metadata": {},
   "outputs": [
    {
     "name": "stdout",
     "output_type": "stream",
     "text": [
      "0.4575757575757576 0.5424242424242425\n"
     ]
    }
   ],
   "source": [
    "if nPosts == 2:\n",
    "    print(len(d[d['post'] == 0])/len(d), len(d[d['post'] == 1])/len(d))\n",
    "else:\n",
    "    print(len(d[d['post'] == 0])/len(d), len(d[d['post'] == 1])/len(d), len(d[d['post'] == 2])/len(d))"
   ]
  },
  {
   "cell_type": "code",
   "execution_count": null,
   "metadata": {},
   "outputs": [],
   "source": []
  }
 ],
 "metadata": {
  "kernelspec": {
   "display_name": "Python 3",
   "language": "python",
   "name": "python3"
  },
  "language_info": {
   "codemirror_mode": {
    "name": "ipython",
    "version": 3
   },
   "file_extension": ".py",
   "mimetype": "text/x-python",
   "name": "python",
   "nbconvert_exporter": "python",
   "pygments_lexer": "ipython3",
   "version": "3.6.3"
  }
 },
 "nbformat": 4,
 "nbformat_minor": 2
}
