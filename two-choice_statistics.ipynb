{
 "cells": [
  {
   "cell_type": "code",
   "execution_count": 1,
   "metadata": {},
   "outputs": [
    {
     "data": {
      "application/javascript": [
       "\n",
       "            setTimeout(function() {\n",
       "                var nbb_cell_id = 1;\n",
       "                var nbb_formatted_code = \"%load_ext nb_black\";\n",
       "                var nbb_cells = Jupyter.notebook.get_cells();\n",
       "                for (var i = 0; i < nbb_cells.length; ++i) {\n",
       "                    if (nbb_cells[i].input_prompt_number == nbb_cell_id) {\n",
       "                        nbb_cells[i].set_text(nbb_formatted_code);\n",
       "                        break;\n",
       "                    }\n",
       "                }\n",
       "            }, 500);\n",
       "            "
      ],
      "text/plain": [
       "<IPython.core.display.Javascript object>"
      ]
     },
     "metadata": {},
     "output_type": "display_data"
    }
   ],
   "source": [
    "%load_ext nb_black"
   ]
  },
  {
   "cell_type": "code",
   "execution_count": 2,
   "metadata": {},
   "outputs": [
    {
     "data": {
      "application/javascript": [
       "\n",
       "            setTimeout(function() {\n",
       "                var nbb_cell_id = 2;\n",
       "                var nbb_formatted_code = \"import numpy as np\\nimport pandas as pd\\nimport matplotlib.pyplot as plt\\nimport seaborn as sns\\nimport sqlite3\\nimport glob\\nimport sys\\nimport copy\\nimport cv2\\nfrom imp import reload\\nfrom scipy.optimize import curve_fit\\nfrom sklearn.mixture import GaussianMixture\\nfrom scipy.stats import norm\";\n",
       "                var nbb_cells = Jupyter.notebook.get_cells();\n",
       "                for (var i = 0; i < nbb_cells.length; ++i) {\n",
       "                    if (nbb_cells[i].input_prompt_number == nbb_cell_id) {\n",
       "                        nbb_cells[i].set_text(nbb_formatted_code);\n",
       "                        break;\n",
       "                    }\n",
       "                }\n",
       "            }, 500);\n",
       "            "
      ],
      "text/plain": [
       "<IPython.core.display.Javascript object>"
      ]
     },
     "metadata": {},
     "output_type": "display_data"
    }
   ],
   "source": [
    "import numpy as np\n",
    "import pandas as pd\n",
    "import matplotlib.pyplot as plt\n",
    "import seaborn as sns\n",
    "import sqlite3\n",
    "import glob\n",
    "import sys\n",
    "import copy\n",
    "import cv2\n",
    "from imp import reload\n",
    "from scipy.optimize import curve_fit\n",
    "from sklearn.mixture import GaussianMixture\n",
    "from scipy.stats import norm"
   ]
  },
  {
   "cell_type": "code",
   "execution_count": 28,
   "metadata": {},
   "outputs": [
    {
     "data": {
      "application/javascript": [
       "\n",
       "            setTimeout(function() {\n",
       "                var nbb_cell_id = 28;\n",
       "                var nbb_formatted_code = \"nPosts = 2\\nspatial_discretisation_step = 0.01\\nrandomisations = 1000\\n\\ndataDIR = \\\"/mnt/ssd1/Documents/Vivek/locustVR/databases/data_collection/\\\"\\nprojectDB = \\\"/mnt/ssd1/Documents/Vivek/locustVR/databases/locustProjects_20_01_07.db\\\"\\nexpDB = \\\"/mnt/ssd1/Documents/Vivek/locustVR/databases/locustExperiments_20_01_07.db\\\"\";\n",
       "                var nbb_cells = Jupyter.notebook.get_cells();\n",
       "                for (var i = 0; i < nbb_cells.length; ++i) {\n",
       "                    if (nbb_cells[i].input_prompt_number == nbb_cell_id) {\n",
       "                        nbb_cells[i].set_text(nbb_formatted_code);\n",
       "                        break;\n",
       "                    }\n",
       "                }\n",
       "            }, 500);\n",
       "            "
      ],
      "text/plain": [
       "<IPython.core.display.Javascript object>"
      ]
     },
     "metadata": {},
     "output_type": "display_data"
    }
   ],
   "source": [
    "nPosts = 2\n",
    "spatial_discretisation_step = 0.01\n",
    "randomisations = 1000\n",
    "\n",
    "dataDIR = \"/mnt/ssd1/Documents/Vivek/locustVR/databases/data_collection/\"\n",
    "projectDB = \"/mnt/ssd1/Documents/Vivek/locustVR/databases/locustProjects_20_01_07.db\"\n",
    "expDB = \"/mnt/ssd1/Documents/Vivek/locustVR/databases/locustExperiments_20_01_07.db\""
   ]
  },
  {
   "cell_type": "code",
   "execution_count": 4,
   "metadata": {},
   "outputs": [
    {
     "data": {
      "application/javascript": [
       "\n",
       "            setTimeout(function() {\n",
       "                var nbb_cell_id = 4;\n",
       "                var nbb_formatted_code = \"def rotate(xy, radians):\\n    x, y = xy\\n    c, s = np.cos(radians), np.sin(radians)\\n    j = np.matrix([[c, s], [-s, c]])\\n    m = np.dot(j, [x, y])\\n\\n    return m\";\n",
       "                var nbb_cells = Jupyter.notebook.get_cells();\n",
       "                for (var i = 0; i < nbb_cells.length; ++i) {\n",
       "                    if (nbb_cells[i].input_prompt_number == nbb_cell_id) {\n",
       "                        nbb_cells[i].set_text(nbb_formatted_code);\n",
       "                        break;\n",
       "                    }\n",
       "                }\n",
       "            }, 500);\n",
       "            "
      ],
      "text/plain": [
       "<IPython.core.display.Javascript object>"
      ]
     },
     "metadata": {},
     "output_type": "display_data"
    }
   ],
   "source": [
    "def rotate(xy, radians):\n",
    "    x, y = xy\n",
    "    c, s = np.cos(radians), np.sin(radians)\n",
    "    j = np.matrix([[c, s], [-s, c]])\n",
    "    m = np.dot(j, [x, y])\n",
    "\n",
    "    return m"
   ]
  },
  {
   "cell_type": "code",
   "execution_count": 5,
   "metadata": {},
   "outputs": [
    {
     "name": "stdout",
     "output_type": "stream",
     "text": [
      "fetched : [('c0127c9b-3ff9-4c49-8db4-6900ff4c2b2a',), ('54a35a9f-9eb0-4404-bc9d-8ed7b71192c5',), ('7ac51c48-5f5a-4ac3-9930-56772578c1ee',), ('3a1d5deb-e8f7-48a4-aabb-25456f941c43',), ('752b3218-e802-47e8-bbc6-1049f15e6f85',), ('13e69b2f-9760-4625-a309-511af2c5afb2',), ('2a7c4e5b-deb9-4c55-b0f7-2547034b8b4d',), ('da620536-7437-4bf6-a7de-ba36f19b4177',), ('acb6ec35-e1e0-450a-98ca-581b0f21723e',), ('1730f55c-ba6b-467b-96a8-f23c387f2905',), ('a57b486a-c26a-4016-9722-56846965487e',), ('ded361ec-3214-458a-858f-1be11809fd14',), ('8f13a403-e1bd-4adf-9a4a-ef18b2e4915e',), ('8e0cb790-55be-46b5-be17-f92c2208f12d',), ('5cb7d44f-5166-46ce-b317-f4bd8d3267c5',), ('9e41ebbd-fadd-4ea5-8457-77c541faa137',), ('e62178c9-e0f0-4970-82b6-e26225576f3b',), ('19c69caf-3dc5-4cf4-950c-95acad45ecd9',), ('a678f783-103d-4485-a995-78d7f6b9824e',), ('43f0818a-bae1-44ca-bef9-8823bb8c8ab9',), ('5e103a3b-105b-4820-92e1-b2c2cf2c11ee',), ('2292bbb7-d520-4715-a948-dbd7422e6660',), ('125adcc5-4f9b-47ba-9849-53aa901c5442',), ('bb55e2f3-585f-4f80-8150-a719ef75deec',), ('e0812ca8-c9a4-4ce7-8a33-a9560cf538f7',), ('b06e1942-5c28-4b3e-bb96-11bb36047f69',), ('7dfa5ca0-9425-4f3f-8e09-061b01eb9435',), ('b727a0ae-037b-4c99-b60a-fbf1befd5c54',), ('4c6c1b17-5a12-43f9-8c26-739869756083',)]\n"
     ]
    },
    {
     "data": {
      "application/javascript": [
       "\n",
       "            setTimeout(function() {\n",
       "                var nbb_cell_id = 5;\n",
       "                var nbb_formatted_code = \"# establish a connecttion to the project database\\nconn = sqlite3.connect(projectDB)\\n# connect a cursor that goes through the project database\\ncursorProject = conn.cursor()\\n# establish a second connecttion to the experiment database\\nconn2 = sqlite3.connect(expDB)\\n# connect a cursor that goes through the experiment database\\ncursorExperiment = conn2.cursor()\\n\\n# pick experiments from specified project\\ncursorExperiment.execute(\\n    \\\"Select expId from experiments where project = ? and exp >= ? and exp < ?\\\",\\n    (\\\"DecisionGeometry\\\", (nPosts - 2) * 10, (nPosts - 1) * 10),\\n)\\nfetched = cursorExperiment.fetchall()\\nprint(\\\"fetched : \\\" + str(fetched))\";\n",
       "                var nbb_cells = Jupyter.notebook.get_cells();\n",
       "                for (var i = 0; i < nbb_cells.length; ++i) {\n",
       "                    if (nbb_cells[i].input_prompt_number == nbb_cell_id) {\n",
       "                        nbb_cells[i].set_text(nbb_formatted_code);\n",
       "                        break;\n",
       "                    }\n",
       "                }\n",
       "            }, 500);\n",
       "            "
      ],
      "text/plain": [
       "<IPython.core.display.Javascript object>"
      ]
     },
     "metadata": {},
     "output_type": "display_data"
    }
   ],
   "source": [
    "# establish a connecttion to the project database\n",
    "conn = sqlite3.connect(projectDB)\n",
    "# connect a cursor that goes through the project database\n",
    "cursorProject = conn.cursor()\n",
    "# establish a second connecttion to the experiment database\n",
    "conn2 = sqlite3.connect(expDB)\n",
    "# connect a cursor that goes through the experiment database\n",
    "cursorExperiment = conn2.cursor()\n",
    "\n",
    "# pick experiments from specified project\n",
    "cursorExperiment.execute(\n",
    "    \"Select expId from experiments where project = ? and exp >= ? and exp < ?\",\n",
    "    (\"DecisionGeometry\", (nPosts - 2) * 10, (nPosts - 1) * 10),\n",
    ")\n",
    "fetched = cursorExperiment.fetchall()\n",
    "print(\"fetched : \" + str(fetched))"
   ]
  },
  {
   "cell_type": "code",
   "execution_count": 6,
   "metadata": {},
   "outputs": [
    {
     "data": {
      "application/javascript": [
       "\n",
       "            setTimeout(function() {\n",
       "                var nbb_cell_id = 6;\n",
       "                var nbb_formatted_code = \"angles = []\\ndataDict0 = []\\ndataDict1 = []\\nrot_post0 = []\\nfor uuid in range(0, len(fetched)):\\n    cursorExperiment.execute(\\n        \\\"Select exp from experiments where expId = ?\\\", (fetched[uuid][0],)\\n    )\\n    fetch_exp = cursorExperiment.fetchall()[0][0]\\n    cursorExperiment.execute(\\n        \\\"Select replicate from experiments where expId = ?\\\", (fetched[uuid][0],)\\n    )\\n    fetch_rep = cursorExperiment.fetchall()[0][0]\\n\\n    cursorProject.execute(\\n        \\\"Select post0 from projects where project = ? and exp = ? and replicate = ?\\\",\\n        (\\\"DecisionGeometry\\\", fetch_exp, fetch_rep),\\n    )\\n    dataDict0.append(cursorProject.fetchall())\\n    cursorProject.execute(\\n        \\\"Select post1 from projects where project = ? and exp = ? and replicate = ?\\\",\\n        (\\\"DecisionGeometry\\\", fetch_exp, fetch_rep),\\n    )\\n    dataDict1.append(cursorProject.fetchall())\\n\\n    tmp = pd.read_csv(\\n        dataDIR + fetched[uuid][0] + \\\"/results.csv\\\",\\n        names=[\\\"x\\\", \\\"y\\\", \\\"z\\\", \\\"event\\\", \\\"t\\\", \\\"nStimuli\\\"],\\n    )\\n    tmp[\\\"uuid\\\"] = uuid\\n    tmp[\\\"angle\\\"] = np.nan\\n    tmp[\\\"post0_x\\\"] = tmp[\\\"post0_y\\\"] = tmp[\\\"post1_x\\\"] = tmp[\\\"post1_y\\\"] = np.nan\\n    tmp[\\\"nStimuli\\\"] = np.uint8(tmp[\\\"nStimuli\\\"])\\n\\n    tmp3 = pd.DataFrame(\\n        columns=[\\n            \\\"index\\\",\\n            \\\"x\\\",\\n            \\\"y\\\",\\n            \\\"z\\\",\\n            \\\"event\\\",\\n            \\\"t\\\",\\n            \\\"nStimuli\\\",\\n            \\\"uuid\\\",\\n            \\\"angle\\\",\\n            \\\"post0_x\\\",\\n            \\\"post0_y\\\",\\n            \\\"post1_x\\\",\\n            \\\"post1_y\\\",\\n            \\\"selected\\\",\\n        ]\\n    )\\n    for i in np.unique(tmp[\\\"nStimuli\\\"]):\\n        for j in np.unique(tmp.loc[tmp[\\\"nStimuli\\\"] == i, \\\"event\\\"]):\\n            tmp2 = tmp.loc[(tmp[\\\"nStimuli\\\"] == i) & (tmp[\\\"event\\\"] == j), :]\\n            tmp2 = tmp2.reset_index()\\n            tmp2[\\\"selected\\\"] = 0\\n\\n            start_x = tmp2.loc[0, \\\"x\\\"]\\n            start_y = tmp2.loc[0, \\\"y\\\"]\\n            for k in range(1, len(tmp2)):\\n                x = tmp2.loc[k, \\\"x\\\"]\\n                y = tmp2.loc[k, \\\"y\\\"]\\n                dist = np.sqrt((start_x - x) ** 2 + (start_y - y) ** 2)\\n                if dist > spatial_discretisation_step:\\n                    tmp2.loc[k, \\\"selected\\\"] = 1\\n                    start_x = x\\n                    start_y = y\\n            tmp3 = tmp3.append(tmp2[tmp2[\\\"selected\\\"] == 1])\\n\\n    for a in range(1, 4):\\n        tmp3.loc[tmp3[\\\"nStimuli\\\"] == a, \\\"angle\\\"] = eval(dataDict0[uuid][a][0])[\\\"angle\\\"]\\n\\n    df = tmp3 if uuid == 0 else pd.concat([df, tmp3])\\n    rot_post0.append([eval(dataDict0[uuid][1][0])[\\\"distance\\\"], 0.0])\\n\\n    cursorProject.execute(\\n        \\\"Select post1 from projects where project = ? and exp >= ? and exp < ?\\\",\\n        (\\\"DecisionGeometry\\\", (nPosts - 2) * 10, (nPosts - 1) * 10),\\n    )\\n    for a in np.unique(cursorProject.fetchall()):\\n        if a != \\\"None\\\" and eval(a)[\\\"angle\\\"] not in angles:\\n            angles.append(eval(a)[\\\"angle\\\"])\\n\\nangles = np.sort(np.array(angles))\";\n",
       "                var nbb_cells = Jupyter.notebook.get_cells();\n",
       "                for (var i = 0; i < nbb_cells.length; ++i) {\n",
       "                    if (nbb_cells[i].input_prompt_number == nbb_cell_id) {\n",
       "                        nbb_cells[i].set_text(nbb_formatted_code);\n",
       "                        break;\n",
       "                    }\n",
       "                }\n",
       "            }, 500);\n",
       "            "
      ],
      "text/plain": [
       "<IPython.core.display.Javascript object>"
      ]
     },
     "metadata": {},
     "output_type": "display_data"
    }
   ],
   "source": [
    "angles = []\n",
    "dataDict0 = []\n",
    "dataDict1 = []\n",
    "rot_post0 = []\n",
    "for uuid in range(0, len(fetched)):\n",
    "    cursorExperiment.execute(\n",
    "        \"Select exp from experiments where expId = ?\", (fetched[uuid][0],)\n",
    "    )\n",
    "    fetch_exp = cursorExperiment.fetchall()[0][0]\n",
    "    cursorExperiment.execute(\n",
    "        \"Select replicate from experiments where expId = ?\", (fetched[uuid][0],)\n",
    "    )\n",
    "    fetch_rep = cursorExperiment.fetchall()[0][0]\n",
    "\n",
    "    cursorProject.execute(\n",
    "        \"Select post0 from projects where project = ? and exp = ? and replicate = ?\",\n",
    "        (\"DecisionGeometry\", fetch_exp, fetch_rep),\n",
    "    )\n",
    "    dataDict0.append(cursorProject.fetchall())\n",
    "    cursorProject.execute(\n",
    "        \"Select post1 from projects where project = ? and exp = ? and replicate = ?\",\n",
    "        (\"DecisionGeometry\", fetch_exp, fetch_rep),\n",
    "    )\n",
    "    dataDict1.append(cursorProject.fetchall())\n",
    "\n",
    "    tmp = pd.read_csv(\n",
    "        dataDIR + fetched[uuid][0] + \"/results.csv\",\n",
    "        names=[\"x\", \"y\", \"z\", \"event\", \"t\", \"nStimuli\"],\n",
    "    )\n",
    "    tmp[\"uuid\"] = uuid\n",
    "    tmp[\"angle\"] = np.nan\n",
    "    tmp[\"post0_x\"] = tmp[\"post0_y\"] = tmp[\"post1_x\"] = tmp[\"post1_y\"] = np.nan\n",
    "    tmp[\"nStimuli\"] = np.uint8(tmp[\"nStimuli\"])\n",
    "\n",
    "    tmp3 = pd.DataFrame(\n",
    "        columns=[\n",
    "            \"index\",\n",
    "            \"x\",\n",
    "            \"y\",\n",
    "            \"z\",\n",
    "            \"event\",\n",
    "            \"t\",\n",
    "            \"nStimuli\",\n",
    "            \"uuid\",\n",
    "            \"angle\",\n",
    "            \"post0_x\",\n",
    "            \"post0_y\",\n",
    "            \"post1_x\",\n",
    "            \"post1_y\",\n",
    "            \"selected\",\n",
    "        ]\n",
    "    )\n",
    "    for i in np.unique(tmp[\"nStimuli\"]):\n",
    "        for j in np.unique(tmp.loc[tmp[\"nStimuli\"] == i, \"event\"]):\n",
    "            tmp2 = tmp.loc[(tmp[\"nStimuli\"] == i) & (tmp[\"event\"] == j), :]\n",
    "            tmp2 = tmp2.reset_index()\n",
    "            tmp2[\"selected\"] = 0\n",
    "\n",
    "            start_x = tmp2.loc[0, \"x\"]\n",
    "            start_y = tmp2.loc[0, \"y\"]\n",
    "            for k in range(1, len(tmp2)):\n",
    "                x = tmp2.loc[k, \"x\"]\n",
    "                y = tmp2.loc[k, \"y\"]\n",
    "                dist = np.sqrt((start_x - x) ** 2 + (start_y - y) ** 2)\n",
    "                if dist > spatial_discretisation_step:\n",
    "                    tmp2.loc[k, \"selected\"] = 1\n",
    "                    start_x = x\n",
    "                    start_y = y\n",
    "            tmp3 = tmp3.append(tmp2[tmp2[\"selected\"] == 1])\n",
    "\n",
    "    for a in range(1, 4):\n",
    "        tmp3.loc[tmp3[\"nStimuli\"] == a, \"angle\"] = eval(dataDict0[uuid][a][0])[\"angle\"]\n",
    "\n",
    "    df = tmp3 if uuid == 0 else pd.concat([df, tmp3])\n",
    "    rot_post0.append([eval(dataDict0[uuid][1][0])[\"distance\"], 0.0])\n",
    "\n",
    "    cursorProject.execute(\n",
    "        \"Select post1 from projects where project = ? and exp >= ? and exp < ?\",\n",
    "        (\"DecisionGeometry\", (nPosts - 2) * 10, (nPosts - 1) * 10),\n",
    "    )\n",
    "    for a in np.unique(cursorProject.fetchall()):\n",
    "        if a != \"None\" and eval(a)[\"angle\"] not in angles:\n",
    "            angles.append(eval(a)[\"angle\"])\n",
    "\n",
    "angles = np.sort(np.array(angles))"
   ]
  },
  {
   "cell_type": "code",
   "execution_count": 7,
   "metadata": {},
   "outputs": [
    {
     "data": {
      "application/javascript": [
       "\n",
       "            setTimeout(function() {\n",
       "                var nbb_cell_id = 7;\n",
       "                var nbb_formatted_code = \"# add post positions to dataframe\\nnStimuli = np.unique(df[\\\"nStimuli\\\"])\\nfor uuid in range(0, len(fetched)):\\n    for i in range(0, np.nanmax(nStimuli) + 1):\\n        df.loc[(df[\\\"uuid\\\"] == uuid) & (df[\\\"nStimuli\\\"] == i), \\\"post0_x\\\"] = eval(\\n            dataDict0[uuid][nStimuli[i]][0]\\n        )[\\\"position\\\"][0]\\n        df.loc[(df[\\\"uuid\\\"] == uuid) & (df[\\\"nStimuli\\\"] == i), \\\"post0_y\\\"] = eval(\\n            dataDict0[uuid][nStimuli[i]][0]\\n        )[\\\"position\\\"][1]\\n        if i > 0 and i < np.max(nStimuli):\\n            df.loc[(df[\\\"uuid\\\"] == uuid) & (df[\\\"nStimuli\\\"] == i), \\\"post1_x\\\"] = eval(\\n                dataDict1[uuid][nStimuli[i]][0]\\n            )[\\\"position\\\"][0]\\n            df.loc[(df[\\\"uuid\\\"] == uuid) & (df[\\\"nStimuli\\\"] == i), \\\"post1_y\\\"] = eval(\\n                dataDict1[uuid][nStimuli[i]][0]\\n            )[\\\"position\\\"][1]\\n\\n# initialise rotation of tracks and posts\\ndf[\\\"rotated_x\\\"] = df[\\\"rotated_y\\\"] = 0.0\\ndf[\\\"rotated_post0_x\\\"] = df[\\\"rotated_post0_y\\\"] = df[\\\"rotated_post1_x\\\"] = df[\\n    \\\"rotated_post1_y\\\"\\n] = 0.0\\ndf[\\\"ang\\\"] = 0.0\\nprerot_idx = 9 + 2 * nPosts\\npostrot_idx = 9 + 2 * nPosts + 2 + 2 * nPosts\";\n",
       "                var nbb_cells = Jupyter.notebook.get_cells();\n",
       "                for (var i = 0; i < nbb_cells.length; ++i) {\n",
       "                    if (nbb_cells[i].input_prompt_number == nbb_cell_id) {\n",
       "                        nbb_cells[i].set_text(nbb_formatted_code);\n",
       "                        break;\n",
       "                    }\n",
       "                }\n",
       "            }, 500);\n",
       "            "
      ],
      "text/plain": [
       "<IPython.core.display.Javascript object>"
      ]
     },
     "metadata": {},
     "output_type": "display_data"
    }
   ],
   "source": [
    "# add post positions to dataframe\n",
    "nStimuli = np.unique(df[\"nStimuli\"])\n",
    "for uuid in range(0, len(fetched)):\n",
    "    for i in range(0, np.nanmax(nStimuli) + 1):\n",
    "        df.loc[(df[\"uuid\"] == uuid) & (df[\"nStimuli\"] == i), \"post0_x\"] = eval(\n",
    "            dataDict0[uuid][nStimuli[i]][0]\n",
    "        )[\"position\"][0]\n",
    "        df.loc[(df[\"uuid\"] == uuid) & (df[\"nStimuli\"] == i), \"post0_y\"] = eval(\n",
    "            dataDict0[uuid][nStimuli[i]][0]\n",
    "        )[\"position\"][1]\n",
    "        if i > 0 and i < np.max(nStimuli):\n",
    "            df.loc[(df[\"uuid\"] == uuid) & (df[\"nStimuli\"] == i), \"post1_x\"] = eval(\n",
    "                dataDict1[uuid][nStimuli[i]][0]\n",
    "            )[\"position\"][0]\n",
    "            df.loc[(df[\"uuid\"] == uuid) & (df[\"nStimuli\"] == i), \"post1_y\"] = eval(\n",
    "                dataDict1[uuid][nStimuli[i]][0]\n",
    "            )[\"position\"][1]\n",
    "\n",
    "# initialise rotation of tracks and posts\n",
    "df[\"rotated_x\"] = df[\"rotated_y\"] = 0.0\n",
    "df[\"rotated_post0_x\"] = df[\"rotated_post0_y\"] = df[\"rotated_post1_x\"] = df[\n",
    "    \"rotated_post1_y\"\n",
    "] = 0.0\n",
    "df[\"ang\"] = 0.0\n",
    "prerot_idx = 9 + 2 * nPosts\n",
    "postrot_idx = 9 + 2 * nPosts + 2 + 2 * nPosts"
   ]
  },
  {
   "cell_type": "code",
   "execution_count": 8,
   "metadata": {},
   "outputs": [
    {
     "data": {
      "application/javascript": [
       "\n",
       "            setTimeout(function() {\n",
       "                var nbb_cell_id = 8;\n",
       "                var nbb_formatted_code = \"# get rotation angle\\nfor uuid in range(0, len(fetched)):\\n    rot_post0_x = rot_post0[uuid][0]\\n    rot_post0_y = rot_post0[uuid][1]\\n    df.iloc[np.where(df[\\\"uuid\\\"] == uuid)[0], postrot_idx + 1] = np.arctan2(\\n        df.loc[df[\\\"uuid\\\"] == uuid, \\\"post0_y\\\"], df.loc[df[\\\"uuid\\\"] == uuid, \\\"post0_x\\\"]\\n    )\\n\\n# rotate tracks and posts (posts are now centred along positive x-axis)\\nfor uuid in range(0, len(fetched)):\\n    if len(np.unique(df.loc[df[\\\"uuid\\\"] == uuid, \\\"nStimuli\\\"])) != 0:\\n        for i in np.unique(df.loc[df[\\\"uuid\\\"] == uuid, \\\"nStimuli\\\"]):\\n            ang = np.unique(\\n                df.loc[(df[\\\"uuid\\\"] == uuid) & (df[\\\"nStimuli\\\"] == i), \\\"ang\\\"]\\n            )[0]\\n            if i > 0 and i < np.max(nStimuli):\\n                ang += (nPosts - 1) * eval(dataDict0[uuid][nStimuli[i]][0])[\\\"angle\\\"] / 2\\n\\n            rx, ry = rotate(\\n                np.array(\\n                    (\\n                        df.loc[(df[\\\"uuid\\\"] == uuid) & (df[\\\"nStimuli\\\"] == i), \\\"x\\\"],\\n                        df.loc[(df[\\\"uuid\\\"] == uuid) & (df[\\\"nStimuli\\\"] == i), \\\"y\\\"],\\n                    )\\n                ),\\n                ang,\\n            )\\n            df.loc[\\n                (df[\\\"uuid\\\"] == uuid) & (df[\\\"nStimuli\\\"] == i), \\\"rotated_x\\\"\\n            ] = np.squeeze(np.asarray(rx.T))\\n            df.loc[\\n                (df[\\\"uuid\\\"] == uuid) & (df[\\\"nStimuli\\\"] == i), \\\"rotated_y\\\"\\n            ] = np.squeeze(np.asarray(ry.T))\\n\\n            rp0x, rp0y = rotate(\\n                np.array(\\n                    (\\n                        df.loc[(df[\\\"uuid\\\"] == uuid) & (df[\\\"nStimuli\\\"] == i), \\\"post0_x\\\"],\\n                        df.loc[(df[\\\"uuid\\\"] == uuid) & (df[\\\"nStimuli\\\"] == i), \\\"post0_y\\\"],\\n                    )\\n                ),\\n                ang,\\n            )\\n            df.loc[\\n                (df[\\\"uuid\\\"] == uuid) & (df[\\\"nStimuli\\\"] == i), \\\"rotated_post0_x\\\"\\n            ] = np.squeeze(np.asarray(rp0x.T))\\n            df.loc[\\n                (df[\\\"uuid\\\"] == uuid) & (df[\\\"nStimuli\\\"] == i), \\\"rotated_post0_y\\\"\\n            ] = np.squeeze(np.asarray(rp0y.T))\\n\\n            rp1x, rp1y = rotate(\\n                np.array(\\n                    (\\n                        df.loc[(df[\\\"uuid\\\"] == uuid) & (df[\\\"nStimuli\\\"] == i), \\\"post1_x\\\"],\\n                        df.loc[(df[\\\"uuid\\\"] == uuid) & (df[\\\"nStimuli\\\"] == i), \\\"post1_y\\\"],\\n                    )\\n                ),\\n                ang,\\n            )\\n            df.loc[\\n                (df[\\\"uuid\\\"] == uuid) & (df[\\\"nStimuli\\\"] == i), \\\"rotated_post1_x\\\"\\n            ] = np.squeeze(np.asarray(rp1x.T))\\n            df.loc[\\n                (df[\\\"uuid\\\"] == uuid) & (df[\\\"nStimuli\\\"] == i), \\\"rotated_post1_y\\\"\\n            ] = np.squeeze(np.asarray(rp1y.T))\";\n",
       "                var nbb_cells = Jupyter.notebook.get_cells();\n",
       "                for (var i = 0; i < nbb_cells.length; ++i) {\n",
       "                    if (nbb_cells[i].input_prompt_number == nbb_cell_id) {\n",
       "                        nbb_cells[i].set_text(nbb_formatted_code);\n",
       "                        break;\n",
       "                    }\n",
       "                }\n",
       "            }, 500);\n",
       "            "
      ],
      "text/plain": [
       "<IPython.core.display.Javascript object>"
      ]
     },
     "metadata": {},
     "output_type": "display_data"
    }
   ],
   "source": [
    "# get rotation angle\n",
    "for uuid in range(0, len(fetched)):\n",
    "    rot_post0_x = rot_post0[uuid][0]\n",
    "    rot_post0_y = rot_post0[uuid][1]\n",
    "    df.iloc[np.where(df[\"uuid\"] == uuid)[0], postrot_idx + 1] = np.arctan2(\n",
    "        df.loc[df[\"uuid\"] == uuid, \"post0_y\"], df.loc[df[\"uuid\"] == uuid, \"post0_x\"]\n",
    "    )\n",
    "\n",
    "# rotate tracks and posts (posts are now centred along positive x-axis)\n",
    "for uuid in range(0, len(fetched)):\n",
    "    if len(np.unique(df.loc[df[\"uuid\"] == uuid, \"nStimuli\"])) != 0:\n",
    "        for i in np.unique(df.loc[df[\"uuid\"] == uuid, \"nStimuli\"]):\n",
    "            ang = np.unique(\n",
    "                df.loc[(df[\"uuid\"] == uuid) & (df[\"nStimuli\"] == i), \"ang\"]\n",
    "            )[0]\n",
    "            if i > 0 and i < np.max(nStimuli):\n",
    "                ang += (nPosts - 1) * eval(dataDict0[uuid][nStimuli[i]][0])[\"angle\"] / 2\n",
    "\n",
    "            rx, ry = rotate(\n",
    "                np.array(\n",
    "                    (\n",
    "                        df.loc[(df[\"uuid\"] == uuid) & (df[\"nStimuli\"] == i), \"x\"],\n",
    "                        df.loc[(df[\"uuid\"] == uuid) & (df[\"nStimuli\"] == i), \"y\"],\n",
    "                    )\n",
    "                ),\n",
    "                ang,\n",
    "            )\n",
    "            df.loc[\n",
    "                (df[\"uuid\"] == uuid) & (df[\"nStimuli\"] == i), \"rotated_x\"\n",
    "            ] = np.squeeze(np.asarray(rx.T))\n",
    "            df.loc[\n",
    "                (df[\"uuid\"] == uuid) & (df[\"nStimuli\"] == i), \"rotated_y\"\n",
    "            ] = np.squeeze(np.asarray(ry.T))\n",
    "\n",
    "            rp0x, rp0y = rotate(\n",
    "                np.array(\n",
    "                    (\n",
    "                        df.loc[(df[\"uuid\"] == uuid) & (df[\"nStimuli\"] == i), \"post0_x\"],\n",
    "                        df.loc[(df[\"uuid\"] == uuid) & (df[\"nStimuli\"] == i), \"post0_y\"],\n",
    "                    )\n",
    "                ),\n",
    "                ang,\n",
    "            )\n",
    "            df.loc[\n",
    "                (df[\"uuid\"] == uuid) & (df[\"nStimuli\"] == i), \"rotated_post0_x\"\n",
    "            ] = np.squeeze(np.asarray(rp0x.T))\n",
    "            df.loc[\n",
    "                (df[\"uuid\"] == uuid) & (df[\"nStimuli\"] == i), \"rotated_post0_y\"\n",
    "            ] = np.squeeze(np.asarray(rp0y.T))\n",
    "\n",
    "            rp1x, rp1y = rotate(\n",
    "                np.array(\n",
    "                    (\n",
    "                        df.loc[(df[\"uuid\"] == uuid) & (df[\"nStimuli\"] == i), \"post1_x\"],\n",
    "                        df.loc[(df[\"uuid\"] == uuid) & (df[\"nStimuli\"] == i), \"post1_y\"],\n",
    "                    )\n",
    "                ),\n",
    "                ang,\n",
    "            )\n",
    "            df.loc[\n",
    "                (df[\"uuid\"] == uuid) & (df[\"nStimuli\"] == i), \"rotated_post1_x\"\n",
    "            ] = np.squeeze(np.asarray(rp1x.T))\n",
    "            df.loc[\n",
    "                (df[\"uuid\"] == uuid) & (df[\"nStimuli\"] == i), \"rotated_post1_y\"\n",
    "            ] = np.squeeze(np.asarray(rp1y.T))"
   ]
  },
  {
   "cell_type": "code",
   "execution_count": 9,
   "metadata": {},
   "outputs": [
    {
     "data": {
      "application/javascript": [
       "\n",
       "            setTimeout(function() {\n",
       "                var nbb_cell_id = 9;\n",
       "                var nbb_formatted_code = \"p0_dist = np.sqrt((df[\\\"x\\\"] - df[\\\"post0_x\\\"]) ** 2 + (df[\\\"y\\\"] - df[\\\"post0_y\\\"]) ** 2)\\np1_dist = np.sqrt((df[\\\"x\\\"] - df[\\\"post1_x\\\"]) ** 2 + (df[\\\"y\\\"] - df[\\\"post1_y\\\"]) ** 2)\\nif nPosts == 2:\\n    df[\\\"dmin\\\"] = np.nanmin([p0_dist, p1_dist], axis=0)\\n    df[\\\"post\\\"] = 0\\n    df.loc[p1_dist < p0_dist, \\\"post\\\"] = 1\\nelse:\\n    p2_dist = np.sqrt((df[\\\"x\\\"] - df[\\\"post2_x\\\"]) ** 2 + (df[\\\"y\\\"] - df[\\\"post2_y\\\"]) ** 2)\\n    df[\\\"dmin\\\"] = np.nanmin([p0_dist, p1_dist, p2_dist], axis=0)\\n    df[\\\"post\\\"] = 0\\n    df.loc[(p1_dist < p0_dist) & (p1_dist < p2_dist), \\\"post\\\"] = 1\\n    df.loc[(p2_dist < p0_dist) & (p2_dist < p1_dist), \\\"post\\\"] = 2\";\n",
       "                var nbb_cells = Jupyter.notebook.get_cells();\n",
       "                for (var i = 0; i < nbb_cells.length; ++i) {\n",
       "                    if (nbb_cells[i].input_prompt_number == nbb_cell_id) {\n",
       "                        nbb_cells[i].set_text(nbb_formatted_code);\n",
       "                        break;\n",
       "                    }\n",
       "                }\n",
       "            }, 500);\n",
       "            "
      ],
      "text/plain": [
       "<IPython.core.display.Javascript object>"
      ]
     },
     "metadata": {},
     "output_type": "display_data"
    }
   ],
   "source": [
    "p0_dist = np.sqrt((df[\"x\"] - df[\"post0_x\"]) ** 2 + (df[\"y\"] - df[\"post0_y\"]) ** 2)\n",
    "p1_dist = np.sqrt((df[\"x\"] - df[\"post1_x\"]) ** 2 + (df[\"y\"] - df[\"post1_y\"]) ** 2)\n",
    "if nPosts == 2:\n",
    "    df[\"dmin\"] = np.nanmin([p0_dist, p1_dist], axis=0)\n",
    "    df[\"post\"] = 0\n",
    "    df.loc[p1_dist < p0_dist, \"post\"] = 1\n",
    "else:\n",
    "    p2_dist = np.sqrt((df[\"x\"] - df[\"post2_x\"]) ** 2 + (df[\"y\"] - df[\"post2_y\"]) ** 2)\n",
    "    df[\"dmin\"] = np.nanmin([p0_dist, p1_dist, p2_dist], axis=0)\n",
    "    df[\"post\"] = 0\n",
    "    df.loc[(p1_dist < p0_dist) & (p1_dist < p2_dist), \"post\"] = 1\n",
    "    df.loc[(p2_dist < p0_dist) & (p2_dist < p1_dist), \"post\"] = 2"
   ]
  },
  {
   "cell_type": "code",
   "execution_count": 10,
   "metadata": {},
   "outputs": [
    {
     "data": {
      "application/javascript": [
       "\n",
       "            setTimeout(function() {\n",
       "                var nbb_cell_id = 10;\n",
       "                var nbb_formatted_code = \"tmax = df.loc[:, [\\\"uuid\\\", \\\"nStimuli\\\", \\\"event\\\", \\\"t\\\"]]\\ntmax = tmax.groupby([\\\"uuid\\\", \\\"nStimuli\\\", \\\"event\\\"]).max().reset_index()\\ndmin = df.loc[:, [\\\"uuid\\\", \\\"nStimuli\\\", \\\"event\\\", \\\"t\\\", \\\"dmin\\\", \\\"post\\\"]]\\n\\ndists = pd.merge(tmax, dmin, how=\\\"left\\\")\\ndists = dists[dists[\\\"dmin\\\"] < 0.5]\\ndists = dists.loc[:, [\\\"uuid\\\", \\\"nStimuli\\\", \\\"event\\\"]]\\n\\ndf = pd.merge(dists, df, how=\\\"left\\\")\";\n",
       "                var nbb_cells = Jupyter.notebook.get_cells();\n",
       "                for (var i = 0; i < nbb_cells.length; ++i) {\n",
       "                    if (nbb_cells[i].input_prompt_number == nbb_cell_id) {\n",
       "                        nbb_cells[i].set_text(nbb_formatted_code);\n",
       "                        break;\n",
       "                    }\n",
       "                }\n",
       "            }, 500);\n",
       "            "
      ],
      "text/plain": [
       "<IPython.core.display.Javascript object>"
      ]
     },
     "metadata": {},
     "output_type": "display_data"
    }
   ],
   "source": [
    "tmax = df.loc[:, [\"uuid\", \"nStimuli\", \"event\", \"t\"]]\n",
    "tmax = tmax.groupby([\"uuid\", \"nStimuli\", \"event\"]).max().reset_index()\n",
    "dmin = df.loc[:, [\"uuid\", \"nStimuli\", \"event\", \"t\", \"dmin\", \"post\"]]\n",
    "\n",
    "dists = pd.merge(tmax, dmin, how=\"left\")\n",
    "dists = dists[dists[\"dmin\"] < 0.5]\n",
    "dists = dists.loc[:, [\"uuid\", \"nStimuli\", \"event\"]]\n",
    "\n",
    "df = pd.merge(dists, df, how=\"left\")"
   ]
  },
  {
   "cell_type": "code",
   "execution_count": 11,
   "metadata": {},
   "outputs": [
    {
     "data": {
      "application/javascript": [
       "\n",
       "            setTimeout(function() {\n",
       "                var nbb_cell_id = 11;\n",
       "                var nbb_formatted_code = \"tmp0 = df[df[\\\"nStimuli\\\"] == 0]\\ntmp1 = df[(df[\\\"nStimuli\\\"] > 0) & (df[\\\"nStimuli\\\"] < 4) & (df[\\\"angle\\\"] == angles[0])]\\ntmp2 = df[(df[\\\"nStimuli\\\"] > 0) & (df[\\\"nStimuli\\\"] < 4) & (df[\\\"angle\\\"] == angles[1])]\\ntmp3 = df[(df[\\\"nStimuli\\\"] > 0) & (df[\\\"nStimuli\\\"] < 4) & (df[\\\"angle\\\"] == angles[2])]\\ntmp4 = df[df[\\\"nStimuli\\\"] == 4]\";\n",
       "                var nbb_cells = Jupyter.notebook.get_cells();\n",
       "                for (var i = 0; i < nbb_cells.length; ++i) {\n",
       "                    if (nbb_cells[i].input_prompt_number == nbb_cell_id) {\n",
       "                        nbb_cells[i].set_text(nbb_formatted_code);\n",
       "                        break;\n",
       "                    }\n",
       "                }\n",
       "            }, 500);\n",
       "            "
      ],
      "text/plain": [
       "<IPython.core.display.Javascript object>"
      ]
     },
     "metadata": {},
     "output_type": "display_data"
    }
   ],
   "source": [
    "tmp0 = df[df[\"nStimuli\"] == 0]\n",
    "tmp1 = df[(df[\"nStimuli\"] > 0) & (df[\"nStimuli\"] < 4) & (df[\"angle\"] == angles[0])]\n",
    "tmp2 = df[(df[\"nStimuli\"] > 0) & (df[\"nStimuli\"] < 4) & (df[\"angle\"] == angles[1])]\n",
    "tmp3 = df[(df[\"nStimuli\"] > 0) & (df[\"nStimuli\"] < 4) & (df[\"angle\"] == angles[2])]\n",
    "tmp4 = df[df[\"nStimuli\"] == 4]"
   ]
  },
  {
   "cell_type": "code",
   "execution_count": 12,
   "metadata": {},
   "outputs": [
    {
     "data": {
      "application/javascript": [
       "\n",
       "            setTimeout(function() {\n",
       "                var nbb_cell_id = 12;\n",
       "                var nbb_formatted_code = \"x1s = np.array(tmp2[\\\"rotated_x\\\"])\\ny1s = np.array(tmp2[\\\"rotated_y\\\"])\\n\\npost0_x = np.unique(tmp2[\\\"rotated_post0_x\\\"])[0]\\npost0_y = np.unique(tmp2[\\\"rotated_post0_y\\\"])[0]\\n\\npost1_x = np.unique(tmp2[\\\"rotated_post1_x\\\"])[0]\\npost1_y = np.unique(tmp2[\\\"rotated_post1_y\\\"])[0]\";\n",
       "                var nbb_cells = Jupyter.notebook.get_cells();\n",
       "                for (var i = 0; i < nbb_cells.length; ++i) {\n",
       "                    if (nbb_cells[i].input_prompt_number == nbb_cell_id) {\n",
       "                        nbb_cells[i].set_text(nbb_formatted_code);\n",
       "                        break;\n",
       "                    }\n",
       "                }\n",
       "            }, 500);\n",
       "            "
      ],
      "text/plain": [
       "<IPython.core.display.Javascript object>"
      ]
     },
     "metadata": {},
     "output_type": "display_data"
    }
   ],
   "source": [
    "x1s = np.array(tmp2[\"rotated_x\"])\n",
    "y1s = np.array(tmp2[\"rotated_y\"])\n",
    "\n",
    "post0_x = np.unique(tmp2[\"rotated_post0_x\"])[0]\n",
    "post0_y = np.unique(tmp2[\"rotated_post0_y\"])[0]\n",
    "\n",
    "post1_x = np.unique(tmp2[\"rotated_post1_x\"])[0]\n",
    "post1_y = np.unique(tmp2[\"rotated_post1_y\"])[0]"
   ]
  },
  {
   "cell_type": "markdown",
   "metadata": {},
   "source": [
    "### Extract tracks from second database"
   ]
  },
  {
   "cell_type": "code",
   "execution_count": 13,
   "metadata": {},
   "outputs": [
    {
     "data": {
      "application/javascript": [
       "\n",
       "            setTimeout(function() {\n",
       "                var nbb_cell_id = 13;\n",
       "                var nbb_formatted_code = \"projectDB = \\\"/mnt/ssd1/Documents/Vivek/locustVR/databases/locustProjects_19_11_28.db\\\"\\nexpDB = \\\"/mnt/ssd1/Documents/Vivek/locustVR/databases/locustExperiments_19_11_28_mod.db\\\"\";\n",
       "                var nbb_cells = Jupyter.notebook.get_cells();\n",
       "                for (var i = 0; i < nbb_cells.length; ++i) {\n",
       "                    if (nbb_cells[i].input_prompt_number == nbb_cell_id) {\n",
       "                        nbb_cells[i].set_text(nbb_formatted_code);\n",
       "                        break;\n",
       "                    }\n",
       "                }\n",
       "            }, 500);\n",
       "            "
      ],
      "text/plain": [
       "<IPython.core.display.Javascript object>"
      ]
     },
     "metadata": {},
     "output_type": "display_data"
    }
   ],
   "source": [
    "projectDB = \"/mnt/ssd1/Documents/Vivek/locustVR/databases/locustProjects_19_11_28.db\"\n",
    "expDB = \"/mnt/ssd1/Documents/Vivek/locustVR/databases/locustExperiments_19_11_28_mod.db\""
   ]
  },
  {
   "cell_type": "code",
   "execution_count": 14,
   "metadata": {},
   "outputs": [
    {
     "name": "stdout",
     "output_type": "stream",
     "text": [
      "fetched : [('fea86966-c7a8-49f5-bf93-f8a38453e875',), ('32d1f550-279f-4c2a-8456-65483875ad86',), ('a6e70613-9c6b-4417-bc3a-ff0ce95a1ee5',), ('bb9e6a9d-67e1-40de-9f4c-464da0a824ba',), ('353adab2-d51f-4885-adba-508ba2cac467',), ('3a521430-7aa6-412b-8d00-62524874d36a',), ('e3f84ff4-d4b5-415b-9527-5ac834f7cba4',), ('cd75759c-29e2-4ea9-867e-898ee8a02978',), ('fc408072-8c38-4393-83a9-57eade5c057f',), ('b4b1da4d-0aea-4d0c-ba3e-1c113d464135',), ('cc8377c9-e811-40cc-bb67-565e78c0f8bf',), ('e3ce0a89-62ec-47fe-b850-d22b0d0d0527',), ('dd5aac5d-6706-4b09-b50f-bd3cf13cdc91',), ('2f236bc2-25bd-4988-bd6e-f607b9b84f16',), ('19ea8655-cde3-4348-8cb9-8bac6d52668c',), ('209364f5-752f-407b-93c9-b888cd72bed8',), ('d1435f65-5c11-42f9-83db-b222efb9cb46',), ('e60266be-c44d-41a6-a3de-17518bccb1cc',), ('943385e1-c9d0-4f05-bd41-d84bfc3e6760',), ('88f78724-8677-471b-9340-71829d40c2bb',), ('001d9058-7736-4d81-965f-a6daee530e55',), ('06afe132-3a9e-4208-8dcc-b97fb76b927d',), ('1eb32c86-8b1e-4786-a3b4-d87a1299ac21',), ('f5de1c9f-997f-4030-9f73-f5127abf6b6f',), ('2d05a269-0ac1-4cdc-8a61-72d17cb62f4f',), ('d433932f-4b02-4e82-8d6e-89d79d62d3c7',), ('f4b5587a-6247-4050-b54b-dd098a5e8e50',), ('67b40b07-5422-4456-b330-eed415d9d94e',), ('918fd508-a085-462b-8797-8052c4d35d84',)]\n"
     ]
    },
    {
     "data": {
      "application/javascript": [
       "\n",
       "            setTimeout(function() {\n",
       "                var nbb_cell_id = 14;\n",
       "                var nbb_formatted_code = \"# establish a connecttion to the project database\\nconn = sqlite3.connect(projectDB)\\n# connect a cursor that goes through the project database\\ncursorProject = conn.cursor()\\n# establish a second connecttion to the experiment database\\nconn2 = sqlite3.connect(expDB)\\n# connect a cursor that goes through the experiment database\\ncursorExperiment = conn2.cursor()\\n\\n# pick experiments from specified project\\ncursorExperiment.execute(\\n    \\\"Select expId from experiments where project = ? and exp >= ? and exp < ?\\\",\\n    (\\\"DecisionGeometry\\\", (nPosts - 2) * 10, (nPosts - 1) * 10),\\n)\\nfetched = cursorExperiment.fetchall()\\nprint(\\\"fetched : \\\" + str(fetched))\";\n",
       "                var nbb_cells = Jupyter.notebook.get_cells();\n",
       "                for (var i = 0; i < nbb_cells.length; ++i) {\n",
       "                    if (nbb_cells[i].input_prompt_number == nbb_cell_id) {\n",
       "                        nbb_cells[i].set_text(nbb_formatted_code);\n",
       "                        break;\n",
       "                    }\n",
       "                }\n",
       "            }, 500);\n",
       "            "
      ],
      "text/plain": [
       "<IPython.core.display.Javascript object>"
      ]
     },
     "metadata": {},
     "output_type": "display_data"
    }
   ],
   "source": [
    "# establish a connecttion to the project database\n",
    "conn = sqlite3.connect(projectDB)\n",
    "# connect a cursor that goes through the project database\n",
    "cursorProject = conn.cursor()\n",
    "# establish a second connecttion to the experiment database\n",
    "conn2 = sqlite3.connect(expDB)\n",
    "# connect a cursor that goes through the experiment database\n",
    "cursorExperiment = conn2.cursor()\n",
    "\n",
    "# pick experiments from specified project\n",
    "cursorExperiment.execute(\n",
    "    \"Select expId from experiments where project = ? and exp >= ? and exp < ?\",\n",
    "    (\"DecisionGeometry\", (nPosts - 2) * 10, (nPosts - 1) * 10),\n",
    ")\n",
    "fetched = cursorExperiment.fetchall()\n",
    "print(\"fetched : \" + str(fetched))"
   ]
  },
  {
   "cell_type": "code",
   "execution_count": 15,
   "metadata": {},
   "outputs": [
    {
     "data": {
      "application/javascript": [
       "\n",
       "            setTimeout(function() {\n",
       "                var nbb_cell_id = 15;\n",
       "                var nbb_formatted_code = \"angles = []\\ndataDict0 = []\\ndataDict1 = []\\nrot_post0 = []\\nfor uuid in range(0, len(fetched)):\\n    cursorExperiment.execute(\\n        \\\"Select exp from experiments where expId = ?\\\", (fetched[uuid][0],)\\n    )\\n    fetch_exp = cursorExperiment.fetchall()[0][0]\\n    cursorExperiment.execute(\\n        \\\"Select replicate from experiments where expId = ?\\\", (fetched[uuid][0],)\\n    )\\n    fetch_rep = cursorExperiment.fetchall()[0][0]\\n\\n    cursorProject.execute(\\n        \\\"Select post0 from projects where project = ? and exp = ? and replicate = ?\\\",\\n        (\\\"DecisionGeometry\\\", fetch_exp, fetch_rep),\\n    )\\n    dataDict0.append(cursorProject.fetchall())\\n    cursorProject.execute(\\n        \\\"Select post1 from projects where project = ? and exp = ? and replicate = ?\\\",\\n        (\\\"DecisionGeometry\\\", fetch_exp, fetch_rep),\\n    )\\n    dataDict1.append(cursorProject.fetchall())\\n\\n    tmp = pd.read_csv(\\n        dataDIR + fetched[uuid][0] + \\\"/results.csv\\\",\\n        names=[\\\"x\\\", \\\"y\\\", \\\"z\\\", \\\"event\\\", \\\"t\\\", \\\"nStimuli\\\"],\\n    )\\n    tmp[\\\"uuid\\\"] = uuid\\n    tmp[\\\"angle\\\"] = np.nan\\n    tmp[\\\"post0_x\\\"] = tmp[\\\"post0_y\\\"] = tmp[\\\"post1_x\\\"] = tmp[\\\"post1_y\\\"] = np.nan\\n    tmp[\\\"nStimuli\\\"] = np.uint8(tmp[\\\"nStimuli\\\"])\\n\\n    tmp3 = pd.DataFrame(\\n        columns=[\\n            \\\"index\\\",\\n            \\\"x\\\",\\n            \\\"y\\\",\\n            \\\"z\\\",\\n            \\\"event\\\",\\n            \\\"t\\\",\\n            \\\"nStimuli\\\",\\n            \\\"uuid\\\",\\n            \\\"angle\\\",\\n            \\\"post0_x\\\",\\n            \\\"post0_y\\\",\\n            \\\"post1_x\\\",\\n            \\\"post1_y\\\",\\n            \\\"selected\\\",\\n        ]\\n    )\\n    for i in np.unique(tmp[\\\"nStimuli\\\"]):\\n        for j in np.unique(tmp.loc[tmp[\\\"nStimuli\\\"] == i, \\\"event\\\"]):\\n            tmp2 = tmp.loc[(tmp[\\\"nStimuli\\\"] == i) & (tmp[\\\"event\\\"] == j), :]\\n            tmp2 = tmp2.reset_index()\\n            tmp2[\\\"selected\\\"] = 0\\n\\n            if tmp2.empty != True:\\n                start_x = tmp2.loc[0, \\\"x\\\"]\\n                start_y = tmp2.loc[0, \\\"y\\\"]\\n                for k in range(1, len(tmp2)):\\n                    x = tmp2.loc[k, \\\"x\\\"]\\n                    y = tmp2.loc[k, \\\"y\\\"]\\n                    dist = np.sqrt((start_x - x) ** 2 + (start_y - y) ** 2)\\n                    if dist > spatial_discretisation_step:\\n                        tmp2.loc[k, \\\"selected\\\"] = 1\\n                        start_x = x\\n                        start_y = y\\n            tmp3 = tmp3.append(tmp2[tmp2[\\\"selected\\\"] == 1])\\n\\n    for a in range(1, 4):\\n        tmp3.loc[tmp3[\\\"nStimuli\\\"] == a, \\\"angle\\\"] = eval(dataDict0[uuid][a][0])[\\\"angle\\\"]\\n\\n    df = tmp3 if uuid == 0 else pd.concat([df, tmp3])\\n    rot_post0.append([eval(dataDict0[uuid][1][0])[\\\"distance\\\"], 0.0])\\n\\n    cursorProject.execute(\\n        \\\"Select post1 from projects where project = ? and exp >= ? and exp < ?\\\",\\n        (\\\"DecisionGeometry\\\", (nPosts - 2) * 10, (nPosts - 1) * 10),\\n    )\\n    for a in np.unique(cursorProject.fetchall()):\\n        if a != \\\"None\\\" and eval(a)[\\\"angle\\\"] not in angles:\\n            angles.append(eval(a)[\\\"angle\\\"])\\n\\nangles = np.sort(np.array(angles))\";\n",
       "                var nbb_cells = Jupyter.notebook.get_cells();\n",
       "                for (var i = 0; i < nbb_cells.length; ++i) {\n",
       "                    if (nbb_cells[i].input_prompt_number == nbb_cell_id) {\n",
       "                        nbb_cells[i].set_text(nbb_formatted_code);\n",
       "                        break;\n",
       "                    }\n",
       "                }\n",
       "            }, 500);\n",
       "            "
      ],
      "text/plain": [
       "<IPython.core.display.Javascript object>"
      ]
     },
     "metadata": {},
     "output_type": "display_data"
    }
   ],
   "source": [
    "angles = []\n",
    "dataDict0 = []\n",
    "dataDict1 = []\n",
    "rot_post0 = []\n",
    "for uuid in range(0, len(fetched)):\n",
    "    cursorExperiment.execute(\n",
    "        \"Select exp from experiments where expId = ?\", (fetched[uuid][0],)\n",
    "    )\n",
    "    fetch_exp = cursorExperiment.fetchall()[0][0]\n",
    "    cursorExperiment.execute(\n",
    "        \"Select replicate from experiments where expId = ?\", (fetched[uuid][0],)\n",
    "    )\n",
    "    fetch_rep = cursorExperiment.fetchall()[0][0]\n",
    "\n",
    "    cursorProject.execute(\n",
    "        \"Select post0 from projects where project = ? and exp = ? and replicate = ?\",\n",
    "        (\"DecisionGeometry\", fetch_exp, fetch_rep),\n",
    "    )\n",
    "    dataDict0.append(cursorProject.fetchall())\n",
    "    cursorProject.execute(\n",
    "        \"Select post1 from projects where project = ? and exp = ? and replicate = ?\",\n",
    "        (\"DecisionGeometry\", fetch_exp, fetch_rep),\n",
    "    )\n",
    "    dataDict1.append(cursorProject.fetchall())\n",
    "\n",
    "    tmp = pd.read_csv(\n",
    "        dataDIR + fetched[uuid][0] + \"/results.csv\",\n",
    "        names=[\"x\", \"y\", \"z\", \"event\", \"t\", \"nStimuli\"],\n",
    "    )\n",
    "    tmp[\"uuid\"] = uuid\n",
    "    tmp[\"angle\"] = np.nan\n",
    "    tmp[\"post0_x\"] = tmp[\"post0_y\"] = tmp[\"post1_x\"] = tmp[\"post1_y\"] = np.nan\n",
    "    tmp[\"nStimuli\"] = np.uint8(tmp[\"nStimuli\"])\n",
    "\n",
    "    tmp3 = pd.DataFrame(\n",
    "        columns=[\n",
    "            \"index\",\n",
    "            \"x\",\n",
    "            \"y\",\n",
    "            \"z\",\n",
    "            \"event\",\n",
    "            \"t\",\n",
    "            \"nStimuli\",\n",
    "            \"uuid\",\n",
    "            \"angle\",\n",
    "            \"post0_x\",\n",
    "            \"post0_y\",\n",
    "            \"post1_x\",\n",
    "            \"post1_y\",\n",
    "            \"selected\",\n",
    "        ]\n",
    "    )\n",
    "    for i in np.unique(tmp[\"nStimuli\"]):\n",
    "        for j in np.unique(tmp.loc[tmp[\"nStimuli\"] == i, \"event\"]):\n",
    "            tmp2 = tmp.loc[(tmp[\"nStimuli\"] == i) & (tmp[\"event\"] == j), :]\n",
    "            tmp2 = tmp2.reset_index()\n",
    "            tmp2[\"selected\"] = 0\n",
    "\n",
    "            if tmp2.empty != True:\n",
    "                start_x = tmp2.loc[0, \"x\"]\n",
    "                start_y = tmp2.loc[0, \"y\"]\n",
    "                for k in range(1, len(tmp2)):\n",
    "                    x = tmp2.loc[k, \"x\"]\n",
    "                    y = tmp2.loc[k, \"y\"]\n",
    "                    dist = np.sqrt((start_x - x) ** 2 + (start_y - y) ** 2)\n",
    "                    if dist > spatial_discretisation_step:\n",
    "                        tmp2.loc[k, \"selected\"] = 1\n",
    "                        start_x = x\n",
    "                        start_y = y\n",
    "            tmp3 = tmp3.append(tmp2[tmp2[\"selected\"] == 1])\n",
    "\n",
    "    for a in range(1, 4):\n",
    "        tmp3.loc[tmp3[\"nStimuli\"] == a, \"angle\"] = eval(dataDict0[uuid][a][0])[\"angle\"]\n",
    "\n",
    "    df = tmp3 if uuid == 0 else pd.concat([df, tmp3])\n",
    "    rot_post0.append([eval(dataDict0[uuid][1][0])[\"distance\"], 0.0])\n",
    "\n",
    "    cursorProject.execute(\n",
    "        \"Select post1 from projects where project = ? and exp >= ? and exp < ?\",\n",
    "        (\"DecisionGeometry\", (nPosts - 2) * 10, (nPosts - 1) * 10),\n",
    "    )\n",
    "    for a in np.unique(cursorProject.fetchall()):\n",
    "        if a != \"None\" and eval(a)[\"angle\"] not in angles:\n",
    "            angles.append(eval(a)[\"angle\"])\n",
    "\n",
    "angles = np.sort(np.array(angles))"
   ]
  },
  {
   "cell_type": "code",
   "execution_count": 16,
   "metadata": {},
   "outputs": [
    {
     "data": {
      "application/javascript": [
       "\n",
       "            setTimeout(function() {\n",
       "                var nbb_cell_id = 16;\n",
       "                var nbb_formatted_code = \"# add post positions to dataframe\\nnStimuli = np.unique(df[\\\"nStimuli\\\"])\\nfor uuid in range(0, len(fetched)):\\n    for i in range(0, np.nanmax(nStimuli) + 1):\\n        df.loc[(df[\\\"uuid\\\"] == uuid) & (df[\\\"nStimuli\\\"] == i), \\\"post0_x\\\"] = eval(\\n            dataDict0[uuid][nStimuli[i]][0]\\n        )[\\\"position\\\"][0]\\n        df.loc[(df[\\\"uuid\\\"] == uuid) & (df[\\\"nStimuli\\\"] == i), \\\"post0_y\\\"] = eval(\\n            dataDict0[uuid][nStimuli[i]][0]\\n        )[\\\"position\\\"][1]\\n        if i > 0 and i < np.max(nStimuli):\\n            df.loc[(df[\\\"uuid\\\"] == uuid) & (df[\\\"nStimuli\\\"] == i), \\\"post1_x\\\"] = eval(\\n                dataDict1[uuid][nStimuli[i]][0]\\n            )[\\\"position\\\"][0]\\n            df.loc[(df[\\\"uuid\\\"] == uuid) & (df[\\\"nStimuli\\\"] == i), \\\"post1_y\\\"] = eval(\\n                dataDict1[uuid][nStimuli[i]][0]\\n            )[\\\"position\\\"][1]\\n\\n# initialise rotation of tracks and posts\\ndf[\\\"rotated_x\\\"] = df[\\\"rotated_y\\\"] = 0.0\\ndf[\\\"rotated_post0_x\\\"] = df[\\\"rotated_post0_y\\\"] = df[\\\"rotated_post1_x\\\"] = df[\\n    \\\"rotated_post1_y\\\"\\n] = 0.0\\ndf[\\\"ang\\\"] = 0.0\\nprerot_idx = 9 + 2 * nPosts\\npostrot_idx = 9 + 2 * nPosts + 2 + 2 * nPosts\";\n",
       "                var nbb_cells = Jupyter.notebook.get_cells();\n",
       "                for (var i = 0; i < nbb_cells.length; ++i) {\n",
       "                    if (nbb_cells[i].input_prompt_number == nbb_cell_id) {\n",
       "                        nbb_cells[i].set_text(nbb_formatted_code);\n",
       "                        break;\n",
       "                    }\n",
       "                }\n",
       "            }, 500);\n",
       "            "
      ],
      "text/plain": [
       "<IPython.core.display.Javascript object>"
      ]
     },
     "metadata": {},
     "output_type": "display_data"
    }
   ],
   "source": [
    "# add post positions to dataframe\n",
    "nStimuli = np.unique(df[\"nStimuli\"])\n",
    "for uuid in range(0, len(fetched)):\n",
    "    for i in range(0, np.nanmax(nStimuli) + 1):\n",
    "        df.loc[(df[\"uuid\"] == uuid) & (df[\"nStimuli\"] == i), \"post0_x\"] = eval(\n",
    "            dataDict0[uuid][nStimuli[i]][0]\n",
    "        )[\"position\"][0]\n",
    "        df.loc[(df[\"uuid\"] == uuid) & (df[\"nStimuli\"] == i), \"post0_y\"] = eval(\n",
    "            dataDict0[uuid][nStimuli[i]][0]\n",
    "        )[\"position\"][1]\n",
    "        if i > 0 and i < np.max(nStimuli):\n",
    "            df.loc[(df[\"uuid\"] == uuid) & (df[\"nStimuli\"] == i), \"post1_x\"] = eval(\n",
    "                dataDict1[uuid][nStimuli[i]][0]\n",
    "            )[\"position\"][0]\n",
    "            df.loc[(df[\"uuid\"] == uuid) & (df[\"nStimuli\"] == i), \"post1_y\"] = eval(\n",
    "                dataDict1[uuid][nStimuli[i]][0]\n",
    "            )[\"position\"][1]\n",
    "\n",
    "# initialise rotation of tracks and posts\n",
    "df[\"rotated_x\"] = df[\"rotated_y\"] = 0.0\n",
    "df[\"rotated_post0_x\"] = df[\"rotated_post0_y\"] = df[\"rotated_post1_x\"] = df[\n",
    "    \"rotated_post1_y\"\n",
    "] = 0.0\n",
    "df[\"ang\"] = 0.0\n",
    "prerot_idx = 9 + 2 * nPosts\n",
    "postrot_idx = 9 + 2 * nPosts + 2 + 2 * nPosts"
   ]
  },
  {
   "cell_type": "code",
   "execution_count": 17,
   "metadata": {},
   "outputs": [
    {
     "data": {
      "application/javascript": [
       "\n",
       "            setTimeout(function() {\n",
       "                var nbb_cell_id = 17;\n",
       "                var nbb_formatted_code = \"# get rotation angle\\nfor uuid in range(0, len(fetched)):\\n    rot_post0_x = rot_post0[uuid][0]\\n    rot_post0_y = rot_post0[uuid][1]\\n    df.iloc[np.where(df[\\\"uuid\\\"] == uuid)[0], postrot_idx + 1] = np.arctan2(\\n        df.loc[df[\\\"uuid\\\"] == uuid, \\\"post0_y\\\"], df.loc[df[\\\"uuid\\\"] == uuid, \\\"post0_x\\\"]\\n    )\\n\\n# rotate tracks and posts (posts are now centred along positive x-axis)\\nfor uuid in range(0, len(fetched)):\\n    if len(np.unique(df.loc[df[\\\"uuid\\\"] == uuid, \\\"nStimuli\\\"])) != 0:\\n        for i in np.unique(df.loc[df[\\\"uuid\\\"] == uuid, \\\"nStimuli\\\"]):\\n            ang = np.unique(\\n                df.loc[(df[\\\"uuid\\\"] == uuid) & (df[\\\"nStimuli\\\"] == i), \\\"ang\\\"]\\n            )[0]\\n            if i > 0 and i < np.max(nStimuli):\\n                ang += (nPosts - 1) * eval(dataDict0[uuid][nStimuli[i]][0])[\\\"angle\\\"] / 2\\n\\n            rx, ry = rotate(\\n                np.array(\\n                    (\\n                        df.loc[(df[\\\"uuid\\\"] == uuid) & (df[\\\"nStimuli\\\"] == i), \\\"x\\\"],\\n                        df.loc[(df[\\\"uuid\\\"] == uuid) & (df[\\\"nStimuli\\\"] == i), \\\"y\\\"],\\n                    )\\n                ),\\n                ang,\\n            )\\n            df.loc[\\n                (df[\\\"uuid\\\"] == uuid) & (df[\\\"nStimuli\\\"] == i), \\\"rotated_x\\\"\\n            ] = np.squeeze(np.asarray(rx.T))\\n            df.loc[\\n                (df[\\\"uuid\\\"] == uuid) & (df[\\\"nStimuli\\\"] == i), \\\"rotated_y\\\"\\n            ] = np.squeeze(np.asarray(ry.T))\\n\\n            rp0x, rp0y = rotate(\\n                np.array(\\n                    (\\n                        df.loc[(df[\\\"uuid\\\"] == uuid) & (df[\\\"nStimuli\\\"] == i), \\\"post0_x\\\"],\\n                        df.loc[(df[\\\"uuid\\\"] == uuid) & (df[\\\"nStimuli\\\"] == i), \\\"post0_y\\\"],\\n                    )\\n                ),\\n                ang,\\n            )\\n            df.loc[\\n                (df[\\\"uuid\\\"] == uuid) & (df[\\\"nStimuli\\\"] == i), \\\"rotated_post0_x\\\"\\n            ] = np.squeeze(np.asarray(rp0x.T))\\n            df.loc[\\n                (df[\\\"uuid\\\"] == uuid) & (df[\\\"nStimuli\\\"] == i), \\\"rotated_post0_y\\\"\\n            ] = np.squeeze(np.asarray(rp0y.T))\\n\\n            rp1x, rp1y = rotate(\\n                np.array(\\n                    (\\n                        df.loc[(df[\\\"uuid\\\"] == uuid) & (df[\\\"nStimuli\\\"] == i), \\\"post1_x\\\"],\\n                        df.loc[(df[\\\"uuid\\\"] == uuid) & (df[\\\"nStimuli\\\"] == i), \\\"post1_y\\\"],\\n                    )\\n                ),\\n                ang,\\n            )\\n            df.loc[\\n                (df[\\\"uuid\\\"] == uuid) & (df[\\\"nStimuli\\\"] == i), \\\"rotated_post1_x\\\"\\n            ] = np.squeeze(np.asarray(rp1x.T))\\n            df.loc[\\n                (df[\\\"uuid\\\"] == uuid) & (df[\\\"nStimuli\\\"] == i), \\\"rotated_post1_y\\\"\\n            ] = np.squeeze(np.asarray(rp1y.T))\";\n",
       "                var nbb_cells = Jupyter.notebook.get_cells();\n",
       "                for (var i = 0; i < nbb_cells.length; ++i) {\n",
       "                    if (nbb_cells[i].input_prompt_number == nbb_cell_id) {\n",
       "                        nbb_cells[i].set_text(nbb_formatted_code);\n",
       "                        break;\n",
       "                    }\n",
       "                }\n",
       "            }, 500);\n",
       "            "
      ],
      "text/plain": [
       "<IPython.core.display.Javascript object>"
      ]
     },
     "metadata": {},
     "output_type": "display_data"
    }
   ],
   "source": [
    "# get rotation angle\n",
    "for uuid in range(0, len(fetched)):\n",
    "    rot_post0_x = rot_post0[uuid][0]\n",
    "    rot_post0_y = rot_post0[uuid][1]\n",
    "    df.iloc[np.where(df[\"uuid\"] == uuid)[0], postrot_idx + 1] = np.arctan2(\n",
    "        df.loc[df[\"uuid\"] == uuid, \"post0_y\"], df.loc[df[\"uuid\"] == uuid, \"post0_x\"]\n",
    "    )\n",
    "\n",
    "# rotate tracks and posts (posts are now centred along positive x-axis)\n",
    "for uuid in range(0, len(fetched)):\n",
    "    if len(np.unique(df.loc[df[\"uuid\"] == uuid, \"nStimuli\"])) != 0:\n",
    "        for i in np.unique(df.loc[df[\"uuid\"] == uuid, \"nStimuli\"]):\n",
    "            ang = np.unique(\n",
    "                df.loc[(df[\"uuid\"] == uuid) & (df[\"nStimuli\"] == i), \"ang\"]\n",
    "            )[0]\n",
    "            if i > 0 and i < np.max(nStimuli):\n",
    "                ang += (nPosts - 1) * eval(dataDict0[uuid][nStimuli[i]][0])[\"angle\"] / 2\n",
    "\n",
    "            rx, ry = rotate(\n",
    "                np.array(\n",
    "                    (\n",
    "                        df.loc[(df[\"uuid\"] == uuid) & (df[\"nStimuli\"] == i), \"x\"],\n",
    "                        df.loc[(df[\"uuid\"] == uuid) & (df[\"nStimuli\"] == i), \"y\"],\n",
    "                    )\n",
    "                ),\n",
    "                ang,\n",
    "            )\n",
    "            df.loc[\n",
    "                (df[\"uuid\"] == uuid) & (df[\"nStimuli\"] == i), \"rotated_x\"\n",
    "            ] = np.squeeze(np.asarray(rx.T))\n",
    "            df.loc[\n",
    "                (df[\"uuid\"] == uuid) & (df[\"nStimuli\"] == i), \"rotated_y\"\n",
    "            ] = np.squeeze(np.asarray(ry.T))\n",
    "\n",
    "            rp0x, rp0y = rotate(\n",
    "                np.array(\n",
    "                    (\n",
    "                        df.loc[(df[\"uuid\"] == uuid) & (df[\"nStimuli\"] == i), \"post0_x\"],\n",
    "                        df.loc[(df[\"uuid\"] == uuid) & (df[\"nStimuli\"] == i), \"post0_y\"],\n",
    "                    )\n",
    "                ),\n",
    "                ang,\n",
    "            )\n",
    "            df.loc[\n",
    "                (df[\"uuid\"] == uuid) & (df[\"nStimuli\"] == i), \"rotated_post0_x\"\n",
    "            ] = np.squeeze(np.asarray(rp0x.T))\n",
    "            df.loc[\n",
    "                (df[\"uuid\"] == uuid) & (df[\"nStimuli\"] == i), \"rotated_post0_y\"\n",
    "            ] = np.squeeze(np.asarray(rp0y.T))\n",
    "\n",
    "            rp1x, rp1y = rotate(\n",
    "                np.array(\n",
    "                    (\n",
    "                        df.loc[(df[\"uuid\"] == uuid) & (df[\"nStimuli\"] == i), \"post1_x\"],\n",
    "                        df.loc[(df[\"uuid\"] == uuid) & (df[\"nStimuli\"] == i), \"post1_y\"],\n",
    "                    )\n",
    "                ),\n",
    "                ang,\n",
    "            )\n",
    "            df.loc[\n",
    "                (df[\"uuid\"] == uuid) & (df[\"nStimuli\"] == i), \"rotated_post1_x\"\n",
    "            ] = np.squeeze(np.asarray(rp1x.T))\n",
    "            df.loc[\n",
    "                (df[\"uuid\"] == uuid) & (df[\"nStimuli\"] == i), \"rotated_post1_y\"\n",
    "            ] = np.squeeze(np.asarray(rp1y.T))"
   ]
  },
  {
   "cell_type": "code",
   "execution_count": 18,
   "metadata": {},
   "outputs": [
    {
     "data": {
      "application/javascript": [
       "\n",
       "            setTimeout(function() {\n",
       "                var nbb_cell_id = 18;\n",
       "                var nbb_formatted_code = \"p0_dist = np.sqrt((df[\\\"x\\\"] - df[\\\"post0_x\\\"]) ** 2 + (df[\\\"y\\\"] - df[\\\"post0_y\\\"]) ** 2)\\np1_dist = np.sqrt((df[\\\"x\\\"] - df[\\\"post1_x\\\"]) ** 2 + (df[\\\"y\\\"] - df[\\\"post1_y\\\"]) ** 2)\\nif nPosts == 2:\\n    df[\\\"dmin\\\"] = np.nanmin([p0_dist, p1_dist], axis=0)\\n    df[\\\"post\\\"] = 0\\n    df.loc[p1_dist < p0_dist, \\\"post\\\"] = 1\\nelse:\\n    p2_dist = np.sqrt((df[\\\"x\\\"] - df[\\\"post2_x\\\"]) ** 2 + (df[\\\"y\\\"] - df[\\\"post2_y\\\"]) ** 2)\\n    df[\\\"dmin\\\"] = np.nanmin([p0_dist, p1_dist, p2_dist], axis=0)\\n    df[\\\"post\\\"] = 0\\n    df.loc[(p1_dist < p0_dist) & (p1_dist < p2_dist), \\\"post\\\"] = 1\\n    df.loc[(p2_dist < p0_dist) & (p2_dist < p1_dist), \\\"post\\\"] = 2\";\n",
       "                var nbb_cells = Jupyter.notebook.get_cells();\n",
       "                for (var i = 0; i < nbb_cells.length; ++i) {\n",
       "                    if (nbb_cells[i].input_prompt_number == nbb_cell_id) {\n",
       "                        nbb_cells[i].set_text(nbb_formatted_code);\n",
       "                        break;\n",
       "                    }\n",
       "                }\n",
       "            }, 500);\n",
       "            "
      ],
      "text/plain": [
       "<IPython.core.display.Javascript object>"
      ]
     },
     "metadata": {},
     "output_type": "display_data"
    }
   ],
   "source": [
    "p0_dist = np.sqrt((df[\"x\"] - df[\"post0_x\"]) ** 2 + (df[\"y\"] - df[\"post0_y\"]) ** 2)\n",
    "p1_dist = np.sqrt((df[\"x\"] - df[\"post1_x\"]) ** 2 + (df[\"y\"] - df[\"post1_y\"]) ** 2)\n",
    "if nPosts == 2:\n",
    "    df[\"dmin\"] = np.nanmin([p0_dist, p1_dist], axis=0)\n",
    "    df[\"post\"] = 0\n",
    "    df.loc[p1_dist < p0_dist, \"post\"] = 1\n",
    "else:\n",
    "    p2_dist = np.sqrt((df[\"x\"] - df[\"post2_x\"]) ** 2 + (df[\"y\"] - df[\"post2_y\"]) ** 2)\n",
    "    df[\"dmin\"] = np.nanmin([p0_dist, p1_dist, p2_dist], axis=0)\n",
    "    df[\"post\"] = 0\n",
    "    df.loc[(p1_dist < p0_dist) & (p1_dist < p2_dist), \"post\"] = 1\n",
    "    df.loc[(p2_dist < p0_dist) & (p2_dist < p1_dist), \"post\"] = 2"
   ]
  },
  {
   "cell_type": "code",
   "execution_count": 19,
   "metadata": {},
   "outputs": [
    {
     "data": {
      "application/javascript": [
       "\n",
       "            setTimeout(function() {\n",
       "                var nbb_cell_id = 19;\n",
       "                var nbb_formatted_code = \"tmax = df.loc[:, [\\\"uuid\\\", \\\"nStimuli\\\", \\\"event\\\", \\\"t\\\"]]\\ntmax = tmax.groupby([\\\"uuid\\\", \\\"nStimuli\\\", \\\"event\\\"]).max().reset_index()\\ndmin = df.loc[:, [\\\"uuid\\\", \\\"nStimuli\\\", \\\"event\\\", \\\"t\\\", \\\"dmin\\\", \\\"post\\\"]]\\n\\ndists = pd.merge(tmax, dmin, how=\\\"left\\\")\\ndists = dists[dists[\\\"dmin\\\"] < 0.5]\\ndists = dists.loc[:, [\\\"uuid\\\", \\\"nStimuli\\\", \\\"event\\\"]]\\n\\ndf = pd.merge(dists, df, how=\\\"left\\\")\";\n",
       "                var nbb_cells = Jupyter.notebook.get_cells();\n",
       "                for (var i = 0; i < nbb_cells.length; ++i) {\n",
       "                    if (nbb_cells[i].input_prompt_number == nbb_cell_id) {\n",
       "                        nbb_cells[i].set_text(nbb_formatted_code);\n",
       "                        break;\n",
       "                    }\n",
       "                }\n",
       "            }, 500);\n",
       "            "
      ],
      "text/plain": [
       "<IPython.core.display.Javascript object>"
      ]
     },
     "metadata": {},
     "output_type": "display_data"
    }
   ],
   "source": [
    "tmax = df.loc[:, [\"uuid\", \"nStimuli\", \"event\", \"t\"]]\n",
    "tmax = tmax.groupby([\"uuid\", \"nStimuli\", \"event\"]).max().reset_index()\n",
    "dmin = df.loc[:, [\"uuid\", \"nStimuli\", \"event\", \"t\", \"dmin\", \"post\"]]\n",
    "\n",
    "dists = pd.merge(tmax, dmin, how=\"left\")\n",
    "dists = dists[dists[\"dmin\"] < 0.5]\n",
    "dists = dists.loc[:, [\"uuid\", \"nStimuli\", \"event\"]]\n",
    "\n",
    "df = pd.merge(dists, df, how=\"left\")"
   ]
  },
  {
   "cell_type": "code",
   "execution_count": 20,
   "metadata": {},
   "outputs": [
    {
     "data": {
      "application/javascript": [
       "\n",
       "            setTimeout(function() {\n",
       "                var nbb_cell_id = 20;\n",
       "                var nbb_formatted_code = \"tmp0 = df[df[\\\"nStimuli\\\"] == 0]\\ntmp1 = df[(df[\\\"nStimuli\\\"] > 0) & (df[\\\"nStimuli\\\"] < 4) & (df[\\\"angle\\\"] == angles[0])]\\ntmp2 = df[(df[\\\"nStimuli\\\"] > 0) & (df[\\\"nStimuli\\\"] < 4) & (df[\\\"angle\\\"] == angles[1])]\\ntmp3 = df[(df[\\\"nStimuli\\\"] > 0) & (df[\\\"nStimuli\\\"] < 4) & (df[\\\"angle\\\"] == angles[2])]\\ntmp4 = df[df[\\\"nStimuli\\\"] == 4]\";\n",
       "                var nbb_cells = Jupyter.notebook.get_cells();\n",
       "                for (var i = 0; i < nbb_cells.length; ++i) {\n",
       "                    if (nbb_cells[i].input_prompt_number == nbb_cell_id) {\n",
       "                        nbb_cells[i].set_text(nbb_formatted_code);\n",
       "                        break;\n",
       "                    }\n",
       "                }\n",
       "            }, 500);\n",
       "            "
      ],
      "text/plain": [
       "<IPython.core.display.Javascript object>"
      ]
     },
     "metadata": {},
     "output_type": "display_data"
    }
   ],
   "source": [
    "tmp0 = df[df[\"nStimuli\"] == 0]\n",
    "tmp1 = df[(df[\"nStimuli\"] > 0) & (df[\"nStimuli\"] < 4) & (df[\"angle\"] == angles[0])]\n",
    "tmp2 = df[(df[\"nStimuli\"] > 0) & (df[\"nStimuli\"] < 4) & (df[\"angle\"] == angles[1])]\n",
    "tmp3 = df[(df[\"nStimuli\"] > 0) & (df[\"nStimuli\"] < 4) & (df[\"angle\"] == angles[2])]\n",
    "tmp4 = df[df[\"nStimuli\"] == 4]"
   ]
  },
  {
   "cell_type": "code",
   "execution_count": 21,
   "metadata": {},
   "outputs": [
    {
     "name": "stdout",
     "output_type": "stream",
     "text": [
      "True\n",
      "True\n",
      "True\n",
      "True\n"
     ]
    },
    {
     "data": {
      "application/javascript": [
       "\n",
       "            setTimeout(function() {\n",
       "                var nbb_cell_id = 21;\n",
       "                var nbb_formatted_code = \"x2s = np.array(tmp2[\\\"rotated_x\\\"])\\ny2s = np.array(tmp2[\\\"rotated_y\\\"])\\n\\nprint(round(post0_x, 3) == round(np.unique(tmp2[\\\"rotated_post0_x\\\"])[0], 3))\\nprint(round(post0_y, 3) == round(np.unique(tmp2[\\\"rotated_post0_y\\\"])[0], 3))\\n\\nprint(round(post1_x, 3) == round(np.unique(tmp2[\\\"rotated_post1_x\\\"])[0], 3))\\nprint(round(post1_y, 3) == round(np.unique(tmp2[\\\"rotated_post1_y\\\"])[0], 3))\";\n",
       "                var nbb_cells = Jupyter.notebook.get_cells();\n",
       "                for (var i = 0; i < nbb_cells.length; ++i) {\n",
       "                    if (nbb_cells[i].input_prompt_number == nbb_cell_id) {\n",
       "                        nbb_cells[i].set_text(nbb_formatted_code);\n",
       "                        break;\n",
       "                    }\n",
       "                }\n",
       "            }, 500);\n",
       "            "
      ],
      "text/plain": [
       "<IPython.core.display.Javascript object>"
      ]
     },
     "metadata": {},
     "output_type": "display_data"
    }
   ],
   "source": [
    "x2s = np.array(tmp2[\"rotated_x\"])\n",
    "y2s = np.array(tmp2[\"rotated_y\"])\n",
    "\n",
    "print(round(post0_x, 3) == round(np.unique(tmp2[\"rotated_post0_x\"])[0], 3))\n",
    "print(round(post0_y, 3) == round(np.unique(tmp2[\"rotated_post0_y\"])[0], 3))\n",
    "\n",
    "print(round(post1_x, 3) == round(np.unique(tmp2[\"rotated_post1_x\"])[0], 3))\n",
    "print(round(post1_y, 3) == round(np.unique(tmp2[\"rotated_post1_y\"])[0], 3))"
   ]
  },
  {
   "cell_type": "markdown",
   "metadata": {},
   "source": [
    "### Combine tracks and visualise"
   ]
  },
  {
   "cell_type": "code",
   "execution_count": 22,
   "metadata": {},
   "outputs": [
    {
     "data": {
      "application/javascript": [
       "\n",
       "            setTimeout(function() {\n",
       "                var nbb_cell_id = 22;\n",
       "                var nbb_formatted_code = \"xs = np.concatenate((x1s, x2s))\\nys = np.concatenate((y1s, y2s))\";\n",
       "                var nbb_cells = Jupyter.notebook.get_cells();\n",
       "                for (var i = 0; i < nbb_cells.length; ++i) {\n",
       "                    if (nbb_cells[i].input_prompt_number == nbb_cell_id) {\n",
       "                        nbb_cells[i].set_text(nbb_formatted_code);\n",
       "                        break;\n",
       "                    }\n",
       "                }\n",
       "            }, 500);\n",
       "            "
      ],
      "text/plain": [
       "<IPython.core.display.Javascript object>"
      ]
     },
     "metadata": {},
     "output_type": "display_data"
    }
   ],
   "source": [
    "xs = np.concatenate((x1s, x2s))\n",
    "ys = np.concatenate((y1s, y2s))"
   ]
  },
  {
   "cell_type": "code",
   "execution_count": 23,
   "metadata": {},
   "outputs": [
    {
     "data": {
      "application/javascript": [
       "\n",
       "            setTimeout(function() {\n",
       "                var nbb_cell_id = 23;\n",
       "                var nbb_formatted_code = \"nbins = 200\\npeak_threshold = 0.9\\n\\n\\ndef density_map(x, y, stats=True):\\n    val = 71\\n\\n    blur = (11, 11) if stats == True else (val, 51)\\n    r = [[0, post0_x], [post0_y, post1_y]]\\n\\n    h, xedge, yedge, image = plt.hist2d(x, y, bins=nbins, normed=True, range=r)\\n    tmp_img = np.flipud(np.rot90(cv2.GaussianBlur(h, blur, 0)))\\n\\n    for i in range(0, nbins):\\n        max_val = np.max(tmp_img[:, i])\\n        tmp_img[:, i] = tmp_img[:, i] / max_val\\n\\n    return tmp_img\";\n",
       "                var nbb_cells = Jupyter.notebook.get_cells();\n",
       "                for (var i = 0; i < nbb_cells.length; ++i) {\n",
       "                    if (nbb_cells[i].input_prompt_number == nbb_cell_id) {\n",
       "                        nbb_cells[i].set_text(nbb_formatted_code);\n",
       "                        break;\n",
       "                    }\n",
       "                }\n",
       "            }, 500);\n",
       "            "
      ],
      "text/plain": [
       "<IPython.core.display.Javascript object>"
      ]
     },
     "metadata": {},
     "output_type": "display_data"
    }
   ],
   "source": [
    "nbins = 200\n",
    "peak_threshold = 0.9\n",
    "\n",
    "\n",
    "def density_map(x, y, stats=True):\n",
    "    val = 71\n",
    "\n",
    "    blur = (11, 11) if stats == True else (val, 51)\n",
    "    r = [[0, post0_x], [post0_y, post1_y]]\n",
    "\n",
    "    h, xedge, yedge, image = plt.hist2d(x, y, bins=nbins, normed=True, range=r)\n",
    "    tmp_img = np.flipud(np.rot90(cv2.GaussianBlur(h, blur, 0)))\n",
    "\n",
    "    for i in range(0, nbins):\n",
    "        max_val = np.max(tmp_img[:, i])\n",
    "        tmp_img[:, i] = tmp_img[:, i] / max_val\n",
    "\n",
    "    return tmp_img"
   ]
  },
  {
   "cell_type": "code",
   "execution_count": 24,
   "metadata": {},
   "outputs": [
    {
     "name": "stderr",
     "output_type": "stream",
     "text": [
      "/home/user/.local/lib/python3.6/site-packages/ipykernel_launcher.py:11: MatplotlibDeprecationWarning: The 'normed' parameter of hist2d() has been renamed 'density' since Matplotlib 3.1; support for the old name will be dropped in 3.3.\n",
      "  # This is added back by InteractiveShellApp.init_path()\n"
     ]
    },
    {
     "data": {
      "image/png": "[encoded data removed]",
      "text/plain": [
       "<Figure size 432x288 with 1 Axes>"
      ]
     },
     "metadata": {},
     "output_type": "display_data"
    },
    {
     "data": {
      "application/javascript": [
       "\n",
       "            setTimeout(function() {\n",
       "                var nbb_cell_id = 24;\n",
       "                var nbb_formatted_code = \"img = density_map(xs, ys, stats=False)\\n\\nx_peaks = np.where(img > peak_threshold)[1] * post0_x / nbins\\ny_peaks = np.where(img > peak_threshold)[0] * (post0_y - post1_y) / nbins + post1_y\";\n",
       "                var nbb_cells = Jupyter.notebook.get_cells();\n",
       "                for (var i = 0; i < nbb_cells.length; ++i) {\n",
       "                    if (nbb_cells[i].input_prompt_number == nbb_cell_id) {\n",
       "                        nbb_cells[i].set_text(nbb_formatted_code);\n",
       "                        break;\n",
       "                    }\n",
       "                }\n",
       "            }, 500);\n",
       "            "
      ],
      "text/plain": [
       "<IPython.core.display.Javascript object>"
      ]
     },
     "metadata": {},
     "output_type": "display_data"
    }
   ],
   "source": [
    "img = density_map(xs, ys, stats=False)\n",
    "\n",
    "x_peaks = np.where(img > peak_threshold)[1] * post0_x / nbins\n",
    "y_peaks = np.where(img > peak_threshold)[0] * (post0_y - post1_y) / nbins + post1_y"
   ]
  },
  {
   "cell_type": "code",
   "execution_count": 25,
   "metadata": {},
   "outputs": [
    {
     "data": {
      "text/plain": [
       "([<matplotlib.axis.YTick at 0x7fa8b35a9198>,\n",
       "  <matplotlib.axis.YTick at 0x7fa8b2f7e320>,\n",
       "  <matplotlib.axis.YTick at 0x7fa8b30e1ac8>],\n",
       " <a list of 3 Text yticklabel objects>)"
      ]
     },
     "execution_count": 25,
     "metadata": {},
     "output_type": "execute_result"
    },
    {
     "data": {
      "image/png": "[encoded data removed]",
      "text/plain": [
       "<Figure size 133.039x110.213 with 1 Axes>"
      ]
     },
     "metadata": {},
     "output_type": "display_data"
    },
    {
     "data": {
      "application/javascript": [
       "\n",
       "            setTimeout(function() {\n",
       "                var nbb_cell_id = 25;\n",
       "                var nbb_formatted_code = \"fig, ax = plt.subplots(1, 1, figsize=(post0_x, post1_y * 2))\\nplt.imshow(img ** 2, extent=[0, post0_x, post0_y, post1_y])\\nplt.xticks([0, 0.5, 1, 1.5])\\nplt.yticks([-0.4, 0, 0.4])\";\n",
       "                var nbb_cells = Jupyter.notebook.get_cells();\n",
       "                for (var i = 0; i < nbb_cells.length; ++i) {\n",
       "                    if (nbb_cells[i].input_prompt_number == nbb_cell_id) {\n",
       "                        nbb_cells[i].set_text(nbb_formatted_code);\n",
       "                        break;\n",
       "                    }\n",
       "                }\n",
       "            }, 500);\n",
       "            "
      ],
      "text/plain": [
       "<IPython.core.display.Javascript object>"
      ]
     },
     "metadata": {},
     "output_type": "display_data"
    }
   ],
   "source": [
    "fig, ax = plt.subplots(1, 1, figsize=(post0_x, post1_y * 2))\n",
    "plt.imshow(img ** 2, extent=[0, post0_x, post0_y, post1_y])\n",
    "plt.xticks([0, 0.5, 1, 1.5])\n",
    "plt.yticks([-0.4, 0, 0.4])"
   ]
  },
  {
   "cell_type": "markdown",
   "metadata": {},
   "source": [
    "### Identify bifurcation point using a piecewise phase-transition function"
   ]
  },
  {
   "cell_type": "markdown",
   "metadata": {},
   "source": [
    "#### Get first bifurcation point (randomisations)\n",
    "We cannot produce a reasonable bifurcation post randomisations. Our results are statistically significant and cannot be produced with randomised trajectory points."
   ]
  },
  {
   "cell_type": "code",
   "execution_count": 26,
   "metadata": {},
   "outputs": [
    {
     "data": {
      "application/javascript": [
       "\n",
       "            setTimeout(function() {\n",
       "                var nbb_cell_id = 26;\n",
       "                var nbb_formatted_code = \"def fitfunc(x, p, q, r):\\n    return r * (np.abs((x - p)) ** q)\\n\\n\\ndef fitfunc_vec_self(x, p, q, r):\\n    y = np.zeros(x.shape)\\n    for i in range(len(y)):\\n        y[i] = fitfunc(x[i], p, q, r)\\n    return y\";\n",
       "                var nbb_cells = Jupyter.notebook.get_cells();\n",
       "                for (var i = 0; i < nbb_cells.length; ++i) {\n",
       "                    if (nbb_cells[i].input_prompt_number == nbb_cell_id) {\n",
       "                        nbb_cells[i].set_text(nbb_formatted_code);\n",
       "                        break;\n",
       "                    }\n",
       "                }\n",
       "            }, 500);\n",
       "            "
      ],
      "text/plain": [
       "<IPython.core.display.Javascript object>"
      ]
     },
     "metadata": {},
     "output_type": "display_data"
    }
   ],
   "source": [
    "def fitfunc(x, p, q, r):\n",
    "    return r * (np.abs((x - p)) ** q)\n",
    "\n",
    "\n",
    "def fitfunc_vec_self(x, p, q, r):\n",
    "    y = np.zeros(x.shape)\n",
    "    for i in range(len(y)):\n",
    "        y[i] = fitfunc(x[i], p, q, r)\n",
    "    return y"
   ]
  },
  {
   "cell_type": "code",
   "execution_count": 31,
   "metadata": {
    "scrolled": false
   },
   "outputs": [
    {
     "name": "stderr",
     "output_type": "stream",
     "text": [
      "/home/user/.local/lib/python3.6/site-packages/ipykernel_launcher.py:11: MatplotlibDeprecationWarning: The 'normed' parameter of hist2d() has been renamed 'density' since Matplotlib 3.1; support for the old name will be dropped in 3.3.\n",
      "  # This is added back by InteractiveShellApp.init_path()\n"
     ]
    },
    {
     "name": "stdout",
     "output_type": "stream",
     "text": [
      "100\n",
      "200\n",
      "300\n",
      "400\n",
      "500\n",
      "600\n",
      "700\n",
      "800\n",
      "900\n"
     ]
    },
    {
     "data": {
      "image/png": "[encoded data removed]",
      "text/plain": [
       "<Figure size 432x288 with 1 Axes>"
      ]
     },
     "metadata": {},
     "output_type": "display_data"
    },
    {
     "data": {
      "application/javascript": [
       "\n",
       "            setTimeout(function() {\n",
       "                var nbb_cell_id = 31;\n",
       "                var nbb_formatted_code = \"positive_bif = []\\n\\nwhile True:\\n    bif_pt = 0.8\\n    params1 = [1, 1, 1]\\n\\n    x_fit = []\\n    y_fit = []\\n\\n    x_sub = np.concatenate((xs, xs))\\n    y_sub = np.concatenate((ys, -ys))\\n    # np.random.shuffle(y_sub)\\n\\n    tmp_img = density_map(x_sub, y_sub, stats=True)\\n    x_fit = np.where(tmp_img > peak_threshold)[1] * post0_x / nbins\\n    y_fit = (\\n        np.where(tmp_img > peak_threshold)[0] * (post0_y - post1_y) / nbins + post1_y\\n    )\\n\\n    x_fit = x_fit\\n    y_fit = np.abs(y_fit)\\n    y_fit = y_fit[x_fit > bif_pt]\\n    x_fit = x_fit[x_fit > bif_pt]\\n\\n    try:\\n        for i in range(0, 10):\\n            fit_params, pcov = curve_fit(\\n                fitfunc_vec_self, x_fit, y_fit, p0=params1, maxfev=10000\\n            )\\n            params1 = fit_params\\n\\n        if (\\n            (params1[0] > 0)\\n            & (params1[0] < post0_x)\\n            & (params1[1] > 0.1)\\n            & (params1[2] > 0.1)\\n        ):\\n            positive_bif.append(1)\\n        else:\\n            positive_bif.append(0)\\n    except RuntimeError:\\n        pass\\n\\n    if len(positive_bif) >= randomisations:\\n        break\\n\\n    if len(positive_bif) % 100 == 0:\\n        print(len(positive_bif))\";\n",
       "                var nbb_cells = Jupyter.notebook.get_cells();\n",
       "                for (var i = 0; i < nbb_cells.length; ++i) {\n",
       "                    if (nbb_cells[i].input_prompt_number == nbb_cell_id) {\n",
       "                        nbb_cells[i].set_text(nbb_formatted_code);\n",
       "                        break;\n",
       "                    }\n",
       "                }\n",
       "            }, 500);\n",
       "            "
      ],
      "text/plain": [
       "<IPython.core.display.Javascript object>"
      ]
     },
     "metadata": {},
     "output_type": "display_data"
    }
   ],
   "source": [
    "positive_bif = []\n",
    "\n",
    "while True:\n",
    "    bif_pt = 0.8\n",
    "    params1 = [1, 1, 1]\n",
    "\n",
    "    x_fit = []\n",
    "    y_fit = []\n",
    "\n",
    "    x_sub = np.concatenate((xs, xs))\n",
    "    y_sub = np.concatenate((ys, -ys))\n",
    "    np.random.shuffle(y_sub)\n",
    "\n",
    "    tmp_img = density_map(x_sub, y_sub, stats=True)\n",
    "    x_fit = np.where(tmp_img > peak_threshold)[1] * post0_x / nbins\n",
    "    y_fit = (\n",
    "        np.where(tmp_img > peak_threshold)[0] * (post0_y - post1_y) / nbins + post1_y\n",
    "    )\n",
    "\n",
    "    x_fit = x_fit\n",
    "    y_fit = np.abs(y_fit)\n",
    "    y_fit = y_fit[x_fit > bif_pt]\n",
    "    x_fit = x_fit[x_fit > bif_pt]\n",
    "\n",
    "    try:\n",
    "        for i in range(0, 10):\n",
    "            fit_params, pcov = curve_fit(\n",
    "                fitfunc_vec_self, x_fit, y_fit, p0=params1, maxfev=10000\n",
    "            )\n",
    "            params1 = fit_params\n",
    "\n",
    "        if (\n",
    "            (params1[0] > 0)\n",
    "            & (params1[0] < post0_x)\n",
    "            & (params1[1] > 0.1)\n",
    "            & (params1[2] > 0.1)\n",
    "        ):\n",
    "            positive_bif.append(1)\n",
    "        else:\n",
    "            positive_bif.append(0)\n",
    "    except RuntimeError:\n",
    "        pass\n",
    "\n",
    "    if len(positive_bif) >= randomisations:\n",
    "        break\n",
    "\n",
    "    if len(positive_bif) % 100 == 0:\n",
    "        print(len(positive_bif))"
   ]
  },
  {
   "cell_type": "code",
   "execution_count": 32,
   "metadata": {},
   "outputs": [
    {
     "data": {
      "text/plain": [
       "(1.0, 1000)"
      ]
     },
     "execution_count": 32,
     "metadata": {},
     "output_type": "execute_result"
    },
    {
     "data": {
      "application/javascript": [
       "\n",
       "            setTimeout(function() {\n",
       "                var nbb_cell_id = 32;\n",
       "                var nbb_formatted_code = \"np.sum(positive_bif) / len(positive_bif), len(positive_bif)\";\n",
       "                var nbb_cells = Jupyter.notebook.get_cells();\n",
       "                for (var i = 0; i < nbb_cells.length; ++i) {\n",
       "                    if (nbb_cells[i].input_prompt_number == nbb_cell_id) {\n",
       "                        nbb_cells[i].set_text(nbb_formatted_code);\n",
       "                        break;\n",
       "                    }\n",
       "                }\n",
       "            }, 500);\n",
       "            "
      ],
      "text/plain": [
       "<IPython.core.display.Javascript object>"
      ]
     },
     "metadata": {},
     "output_type": "display_data"
    }
   ],
   "source": [
    "np.sum(positive_bif) / len(positive_bif), len(positive_bif)"
   ]
  },
  {
   "cell_type": "code",
   "execution_count": null,
   "metadata": {},
   "outputs": [],
   "source": []
  }
 ],
 "metadata": {
  "kernelspec": {
   "display_name": "Python 3",
   "language": "python",
   "name": "python3"
  },
  "language_info": {
   "codemirror_mode": {
    "name": "ipython",
    "version": 3
   },
   "file_extension": ".py",
   "mimetype": "text/x-python",
   "name": "python",
   "nbconvert_exporter": "python",
   "pygments_lexer": "ipython3",
   "version": "3.6.3"
  }
 },
 "nbformat": 4,
 "nbformat_minor": 2
}
